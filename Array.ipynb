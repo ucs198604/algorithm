{
 "cells": [
  {
   "cell_type": "code",
   "execution_count": 1,
   "metadata": {},
   "outputs": [],
   "source": [
    "from array import *"
   ]
  },
  {
   "cell_type": "code",
   "execution_count": 2,
   "metadata": {},
   "outputs": [],
   "source": [
    "# declare\n",
    "arr1 = array('u',['1','3','a','b'])"
   ]
  },
  {
   "cell_type": "code",
   "execution_count": 19,
   "metadata": {},
   "outputs": [],
   "source": [
    "arr1.insert(10,'b')"
   ]
  },
  {
   "cell_type": "code",
   "execution_count": 21,
   "metadata": {},
   "outputs": [
    {
     "data": {
      "text/plain": [
       "array('u', '13abb')"
      ]
     },
     "execution_count": 21,
     "metadata": {},
     "output_type": "execute_result"
    }
   ],
   "source": [
    "arr1"
   ]
  },
  {
   "cell_type": "code",
   "execution_count": 6,
   "metadata": {},
   "outputs": [
    {
     "name": "stdout",
     "output_type": "stream",
     "text": [
      "1\n",
      "3\n",
      "a\n",
      "b\n"
     ]
    }
   ],
   "source": [
    "def traverseArr(arr):\n",
    "    for i in arr:\n",
    "        print(i)\n",
    "traverseArr(arr1)"
   ]
  },
  {
   "cell_type": "code",
   "execution_count": 9,
   "metadata": {},
   "outputs": [
    {
     "data": {
      "text/plain": [
       "0"
      ]
     },
     "execution_count": 9,
     "metadata": {},
     "output_type": "execute_result"
    }
   ],
   "source": [
    "def searchArr(arr, value):\n",
    "    for ind, ele in enumerate(arr):\n",
    "        if ele == value:\n",
    "            return ind\n",
    "    return 'Not in the array'\n",
    "\n",
    "searchArr(arr1,'1')"
   ]
  },
  {
   "cell_type": "code",
   "execution_count": null,
   "metadata": {},
   "outputs": [],
   "source": [
    "def delElement(arr, value):\n",
    "    for ind, ele in enumerate(arr):\n",
    "        if ele == value:\n",
    "            return ind\n",
    "    return 'Not in the array'"
   ]
  },
  {
   "cell_type": "code",
   "execution_count": 37,
   "metadata": {},
   "outputs": [],
   "source": [
    "a1 = array('i',[1,2,3])\n",
    "a2 = array('i',[1,2,3])\n",
    "a1.extend(a2)"
   ]
  },
  {
   "cell_type": "code",
   "execution_count": 32,
   "metadata": {},
   "outputs": [
    {
     "data": {
      "text/plain": [
       "(140649249975952, 36)"
      ]
     },
     "execution_count": 32,
     "metadata": {},
     "output_type": "execute_result"
    }
   ],
   "source": [
    "a1.buffer_info()"
   ]
  },
  {
   "cell_type": "code",
   "execution_count": 30,
   "metadata": {},
   "outputs": [],
   "source": [
    "a1.extend(a2)"
   ]
  },
  {
   "cell_type": "code",
   "execution_count": 34,
   "metadata": {},
   "outputs": [
    {
     "data": {
      "text/plain": [
       "12"
      ]
     },
     "execution_count": 34,
     "metadata": {},
     "output_type": "execute_result"
    }
   ],
   "source": [
    "a1.count(1)"
   ]
  },
  {
   "cell_type": "code",
   "execution_count": 48,
   "metadata": {},
   "outputs": [
    {
     "data": {
      "text/plain": [
       "[1, 2, 3, 1, 2, 3]"
      ]
     },
     "execution_count": 48,
     "metadata": {},
     "output_type": "execute_result"
    }
   ],
   "source": [
    "a1.tolist()"
   ]
  },
  {
   "cell_type": "code",
   "execution_count": 47,
   "metadata": {},
   "outputs": [
    {
     "data": {
      "text/plain": [
       "array('i', [1, 2, 3, 1, 2, 3])"
      ]
     },
     "execution_count": 47,
     "metadata": {},
     "output_type": "execute_result"
    }
   ],
   "source": [
    "a3 = array('i')\n",
    "a3.fromstring(a1.tostring())\n",
    "a3"
   ]
  },
  {
   "cell_type": "code",
   "execution_count": 72,
   "metadata": {},
   "outputs": [],
   "source": [
    "import numpy as np\n",
    "\n",
    "np1 = np.array([[1,2,3],[4,5,6],[7,8,9]])"
   ]
  },
  {
   "cell_type": "code",
   "execution_count": 83,
   "metadata": {},
   "outputs": [],
   "source": [
    "np2 = np.delete(np1, 0,axis=0)"
   ]
  },
  {
   "cell_type": "code",
   "execution_count": 84,
   "metadata": {},
   "outputs": [
    {
     "data": {
      "text/plain": [
       "array([[4, 5, 6],\n",
       "       [7, 8, 9]])"
      ]
     },
     "execution_count": 84,
     "metadata": {},
     "output_type": "execute_result"
    }
   ],
   "source": [
    "np2"
   ]
  },
  {
   "cell_type": "code",
   "execution_count": 76,
   "metadata": {},
   "outputs": [
    {
     "data": {
      "text/plain": [
       "array([[1, 2, 3],\n",
       "       [4, 5, 6],\n",
       "       [7, 8, 9]])"
      ]
     },
     "execution_count": 76,
     "metadata": {},
     "output_type": "execute_result"
    }
   ],
   "source": [
    "np1"
   ]
  },
  {
   "cell_type": "markdown",
   "metadata": {},
   "source": [
    "### Python project for array - 1"
   ]
  },
  {
   "cell_type": "code",
   "execution_count": 94,
   "metadata": {},
   "outputs": [],
   "source": [
    "def temper(*days):\n",
    "    average = sum(days)/len(days)\n",
    "    count = 0\n",
    "    for i in days:\n",
    "        if i>average:\n",
    "            count+=1\n",
    "    print(f\"Average temp is {average}; {count} days above average\")"
   ]
  },
  {
   "cell_type": "code",
   "execution_count": 96,
   "metadata": {},
   "outputs": [
    {
     "name": "stdout",
     "output_type": "stream",
     "text": [
      "Average temp is 2.25; 3 days above average\n"
     ]
    }
   ],
   "source": [
    "temper(1,2,3,5,0,1,5,1)"
   ]
  },
  {
   "cell_type": "markdown",
   "metadata": {},
   "source": [
    "### Missing number\n",
    "- 1 to 100 integer, find the missing one"
   ]
  },
  {
   "cell_type": "code",
   "execution_count": 97,
   "metadata": {},
   "outputs": [],
   "source": [
    "# sum and minus? -> YES!!!\n",
    "\n"
   ]
  },
  {
   "cell_type": "markdown",
   "metadata": {},
   "source": [
    "### Find all pairs of integers whose sum is equal to a given number"
   ]
  },
  {
   "cell_type": "code",
   "execution_count": 107,
   "metadata": {},
   "outputs": [
    {
     "name": "stdout",
     "output_type": "stream",
     "text": [
      "0 7\n",
      "0 6\n",
      "1 5\n",
      "2 4\n",
      "3 4\n",
      "[(1, 5), (2, 4), (3, 3)]\n"
     ]
    }
   ],
   "source": [
    "arr = [1,2,3,2,3,4,5,6] \n",
    "\n",
    "# first sort\n",
    "arr.sort()\n",
    "num = 6\n",
    "candidate = []\n",
    "\n",
    "# then find element from 2 ends\n",
    "start = 0\n",
    "end = len(arr) -1\n",
    "while start<end:\n",
    "    print(start,end)\n",
    "    if arr[start]+arr[end] > num:\n",
    "        end-=1\n",
    "        continue\n",
    "    if arr[start]+arr[end] == num:\n",
    "        candidate.append((arr[start],arr[end]))\n",
    "        end-=1\n",
    "        start+=1\n",
    "        continue\n",
    "    if arr[start]+arr[end] < num:\n",
    "        start+=1\n",
    "        continue\n",
    "print(candidate)  \n"
   ]
  },
  {
   "cell_type": "markdown",
   "metadata": {},
   "source": [
    "### Find largest pair of product of two integer in the array\n",
    "- namely -> find the largest 2 elements"
   ]
  },
  {
   "cell_type": "code",
   "execution_count": 108,
   "metadata": {},
   "outputs": [
    {
     "name": "stdout",
     "output_type": "stream",
     "text": [
      "58 57\n"
     ]
    }
   ],
   "source": [
    "arr = [1,20,30,44,5,56,57,8,9,10,31,12,13,14,35,16,27,58,19,21]\n",
    "\n",
    "# sol 1: sort then find largest 2 elements\n",
    "# sol 2 trasverse through the list\n",
    "\n",
    "large1 = 0\n",
    "large2 = 0\n",
    "for num in arr:\n",
    "    if num>large1:\n",
    "        # 如果此數字 > large1, 則 large1 為此數字，而原本的 large1變成 large2\n",
    "        large1, large2 = num, large1\n",
    "    elif large1>num>large2:\n",
    "        large2 = num\n",
    "print(large1,large2)\n"
   ]
  },
  {
   "cell_type": "markdown",
   "metadata": {},
   "source": [
    "### If all elements are unique\n",
    "- "
   ]
  },
  {
   "cell_type": "code",
   "execution_count": 117,
   "metadata": {},
   "outputs": [
    {
     "name": "stdout",
     "output_type": "stream",
     "text": [
      "21 location 6 20\n",
      "21\n"
     ]
    }
   ],
   "source": [
    "arr = [1,20,30,44,5,56,21,57,8,9,10,31,12,13,14,35,16,27,58,19,21]\n",
    "\n",
    "# sol 1: sort and then use interval of 2\n",
    "# sol 2: i = 0 to len(n), j=i to len(n)\n",
    "# sol 3: set if len remain the same\n",
    "\n",
    "# sol 4:\n",
    "# O(n*(n-1)/2)\n",
    "# use i as an anchor, then move forward\n",
    "# compare n elements, if its in a n->0 elements list\n",
    "for i in range(len(arr)-1):\n",
    "    for j in range(i+1,len(arr)):\n",
    "        if arr[i]==arr[j]:\n",
    "            print(arr[i],'location',i,j)\n",
    "            # return False\n",
    "            \n",
    "# sol 5:\n",
    "# \n",
    "templist =[]\n",
    "for i in arr:\n",
    "    # iterate through all elements\n",
    "    if i in templist:\n",
    "        # find if in a list, which grows from 0 to n\n",
    "        print(i)\n",
    "        # return False\n",
    "    else:\n",
    "        templist.append(i)\n"
   ]
  },
  {
   "cell_type": "code",
   "execution_count": 118,
   "metadata": {},
   "outputs": [
    {
     "data": {
      "text/plain": [
       "21"
      ]
     },
     "execution_count": 118,
     "metadata": {},
     "output_type": "execute_result"
    }
   ],
   "source": [
    "d"
   ]
  },
  {
   "cell_type": "markdown",
   "metadata": {},
   "source": [
    "### Check if 2 list are permutation each other\n"
   ]
  },
  {
   "cell_type": "code",
   "execution_count": null,
   "metadata": {},
   "outputs": [],
   "source": [
    "arr1 = [1,2,3]\n",
    "arr2 = [3,2,1]\n",
    "\n",
    "# sol 1: sort and compare"
   ]
  },
  {
   "cell_type": "markdown",
   "metadata": {},
   "source": [
    "### Rotate nxn matrix to 90 degree\n",
    "- solution 1\n",
    "- create empty template\n"
   ]
  },
  {
   "cell_type": "code",
   "execution_count": 183,
   "metadata": {},
   "outputs": [
    {
     "name": "stdout",
     "output_type": "stream",
     "text": [
      "[[None, None, None], [None, None, None], [None, None, None], [None, None, None]]\n"
     ]
    },
    {
     "data": {
      "text/plain": [
       "[[7, 4, 1], [8, 5, 2], [9, 6, 3], [8, 7, 4]]"
      ]
     },
     "execution_count": 183,
     "metadata": {},
     "output_type": "execute_result"
    }
   ],
   "source": [
    "arr1 = [[1,2,3,4],\n",
    "       [4,5,6,7],\n",
    "       [7,8,9,8]]\n",
    "\n",
    "def rotate_90(arr):\n",
    "    # create an empty list, nxm to mxn\n",
    "    #  能用這樣生成 list, 記憶體會共用\n",
    "    # arr2 = [['']*len(arr)] * len(arr[0]) \n",
    "    # this would be correct\n",
    "    arr2 = [[None for j in range(len(arr1))] for i in range(len(arr1[0]))]\n",
    "    \n",
    "    for row in range(len(arr)):\n",
    "        for col in range(len(arr[0])):\n",
    "            arr2[col][-1*(row+1)] = arr[row][col]\n",
    "    return arr2\n",
    "\n",
    "rotate_90(arr1)"
   ]
  },
  {
   "cell_type": "markdown",
   "metadata": {},
   "source": [
    "### Rotate nxn matrix to 90 degree\n",
    "- solution 2, for N x N"
   ]
  },
  {
   "cell_type": "code",
   "execution_count": 188,
   "metadata": {
    "scrolled": true
   },
   "outputs": [
    {
     "ename": "NameError",
     "evalue": "name 'layers' is not defined",
     "output_type": "error",
     "traceback": [
      "\u001b[0;31m---------------------------------------------------------------------------\u001b[0m",
      "\u001b[0;31mNameError\u001b[0m                                 Traceback (most recent call last)",
      "\u001b[0;32m<ipython-input-188-4e3e77279424>\u001b[0m in \u001b[0;36m<module>\u001b[0;34m\u001b[0m\n\u001b[0;32m----> 1\u001b[0;31m \u001b[0mlayers\u001b[0m\u001b[0;34m\u001b[0m\u001b[0;34m\u001b[0m\u001b[0m\n\u001b[0m",
      "\u001b[0;31mNameError\u001b[0m: name 'layers' is not defined"
     ]
    }
   ],
   "source": [
    "layers"
   ]
  },
  {
   "cell_type": "code",
   "execution_count": null,
   "metadata": {},
   "outputs": [],
   "source": []
  },
  {
   "cell_type": "code",
   "execution_count": 193,
   "metadata": {},
   "outputs": [
    {
     "name": "stdout",
     "output_type": "stream",
     "text": [
      "2\n",
      "0 0\n",
      "0 1\n",
      "1 1\n"
     ]
    },
    {
     "data": {
      "text/plain": [
       "[[1, 3, 3], [4, 8, 5], [7, 9, 6]]"
      ]
     },
     "execution_count": 193,
     "metadata": {},
     "output_type": "execute_result"
    }
   ],
   "source": [
    "arr1 = [[1,2,3],\n",
    "       [4,5,6],\n",
    "       [7,8,9]]\n",
    "\n",
    "def rotate_90(arr):\n",
    "    # 從最外圍開始，幾層\n",
    "    layers = len(arr)//2 +1\n",
    "    print(layers)\n",
    "    \n",
    "    for i in range(layers):\n",
    "        for j in range(i,layers):\n",
    "            print(i,j)\n",
    "            arr[i][j],arr[i][-j],arr[-i][-j],arr[-i][j] = arr[-i][j],arr[i][j],arr[i][-j],arr[-i][-j]\n",
    "    return arr\n",
    "    \n",
    "\n",
    "\n",
    "rotate_90(arr1)"
   ]
  },
  {
   "cell_type": "code",
   "execution_count": null,
   "metadata": {},
   "outputs": [],
   "source": []
  }
 ],
 "metadata": {
  "kernelspec": {
   "display_name": "Python 3",
   "language": "python",
   "name": "python3"
  },
  "language_info": {
   "codemirror_mode": {
    "name": "ipython",
    "version": 3
   },
   "file_extension": ".py",
   "mimetype": "text/x-python",
   "name": "python",
   "nbconvert_exporter": "python",
   "pygments_lexer": "ipython3",
   "version": "3.7.4"
  }
 },
 "nbformat": 4,
 "nbformat_minor": 4
}
