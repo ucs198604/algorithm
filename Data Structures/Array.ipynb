{
 "cells": [
  {
   "cell_type": "code",
   "execution_count": 1,
   "metadata": {},
   "outputs": [],
   "source": [
    "from array import *"
   ]
  },
  {
   "cell_type": "code",
   "execution_count": 2,
   "metadata": {},
   "outputs": [],
   "source": [
    "# declare\n",
    "arr1 = array('u',['1','3','a','b'])"
   ]
  },
  {
   "cell_type": "code",
   "execution_count": 19,
   "metadata": {},
   "outputs": [],
   "source": [
    "arr1.insert(10,'b')"
   ]
  },
  {
   "cell_type": "code",
   "execution_count": 21,
   "metadata": {},
   "outputs": [
    {
     "data": {
      "text/plain": [
       "array('u', '13abb')"
      ]
     },
     "execution_count": 21,
     "metadata": {},
     "output_type": "execute_result"
    }
   ],
   "source": [
    "arr1"
   ]
  },
  {
   "cell_type": "code",
   "execution_count": 6,
   "metadata": {},
   "outputs": [
    {
     "name": "stdout",
     "output_type": "stream",
     "text": [
      "1\n",
      "3\n",
      "a\n",
      "b\n"
     ]
    }
   ],
   "source": [
    "def traverseArr(arr):\n",
    "    for i in arr:\n",
    "        print(i)\n",
    "traverseArr(arr1)"
   ]
  },
  {
   "cell_type": "code",
   "execution_count": 9,
   "metadata": {},
   "outputs": [
    {
     "data": {
      "text/plain": [
       "0"
      ]
     },
     "execution_count": 9,
     "metadata": {},
     "output_type": "execute_result"
    }
   ],
   "source": [
    "def searchArr(arr, value):\n",
    "    for ind, ele in enumerate(arr):\n",
    "        if ele == value:\n",
    "            return ind\n",
    "    return 'Not in the array'\n",
    "\n",
    "searchArr(arr1,'1')"
   ]
  },
  {
   "cell_type": "code",
   "execution_count": null,
   "metadata": {},
   "outputs": [],
   "source": [
    "def delElement(arr, value):\n",
    "    for ind, ele in enumerate(arr):\n",
    "        if ele == value:\n",
    "            return ind\n",
    "    return 'Not in the array'"
   ]
  },
  {
   "cell_type": "markdown",
   "metadata": {},
   "source": [
    "### Python project for array - 1"
   ]
  },
  {
   "cell_type": "code",
   "execution_count": 94,
   "metadata": {},
   "outputs": [],
   "source": [
    "def temper(*days):\n",
    "    average = sum(days)/len(days)\n",
    "    count = 0\n",
    "    for i in days:\n",
    "        if i>average:\n",
    "            count+=1\n",
    "    print(f\"Average temp is {average}; {count} days above average\")"
   ]
  },
  {
   "cell_type": "code",
   "execution_count": 96,
   "metadata": {},
   "outputs": [
    {
     "name": "stdout",
     "output_type": "stream",
     "text": [
      "Average temp is 2.25; 3 days above average\n"
     ]
    }
   ],
   "source": [
    "temper(1,2,3,5,0,1,5,1)"
   ]
  },
  {
   "cell_type": "markdown",
   "metadata": {},
   "source": [
    "### Missing number\n",
    "- 1 to 100 integer, find the missing one"
   ]
  },
  {
   "cell_type": "code",
   "execution_count": 97,
   "metadata": {},
   "outputs": [],
   "source": [
    "# sum and minus? -> YES!!!\n",
    "\n"
   ]
  },
  {
   "cell_type": "markdown",
   "metadata": {},
   "source": [
    "### Find all pairs of integers whose sum is equal to a given number"
   ]
  },
  {
   "cell_type": "code",
   "execution_count": 107,
   "metadata": {},
   "outputs": [
    {
     "name": "stdout",
     "output_type": "stream",
     "text": [
      "0 7\n",
      "0 6\n",
      "1 5\n",
      "2 4\n",
      "3 4\n",
      "[(1, 5), (2, 4), (3, 3)]\n"
     ]
    }
   ],
   "source": [
    "arr = [1,2,3,2,3,4,5,6] \n",
    "\n",
    "# first sort\n",
    "arr.sort()\n",
    "num = 6\n",
    "candidate = []\n",
    "\n",
    "# then find element from 2 ends\n",
    "start = 0\n",
    "end = len(arr) -1\n",
    "while start<end:\n",
    "    print(start,end)\n",
    "    if arr[start]+arr[end] > num:\n",
    "        end-=1\n",
    "        continue\n",
    "    if arr[start]+arr[end] == num:\n",
    "        candidate.append((arr[start],arr[end]))\n",
    "        end-=1\n",
    "        start+=1\n",
    "        continue\n",
    "    if arr[start]+arr[end] < num:\n",
    "        start+=1\n",
    "        continue\n",
    "print(candidate)  \n"
   ]
  },
  {
   "cell_type": "markdown",
   "metadata": {},
   "source": [
    "### Find largest pair of product of two integer in the array\n",
    "- namely -> find the largest 2 elements"
   ]
  },
  {
   "cell_type": "code",
   "execution_count": 108,
   "metadata": {},
   "outputs": [
    {
     "name": "stdout",
     "output_type": "stream",
     "text": [
      "58 57\n"
     ]
    }
   ],
   "source": [
    "arr = [1,20,30,44,5,56,57,8,9,10,31,12,13,14,35,16,27,58,19,21]\n",
    "\n",
    "# sol 1: sort then find largest 2 elements\n",
    "# sol 2 trasverse through the list\n",
    "\n",
    "large1 = 0\n",
    "large2 = 0\n",
    "for num in arr:\n",
    "    if num>large1:\n",
    "        # 如果此數字 > large1, 則 large1 為此數字，而原本的 large1變成 large2\n",
    "        large1, large2 = num, large1\n",
    "    elif large1>num>large2:\n",
    "        large2 = num\n",
    "print(large1,large2)\n"
   ]
  },
  {
   "cell_type": "markdown",
   "metadata": {},
   "source": [
    "### If all elements are unique\n",
    "- "
   ]
  },
  {
   "cell_type": "code",
   "execution_count": 117,
   "metadata": {},
   "outputs": [
    {
     "name": "stdout",
     "output_type": "stream",
     "text": [
      "21 location 6 20\n",
      "21\n"
     ]
    }
   ],
   "source": [
    "arr = [1,20,30,44,5,56,21,57,8,9,10,31,12,13,14,35,16,27,58,19,21]\n",
    "\n",
    "# sol 1: sort and then use interval of 2\n",
    "# sol 2: i = 0 to len(n), j=i to len(n)\n",
    "# sol 3: set if len remain the same\n",
    "\n",
    "# sol 4:\n",
    "# O(n*(n-1)/2)\n",
    "# use i as an anchor, then move forward\n",
    "# compare n elements, if its in a n->0 elements list\n",
    "for i in range(len(arr)-1):\n",
    "    for j in range(i+1,len(arr)):\n",
    "        if arr[i]==arr[j]:\n",
    "            print(arr[i],'location',i,j)\n",
    "            # return False\n",
    "            \n",
    "# sol 5: use in \n",
    "templist =[]\n",
    "for i in arr:\n",
    "    # iterate through all elements\n",
    "    if i in templist:\n",
    "        # find if in a list, which grows from 0 to n\n",
    "        print(i)\n",
    "        # return False\n",
    "    else:\n",
    "        templist.append(i)\n"
   ]
  },
  {
   "cell_type": "code",
   "execution_count": 118,
   "metadata": {},
   "outputs": [
    {
     "data": {
      "text/plain": [
       "21"
      ]
     },
     "execution_count": 118,
     "metadata": {},
     "output_type": "execute_result"
    }
   ],
   "source": [
    "d"
   ]
  },
  {
   "cell_type": "markdown",
   "metadata": {},
   "source": [
    "### Check if 2 list are permutation each other\n"
   ]
  },
  {
   "cell_type": "code",
   "execution_count": null,
   "metadata": {},
   "outputs": [],
   "source": [
    "arr1 = [1,2,3]\n",
    "arr2 = [3,2,1]\n",
    "\n",
    "# sol 1: sort and compare"
   ]
  },
  {
   "cell_type": "markdown",
   "metadata": {},
   "source": [
    "### Rotate nxn matrix to 90 degree\n",
    "- solution 1\n",
    "- create empty template\n"
   ]
  },
  {
   "cell_type": "code",
   "execution_count": 183,
   "metadata": {},
   "outputs": [
    {
     "name": "stdout",
     "output_type": "stream",
     "text": [
      "[[None, None, None], [None, None, None], [None, None, None], [None, None, None]]\n"
     ]
    },
    {
     "data": {
      "text/plain": [
       "[[7, 4, 1], [8, 5, 2], [9, 6, 3], [8, 7, 4]]"
      ]
     },
     "execution_count": 183,
     "metadata": {},
     "output_type": "execute_result"
    }
   ],
   "source": [
    "arr1 = [[1,2,3,4],\n",
    "       [4,5,6,7],\n",
    "       [7,8,9,8]]\n",
    "\n",
    "def rotate_90(arr):\n",
    "    # create an empty list, nxm to mxn\n",
    "    #  能用這樣生成 list, 記憶體會共用\n",
    "    # arr2 = [['']*len(arr)] * len(arr[0]) \n",
    "    # this would be correct\n",
    "    arr2 = [[None for j in range(len(arr1))] for i in range(len(arr1[0]))]\n",
    "    \n",
    "    for row in range(len(arr)):\n",
    "        for col in range(len(arr[0])):\n",
    "            arr2[col][-1*(row+1)] = arr[row][col]\n",
    "    return arr2\n",
    "\n",
    "rotate_90(arr1)"
   ]
  },
  {
   "cell_type": "markdown",
   "metadata": {},
   "source": [
    "### Calculate sum of diagonal elemnts"
   ]
  },
  {
   "cell_type": "code",
   "execution_count": 3,
   "metadata": {},
   "outputs": [
    {
     "data": {
      "text/plain": [
       "15"
      ]
     },
     "execution_count": 3,
     "metadata": {},
     "output_type": "execute_result"
    }
   ],
   "source": [
    "lst = [[1,2,3],\n",
    "       [4,5,6],\n",
    "       [7,8,9]]\n",
    "# NxN \n",
    "\n",
    "def sumDiagonal(a):\n",
    "    layers = len(a)\n",
    "    total = 0\n",
    "    for i in range(layers):\n",
    "        total+=a[i][i]\n",
    "    return total\n",
    "sumDiagonal(lst)"
   ]
  },
  {
   "cell_type": "markdown",
   "metadata": {},
   "source": [
    "### Get best and second best score from a list"
   ]
  },
  {
   "cell_type": "code",
   "execution_count": 18,
   "metadata": {},
   "outputs": [
    {
     "data": {
      "text/plain": [
       "-inf"
      ]
     },
     "execution_count": 18,
     "metadata": {},
     "output_type": "execute_result"
    }
   ],
   "source": [
    "# expression of negative infinity\n",
    "float('-inf')"
   ]
  },
  {
   "cell_type": "code",
   "execution_count": 10,
   "metadata": {},
   "outputs": [
    {
     "data": {
      "text/plain": [
       "(3432, 435)"
      ]
     },
     "execution_count": 10,
     "metadata": {},
     "output_type": "execute_result"
    }
   ],
   "source": [
    "lst = [1,4,6,2,10,194,291,21,435,3432]\n",
    "\n",
    "def firstSecond(givenList):\n",
    "    first = -float('inf')\n",
    "    second = -float('inf')\n",
    "    \n",
    "    for ele in givenList:\n",
    "        if ele>first:\n",
    "            first, second = ele, first\n",
    "        elif ele>second:\n",
    "            second = ele\n",
    "    return first,second\n",
    "        \n",
    "firstSecond(lst)"
   ]
  },
  {
   "cell_type": "markdown",
   "metadata": {},
   "source": [
    "### Find missing number in an array\n",
    "* an array should be 1 to num, show what's missing\n",
    "* using sum and extract the sum of current array"
   ]
  },
  {
   "cell_type": "code",
   "execution_count": 13,
   "metadata": {},
   "outputs": [
    {
     "data": {
      "text/plain": [
       "5.0"
      ]
     },
     "execution_count": 13,
     "metadata": {},
     "output_type": "execute_result"
    }
   ],
   "source": [
    "lst = [1,2,3,4,6]\n",
    "num = 6\n",
    "\n",
    "def missingNumber(myList, totalCount):\n",
    "    total = totalCount * (totalCount+1) / 2\n",
    "    return total - sum(myList)\n",
    "\n",
    "missingNumber(lst,num)"
   ]
  },
  {
   "cell_type": "markdown",
   "metadata": {},
   "source": [
    "### Eliminate duplicated element "
   ]
  },
  {
   "cell_type": "code",
   "execution_count": 15,
   "metadata": {},
   "outputs": [
    {
     "data": {
      "text/plain": [
       "[1, 2, 3, 4, 6]"
      ]
     },
     "execution_count": 15,
     "metadata": {},
     "output_type": "execute_result"
    }
   ],
   "source": [
    "lst = [1,2,3,4,6,6]\n",
    "\n",
    "def removeDuplicates(myList):\n",
    "    tmpList = []\n",
    "    for item in myList:\n",
    "        if item not in tmpList:\n",
    "            tmpList.append(item)\n",
    "    return tmpList\n",
    "removeDuplicates(lst)"
   ]
  },
  {
   "cell_type": "markdown",
   "metadata": {},
   "source": [
    "### Pairs of numbers\n",
    "* pairs of integer equals to a certain number"
   ]
  },
  {
   "cell_type": "code",
   "execution_count": 17,
   "metadata": {},
   "outputs": [
    {
     "data": {
      "text/plain": [
       "['2+5', '4+3', '3+4', '-2+9']"
      ]
     },
     "execution_count": 17,
     "metadata": {},
     "output_type": "execute_result"
    }
   ],
   "source": [
    "lst = [2,4,3,5,6,-2,4,7,8,9]\n",
    "target = 7\n",
    "\n",
    "def pairSum(myList, target):\n",
    "    # i = 0->N-1, search pair with j from i+1->N 往後搜尋，不需要往前搜尋，因為會重複\n",
    "    match = []\n",
    "    for i in range(len(myList)-1):\n",
    "        for j in range(i+1,len(myList)):\n",
    "            if myList[i]+myList[j]==target:\n",
    "                match.append(f'{myList[i]}+{myList[j]}')\n",
    "    return match\n",
    "pairSum(lst,target)"
   ]
  },
  {
   "cell_type": "code",
   "execution_count": null,
   "metadata": {},
   "outputs": [],
   "source": []
  }
 ],
 "metadata": {
  "kernelspec": {
   "display_name": "Python 3",
   "language": "python",
   "name": "python3"
  },
  "language_info": {
   "codemirror_mode": {
    "name": "ipython",
    "version": 3
   },
   "file_extension": ".py",
   "mimetype": "text/x-python",
   "name": "python",
   "nbconvert_exporter": "python",
   "pygments_lexer": "ipython3",
   "version": "3.7.4"
  }
 },
 "nbformat": 4,
 "nbformat_minor": 4
}
