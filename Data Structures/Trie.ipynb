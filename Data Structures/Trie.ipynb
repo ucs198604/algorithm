{
 "cells": [
  {
   "cell_type": "markdown",
   "id": "d2eb501b-e5e8-48ea-bab1-a2653c18b16b",
   "metadata": {},
   "source": [
    "# Trie"
   ]
  },
  {
   "cell_type": "code",
   "execution_count": 292,
   "id": "d9506570-ed73-4b02-ac8b-324f1f97cac4",
   "metadata": {},
   "outputs": [],
   "source": [
    "# Creation of node\n",
    "class Trie():\n",
    "    def __init__(self):\n",
    "        self.root = Trie_node()\n",
    "        \n",
    "    def __str__(self):\n",
    "        return '\\n'.join(self.word_list())\n",
    "        \n",
    "    def word_list(self, current_node=None):\n",
    "        if current_node is None:\n",
    "            current_node = self.root\n",
    "        if len(self.root.children)==0:\n",
    "            return ''\n",
    "        return_list = []\n",
    "        # 如果目前node是end of string，則加入空白，好讓最後來新增目前的 chr\n",
    "        if current_node.is_eos==True:\n",
    "            return_list.append('')\n",
    "        for child_node in current_node.children.values():\n",
    "            return_list = return_list + self.word_list(child_node)\n",
    "        # 針對每個 return_list 的元素的前面，都加上目前的 character\n",
    "        for i in range(len(return_list)):\n",
    "            return_list[i] = current_node.chr + return_list[i]\n",
    "        return return_list\n",
    "        \n",
    "    def insert(self, string):\n",
    "        current_node = self.root  # start from root\n",
    "        for ch in string:\n",
    "            # 如果沒在連結字典裡面，則新增\n",
    "            if ch not in current_node.children:\n",
    "                new_node = Trie_node(ch)  # 建立一個 trie node\n",
    "                current_node.children[ch] = new_node  # 指定連結\n",
    "                current_node = new_node  # 下一個\n",
    "            else:\n",
    "                current_node = current_node.children[ch]  # 藉由連結字典，移動到下一個 node\n",
    "        current_node.is_eos = True  # 設定為一個字的結束\n",
    "                \n",
    "    # 尋找以 string 為開頭的所有單字\n",
    "    def search(self, string):\n",
    "        # initiate\n",
    "        current_node = self.root\n",
    "        for ch in string:\n",
    "            if ch not in current_node.children:\n",
    "                # 如果不在 children 裡面，則回報 false\n",
    "                return False\n",
    "            # 繼續下一個 node\n",
    "            current_node = current_node.children[ch]\n",
    "            \n",
    "        # current node開始，回傳所有以 string 為開頭的entry\n",
    "        search_list = []\n",
    "        # 新增自己為單字\n",
    "        if current_node.is_eos==True:\n",
    "            search_list.append('')\n",
    "        # 替每個 children搜尋\n",
    "        for child in current_node.children.values():\n",
    "            search_list = search_list + self.word_list(child)\n",
    "        # 在所有字句前面加入搜尋的string\n",
    "        for i in range(len(search_list)):\n",
    "            search_list[i] = string + search_list[i]\n",
    "        \n",
    "        return search_list\n",
    "            \n",
    "        \"\"\"        \n",
    "        # 要檢查是不是 eos，如果不是eos，其實不在裡面，只是有重複的 character而已\n",
    "        if current_node.is_eos==True:\n",
    "            return True\n",
    "        else:\n",
    "            return False\n",
    "        \"\"\"\n",
    "\n",
    "\n",
    "    \n",
    "    def delete(self, string, node=None, index=0):\n",
    "        no_left_child = False\n",
    "        # 要尋找的 character\n",
    "        ch = string[index] \n",
    "        if node is None:\n",
    "            node = self.root\n",
    "        # 從第0字元開始，看看有沒有在 children裡面，如果沒有則 raise exception \n",
    "        if ch not in node.children:\n",
    "            raise Exception('The entry does not exist')\n",
    "            \n",
    "        # 比當對到最後一字元，看看儲存最後一個字元的node是否為 end of string\n",
    "        # 如果不是，則表示沒有此單字\n",
    "        if index==len(string)-1:\n",
    "            if node.children[ch].is_eos==False:\n",
    "                raise Exception('The entry does not exist')\n",
    "            else:\n",
    "                # 有的話，執行刪除，標記它不是 end of string\n",
    "                node.children[ch].is_eos=False\n",
    "        else:\n",
    "            # 還沒到最後一個字元，判斷是否在字典裡 \n",
    "            # 從下一個 node 裡面，尋找下一個character，index+1\n",
    "            self.delete(string, node.children[ch], index+1)\n",
    "        \n",
    "        # 上面判斷是否存在還沒跑完之前，是不會到這裡來的\n",
    "        # 當前面刪除的工作做完了之後，接下來輪到在上一層的 node進行清理\n",
    "        # 每當有這種回到上一層的操作，就能使用 recursion\n",
    "        if node.children[ch].is_eos==False and len(node.children[ch].children)==0:\n",
    "            print(ch)\n",
    "            del node.children[ch]\n",
    "            \n",
    "        \n",
    "        # 也可以換個寫法，利用回傳no_left_child值判斷是否能刪除，比較精簡，也可以充分利用 recursion\n",
    "        # 但是我覺得這樣要在刪除 chilren 之後的這裡以及剛剛標記 is_eos 的後面判斷兩次，比較囉嗦\n",
    "        \n",
    "        # 這裡刪完了會回到上一個的recurion呼叫部分，再接到上一個 node的這裡，檢視是否需要留下被刪除的那個entry\n",
    "        # 比方說要刪除 love, 刪了 e會在v 的node裡面討論是不是需要刪除 children裡面的e\n",
    "        # 如果 e本身不是當自己為, is_eos==False而且 e下面也沒有再接其他字了，也就是 e.child是空的，那可以刪除\n",
    "        # 然後跳到 o node，會討論是否要刪 v node\n",
    "        # 回到 l node，會討論是否刪除 o node\n",
    "        # 回到 root node， 會討論是否要刪掉 l node\n",
    "     \n",
    "        \n",
    "class Trie_node():\n",
    "    def __init__(self, character=None):\n",
    "        if character is None:\n",
    "            character = ''\n",
    "        self.chr = character\n",
    "        self.children = {}  # 儲存跟下一個資料的連結\n",
    "        self.is_eos = False  # 是否為 end of string"
   ]
  },
  {
   "cell_type": "code",
   "execution_count": 293,
   "id": "f1b206f6-3594-4938-97da-859c16b6b6b0",
   "metadata": {},
   "outputs": [
    {
     "name": "stdout",
     "output_type": "stream",
     "text": [
      "1\n",
      "12\n",
      "123\n",
      "1234\n",
      "\n",
      "4\n",
      "1\n",
      "12\n",
      "123\n"
     ]
    }
   ],
   "source": [
    "t = Trie()\n",
    "t.insert('1')\n",
    "t.insert('12')\n",
    "t.insert('123')\n",
    "t.insert('1234')\n",
    "print(t)\n",
    "print()\n",
    "t.delete('1234')\n",
    "print(t)"
   ]
  },
  {
   "cell_type": "code",
   "execution_count": 289,
   "id": "82e007d0-1870-411a-ac12-e4566ee6ed0c",
   "metadata": {},
   "outputs": [
    {
     "data": {
      "text/plain": [
       "{}"
      ]
     },
     "execution_count": 289,
     "metadata": {},
     "output_type": "execute_result"
    }
   ],
   "source": [
    "t.root.children['1'].children['2'].children['3'].children"
   ]
  },
  {
   "cell_type": "code",
   "execution_count": null,
   "id": "5cfe6e58-f134-4c0d-90c1-bf0c42e92ffd",
   "metadata": {},
   "outputs": [],
   "source": []
  }
 ],
 "metadata": {
  "kernelspec": {
   "display_name": "Python 3",
   "language": "python",
   "name": "python3"
  },
  "language_info": {
   "codemirror_mode": {
    "name": "ipython",
    "version": 3
   },
   "file_extension": ".py",
   "mimetype": "text/x-python",
   "name": "python",
   "nbconvert_exporter": "python",
   "pygments_lexer": "ipython3",
   "version": "3.8.10"
  }
 },
 "nbformat": 4,
 "nbformat_minor": 5
}
