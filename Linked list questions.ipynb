{
 "cells": [
  {
   "cell_type": "markdown",
   "metadata": {},
   "source": [
    "## Linked list for problem sets"
   ]
  },
  {
   "cell_type": "code",
   "execution_count": 81,
   "metadata": {},
   "outputs": [],
   "source": [
    "import random\n",
    "\n",
    "class LinkedList():\n",
    "    def __init__(self, value=None):\n",
    "        self.head = None\n",
    "        self.tail = None\n",
    "        \n",
    "    def __iter__(self):\n",
    "        node = self.head\n",
    "        while node:\n",
    "            yield node\n",
    "            node = node.next\n",
    "            \n",
    "    def __str__(self):\n",
    "        values = [str(node.value) for node in self]\n",
    "        return '->'.join(values) if values else ''\n",
    "    \n",
    "    def __len__(self):\n",
    "        number_of_node = 0\n",
    "        node = self.head\n",
    "        while node:\n",
    "            number_of_node+=1\n",
    "            node = node.next\n",
    "        return number_of_node\n",
    "    \n",
    "    # append to end\n",
    "    def add(self, value):\n",
    "        new_node = Node(value)\n",
    "        if self.head is None:\n",
    "            self.head = new_node\n",
    "            self.tail = new_node\n",
    "        else:\n",
    "            self.tail.next = new_node\n",
    "            new_node.prev = self.tail\n",
    "            self.tail = new_node\n",
    "        return self.tail\n",
    "            \n",
    "    # to generate num of nodes in the list, with min/max values\n",
    "    def generate(self, num, min_value, max_value):\n",
    "        self.head = None\n",
    "        self.tail = None\n",
    "        \n",
    "        for i in range(num):\n",
    "            new_value = random.randint(min_value,max_value)\n",
    "            self.add(new_value)\n",
    "        return self\n",
    "        \n",
    "class Node():\n",
    "    def __init__(self, value=None):\n",
    "        self.value = value\n",
    "        self.next = None\n",
    "        self.prev = None\n",
    "    \n",
    "    # print function\n",
    "    def __str__(self):\n",
    "        return str(self.value)"
   ]
  },
  {
   "cell_type": "markdown",
   "metadata": {},
   "source": [
    "## Remove duplication in a list"
   ]
  },
  {
   "cell_type": "code",
   "execution_count": 82,
   "metadata": {},
   "outputs": [
    {
     "name": "stdout",
     "output_type": "stream",
     "text": [
      "10->8->10->9->4->2->5->9->2->5->4->7->10->4->4->2->2->6->1->2->1->2->7->10->2->8->8->10->2->4->1->9->3->8->7->10->7->2->7->9->3->1->6->10->6->3->3->1->2->9->10->9->8->6->2->4->6->4->8->10->2->4->2->9->7->9->2->1->3->5->6->9->5->5->9->2->5->9->8->7->6->6->7->4->7->9->9->3->8->9->2->7->8->6->1->6->2->4->9->2\n",
      "10->8->9->4->2->5->7->6->1->3\n"
     ]
    }
   ],
   "source": [
    "# method1: throw values in to a list, if the value is in the list, then del\n",
    "# to delete -> unlink\n",
    "\n",
    "\n",
    "LL = LinkedList()\n",
    "LL.generate(100,1,10)\n",
    "print(LL)\n",
    "\n",
    "def removeDuplication(ll):\n",
    "    value_tank = []\n",
    "    for element in ll:\n",
    "        if element.value not in value_tank:\n",
    "            value_tank.append(element.value)\n",
    "        else:\n",
    "            prev_node = element.prev\n",
    "            next_node = element.next\n",
    "\n",
    "            # 要考慮 tail，因為沒有 None.next\n",
    "            # 不需要考慮 head，因為一開始，沒有 duplication 的問題\n",
    "            if element == ll.tail:\n",
    "                prev_node.next = None\n",
    "                ll.tail = prev_node\n",
    "            else:\n",
    "                prev_node.next = next_node\n",
    "                next_node.prev = prev_node\n",
    "    return ll\n",
    "        \n",
    "print(removeDuplication(LL))\n",
    "\n",
    "\n",
    "\n",
    "# method2: create new linked list, read value in a list, if its not in the list\n",
    "# then add in to the new linked list\n",
    "\n",
    "LL = LinkedList()\n",
    "LL.generate(100,1,10)\n",
    "print(LL)\n",
    "\n",
    "def removeDuplication2(ll):\n",
    "\n",
    "    new_LL = LinkedList()\n",
    "    value_tank = []\n",
    "    for element in ll:\n",
    "        if element.value not in value_tank:\n",
    "            value_tank.append(element.value)\n",
    "            new_LL.add(element.value)\n",
    "    return new_LL\n",
    "\n",
    "\n",
    "print(removeDuplication2(LL))"
   ]
  },
  {
   "cell_type": "code",
   "execution_count": 83,
   "metadata": {},
   "outputs": [
    {
     "name": "stdout",
     "output_type": "stream",
     "text": [
      "4->10->6->4->10->9->1->10->4->5->2->2->8->5->4->9->1->5->5->7->4->2->6->4->4->8->3->7->3->7->5->4->5->1->3->9->5->1->2->1->6->3->10->4->5->6->1->2->3->7->2->6->5->8->5->6->5->5->7->8->6->1->7->10->5->6->9->5->4->3->3->7->8->6->5->4->10->9->1->6->9->6->9->1->9->6->4->5->6->9->9->9->1->4->5->9->6->3->5->2\n",
      "4->10->6->9->1->5->2->8->7->3\n"
     ]
    }
   ],
   "source": [
    "# Create a list\n",
    "# Random generation\n",
    "\n",
    "\n",
    "\n"
   ]
  },
  {
   "cell_type": "markdown",
   "metadata": {},
   "source": [
    "## Return Nth to last"
   ]
  },
  {
   "cell_type": "code",
   "execution_count": 99,
   "metadata": {},
   "outputs": [
    {
     "name": "stdout",
     "output_type": "stream",
     "text": [
      "44->33->50->39->65->50->68->88->45->40\n",
      "45\n",
      "45\n",
      "45\n"
     ]
    }
   ],
   "source": [
    "\n",
    "\n",
    "# method 1 -> use node.prev N times, from tail\n",
    "# method 2 -> first all value in a list, then report from end\n",
    "# method 3 -> use len-n, the report value\n",
    "\n",
    "# ***method 4 -> double pointer method: set 2 pointers, n-1 apart, \n",
    "# then node.next together, till the latter one hit the tail, then the previous one is the answer\n",
    "\n",
    "# method 1\n",
    "def return_n_to_last(ll, n):\n",
    "    node = ll.tail\n",
    "    for i in range(n-1):\n",
    "        node = node.prev\n",
    "    return node.value\n",
    "\n",
    "\n",
    "# method 3\n",
    "def return_n_to_last2(ll,n):\n",
    "    target_num = len(ll)-n\n",
    "    \n",
    "    node = ll.head\n",
    "    for i in range(target_num):\n",
    "        node = node.next\n",
    "    return node.value\n",
    "\n",
    "\n",
    "# method 4, double pointer method\n",
    "def return_n_to_last3(ll,n):\n",
    "    pointer_head = ll.head\n",
    "    pointer_tail = ll.head\n",
    "    \n",
    "    for i in range(n-1):\n",
    "        pointer_tail = pointer_tail.next\n",
    "            \n",
    "    while pointer_tail!=ll.tail:\n",
    "        pointer_head = pointer_head.next\n",
    "        pointer_tail = pointer_tail.next\n",
    "    return pointer_head.value\n",
    "\n",
    "\n",
    "LL = LinkedList()\n",
    "LL.generate(10,1,100)\n",
    "print(LL)\n",
    "print(return_n_to_last(LL,2))\n",
    "print(return_n_to_last2(LL,2))\n",
    "print(return_n_to_last3(LL,2))\n"
   ]
  },
  {
   "cell_type": "markdown",
   "metadata": {},
   "source": [
    "## Partition at value of x\n",
    "- 將 value<x 的排在 value>=x 的之前"
   ]
  },
  {
   "cell_type": "code",
   "execution_count": 121,
   "metadata": {},
   "outputs": [
    {
     "name": "stdout",
     "output_type": "stream",
     "text": [
      "60->39->24->39->86->17->71->84->99->96\n"
     ]
    },
    {
     "data": {
      "text/plain": [
       "'24->17->60->39->39->86->71->84->99->96'"
      ]
     },
     "execution_count": 121,
     "metadata": {},
     "output_type": "execute_result"
    }
   ],
   "source": [
    "# Creation of a linked list\n",
    "class Node():\n",
    "    def __init__(self, value=None):\n",
    "        self.value = value\n",
    "        self.next = None\n",
    "\n",
    "class LList():\n",
    "    def __init__(self):\n",
    "        self.head = None\n",
    "        self.tail = None\n",
    "        \n",
    "    def add(self,value):\n",
    "        new_node = Node(value)\n",
    "\n",
    "        if self.head is None:\n",
    "            self.head = new_node\n",
    "            self.tail = new_node\n",
    "        else:\n",
    "            self.tail.next = new_node\n",
    "            self.tail = new_node\n",
    "    def gen(self, number, minimum, maximum):\n",
    "        # initialize\n",
    "        self.head = None\n",
    "        self.tail = None\n",
    "        for i in range(number):\n",
    "            add_value = random.randint(minimum,maximum)\n",
    "            self.add(add_value)\n",
    "    def __iter__(self):\n",
    "        node = self.head\n",
    "        while node:\n",
    "            yield node\n",
    "            node=node.next\n",
    "    def __str__(self):\n",
    "        values = [str(x.value) for x in self if x is not None]\n",
    "        return '->'.join(values)\n",
    "    \n",
    "LL = LList()\n",
    "LL.gen(10,1,100)\n",
    "print(LL)\n",
    "\n",
    "\n",
    "# method 1: 建立 temp list 1, store value<x,  建立 temp list 2, store value>=x, then combine\n",
    "\n",
    "def partition(ll, x):\n",
    "    node = ll.head\n",
    "    location = 0\n",
    "    LL_1 = LList()\n",
    "    LL_2 = LList()\n",
    "    \n",
    "    while node:        \n",
    "        if node.value<x:\n",
    "            LL_1.add(node.value)\n",
    "        else:\n",
    "            LL_2.add(node.value)\n",
    "        node = node.next\n",
    "    node = LL_2.head\n",
    "    while node:\n",
    "        LL_1.add(node.value)\n",
    "        node = node.next\n",
    "    return LL_1.__str__()\n",
    "\n",
    "\n",
    "# method 2: use original linked list，使用 head and tail and middle pointer\n",
    "#\n",
    "\n",
    "\n",
    "\n",
    "def partition2(ll,x):\n",
    "    current_node = ll.head\n",
    "    middle_pointer = ll.head\n",
    "    return_list = LList()\n",
    "    \n",
    "    while current_node:\n",
    "        if current_node.value<x:\n",
    "            return_list.add\n",
    "            middle_pointer = current_node\n",
    "        else:\n",
    "            # erase node, if head\n",
    "            if current_node==ll.head:\n",
    "                ll.head = current_node.next\n",
    "                ll.tail.next = current_node\n",
    "                current_node.next = None\n",
    "            else:\n",
    "                \n",
    "            \n",
    "            \n",
    "            return_list.append(current_node.value)\n",
    "\n",
    "partition(LL,25)"
   ]
  },
  {
   "cell_type": "code",
   "execution_count": null,
   "metadata": {},
   "outputs": [],
   "source": []
  }
 ],
 "metadata": {
  "kernelspec": {
   "display_name": "Python 3",
   "language": "python",
   "name": "python3"
  },
  "language_info": {
   "codemirror_mode": {
    "name": "ipython",
    "version": 3
   },
   "file_extension": ".py",
   "mimetype": "text/x-python",
   "name": "python",
   "nbconvert_exporter": "python",
   "pygments_lexer": "ipython3",
   "version": "3.7.4"
  }
 },
 "nbformat": 4,
 "nbformat_minor": 4
}
