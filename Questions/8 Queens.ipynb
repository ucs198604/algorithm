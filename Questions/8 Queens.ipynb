{
 "cells": [
  {
   "cell_type": "code",
   "execution_count": 66,
   "metadata": {},
   "outputs": [],
   "source": [
    "b0 = [[0,0,0,0,0,0,0,0],\n",
    "        [0,0,0,0,0,0,0,0],\n",
    "        [0,0,0,0,0,0,0,0],\n",
    "        [0,0,0,0,0,0,0,0],\n",
    "        [0,0,0,0,0,0,0,0],\n",
    "        [0,0,0,0,0,0,0,0],\n",
    "        [0,0,0,0,0,0,1,0],\n",
    "        [0,0,0,0,0,0,0,-1]]"
   ]
  },
  {
   "cell_type": "code",
   "execution_count": 54,
   "metadata": {},
   "outputs": [],
   "source": [
    "b = [[(r,c) for c in range(9)] for r in range(9)]"
   ]
  },
  {
   "cell_type": "code",
   "execution_count": 55,
   "metadata": {},
   "outputs": [
    {
     "data": {
      "text/plain": [
       "[[(0, 0), (0, 1), (0, 2), (0, 3), (0, 4), (0, 5), (0, 6), (0, 7), (0, 8)],\n",
       " [(1, 0), (1, 1), (1, 2), (1, 3), (1, 4), (1, 5), (1, 6), (1, 7), (1, 8)],\n",
       " [(2, 0), (2, 1), (2, 2), (2, 3), (2, 4), (2, 5), (2, 6), (2, 7), (2, 8)],\n",
       " [(3, 0), (3, 1), (3, 2), (3, 3), (3, 4), (3, 5), (3, 6), (3, 7), (3, 8)],\n",
       " [(4, 0), (4, 1), (4, 2), (4, 3), (4, 4), (4, 5), (4, 6), (4, 7), (4, 8)],\n",
       " [(5, 0), (5, 1), (5, 2), (5, 3), (5, 4), (5, 5), (5, 6), (5, 7), (5, 8)],\n",
       " [(6, 0), (6, 1), (6, 2), (6, 3), (6, 4), (6, 5), (6, 6), (6, 7), (6, 8)],\n",
       " [(7, 0), (7, 1), (7, 2), (7, 3), (7, 4), (7, 5), (7, 6), (7, 7), (7, 8)],\n",
       " [(8, 0), (8, 1), (8, 2), (8, 3), (8, 4), (8, 5), (8, 6), (8, 7), (8, 8)]]"
      ]
     },
     "execution_count": 55,
     "metadata": {},
     "output_type": "execute_result"
    }
   ],
   "source": [
    "b"
   ]
  },
  {
   "cell_type": "code",
   "execution_count": 67,
   "metadata": {},
   "outputs": [
    {
     "name": "stdout",
     "output_type": "stream",
     "text": [
      "\n",
      "        |    |    |    |    |    |    |   \n",
      "    ---------------------------------------\n",
      "        |    |    |    |    |    |    |   \n",
      "    ---------------------------------------\n",
      "        |    |    |    |    |    |    |   \n",
      "    ---------------------------------------\n",
      "        |    |    |    |    |    |    |   \n",
      "    ---------------------------------------\n",
      "        |    |    |    |    |    |    |   \n",
      "    ---------------------------------------\n",
      "        |    |    |    |    |    |    |   \n",
      "    ---------------------------------------\n",
      "        |    |    |    |    |    | ♕ |   \n",
      "    ---------------------------------------\n",
      "        |    |    |    |    |    |    | ｘ\n",
      "    \n",
      "    \n"
     ]
    }
   ],
   "source": [
    "display(b0)"
   ]
  },
  {
   "cell_type": "code",
   "execution_count": null,
   "metadata": {},
   "outputs": [],
   "source": [
    "def solve(board):\n",
    "    b0 = []\n",
    "    solutions = []\n",
    "    \n",
    "    if return\n",
    "    "
   ]
  },
  {
   "cell_type": "code",
   "execution_count": 63,
   "metadata": {},
   "outputs": [
    {
     "name": "stdout",
     "output_type": "stream",
     "text": [
      "{(7, 3), (4, 7), (1, 3), (3, 0), (0, 7), (2, 1), (3, 7), (2, 5), (5, 1), (0, 3), (2, 4), (7, 2), (4, 0), (1, 2), (1, 5), (5, 0), (0, 4), (3, 4), (4, 1), (3, 2), (5, 4), (7, 1), (4, 5), (1, 4), (2, 3), (0, 5), (4, 2), (1, 0), (5, 3), (0, 1), (3, 5), (2, 7), (7, 0), (3, 1), (7, 4), (2, 0), (4, 3), (1, 7), (5, 2), (0, 2)}\n"
     ]
    },
    {
     "data": {
      "text/plain": [
       "(7, 3)"
      ]
     },
     "execution_count": 63,
     "metadata": {},
     "output_type": "execute_result"
    }
   ],
   "source": [
    "get_ava(b0)"
   ]
  },
  {
   "cell_type": "code",
   "execution_count": 65,
   "metadata": {},
   "outputs": [
    {
     "name": "stdout",
     "output_type": "stream",
     "text": [
      "\n",
      "        |    |    |    |    |    |    |   \n",
      "    ---------------------------------------\n",
      "        |    |    |    |    |    |    |   \n",
      "    ---------------------------------------\n",
      "        |    |    |    |    |    |    |   \n",
      "    ---------------------------------------\n",
      "        |    |    |    |    |    |    |   \n",
      "    ---------------------------------------\n",
      "        |    |    |    |    |    |    |   \n",
      "    ---------------------------------------\n",
      "        |    |    |    |    |    |    |   \n",
      "    ---------------------------------------\n",
      "        |    |    |    |    |    | ♕ |   \n",
      "    ---------------------------------------\n",
      "        |    |    |    |    |    |    |   \n",
      "    \n",
      "    \n"
     ]
    }
   ],
   "source": [
    "display(b0)"
   ]
  },
  {
   "cell_type": "code",
   "execution_count": 69,
   "metadata": {},
   "outputs": [
    {
     "data": {
      "text/plain": [
       "7"
      ]
     },
     "execution_count": 69,
     "metadata": {},
     "output_type": "execute_result"
    }
   ],
   "source": [
    "-1%8"
   ]
  },
  {
   "cell_type": "code",
   "execution_count": 62,
   "metadata": {},
   "outputs": [],
   "source": [
    "def get_ava(board):\n",
    "    ava_location = {(r,c) for r in range(8) for c in range(8)}\n",
    "\n",
    "    for r in range(8):\n",
    "        for c in range(8):\n",
    "            if board[r][c]==1:\n",
    "                ava_location = ava_location-{(r,c)}\n",
    "                for i in range(8):\n",
    "                    ava_location = ava_location-{(r,i)}\n",
    "                    ava_location = ava_location-{(i,c)}\n",
    "                    ava_location = ava_location-{(r-i,c-i)} # +45 degree\n",
    "                    ava_location = ava_location-{(r+i,c+i)}\n",
    "                    ava_location = ava_location-{(r-i,c+i)} # -45 degree\n",
    "                    ava_location = ava_location-{(r+i,c-i)}\n",
    "    print(ava_location)\n",
    "    if len(ava_location)!=0:\n",
    "        return ava_location.pop()\n",
    "    else:\n",
    "        return None"
   ]
  },
  {
   "cell_type": "code",
   "execution_count": 64,
   "metadata": {},
   "outputs": [],
   "source": [
    "def display(board):\n",
    "    row = []\n",
    "    for r in board:\n",
    "        row.append(' | '.join(['♕' if i==1 else 'ｘ' if i==-1 else '  ' for i in r]))\n",
    "    ret = f\"\"\"\n",
    "     {row[0]}\n",
    "    ---------------------------------------\n",
    "     {row[1]}\n",
    "    ---------------------------------------\n",
    "     {row[2]}\n",
    "    ---------------------------------------\n",
    "     {row[3]}\n",
    "    ---------------------------------------\n",
    "     {row[4]}\n",
    "    ---------------------------------------\n",
    "     {row[5]}\n",
    "    ---------------------------------------\n",
    "     {row[6]}\n",
    "    ---------------------------------------\n",
    "     {row[7]}\n",
    "    \n",
    "    \"\"\"\n",
    "        \n",
    "    print(ret)\n",
    "    \n"
   ]
  },
  {
   "cell_type": "code",
   "execution_count": null,
   "metadata": {},
   "outputs": [],
   "source": []
  }
 ],
 "metadata": {
  "kernelspec": {
   "display_name": "Python 3",
   "language": "python",
   "name": "python3"
  },
  "language_info": {
   "codemirror_mode": {
    "name": "ipython",
    "version": 3
   },
   "file_extension": ".py",
   "mimetype": "text/x-python",
   "name": "python",
   "nbconvert_exporter": "python",
   "pygments_lexer": "ipython3",
   "version": "3.7.3"
  }
 },
 "nbformat": 4,
 "nbformat_minor": 4
}
