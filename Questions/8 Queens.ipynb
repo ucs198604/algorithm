{
 "cells": [
  {
   "cell_type": "code",
   "execution_count": 51,
   "metadata": {},
   "outputs": [],
   "source": [
    "b0 = [[0,0,0,0,0,0,0,0],\n",
    "        [0,0,0,0,0,0,0,0],\n",
    "        [0,0,0,0,0,0,0,0],\n",
    "        [0,0,0,0,0,0,0,0],\n",
    "        [0,0,0,0,0,0,0,0],\n",
    "        [0,0,0,0,0,0,0,0],\n",
    "        [0,0,0,0,0,0,0,0],\n",
    "        [0,0,0,0,0,0,0,0]]"
   ]
  },
  {
   "cell_type": "code",
   "execution_count": 2,
   "metadata": {},
   "outputs": [],
   "source": [
    "def is_win(board):\n",
    "    count =0\n",
    "    for r in range(8):\n",
    "        for c in range(8):\n",
    "            if board[r][c]==1:\n",
    "                count+=1\n",
    "    if count==8:\n",
    "        return True\n",
    "    else:\n",
    "        return False\n",
    "    "
   ]
  },
  {
   "cell_type": "code",
   "execution_count": 9,
   "metadata": {},
   "outputs": [
    {
     "data": {
      "text/plain": [
       "[]"
      ]
     },
     "execution_count": 9,
     "metadata": {},
     "output_type": "execute_result"
    }
   ],
   "source": [
    "solution"
   ]
  },
  {
   "cell_type": "code",
   "execution_count": 85,
   "metadata": {},
   "outputs": [],
   "source": [
    "solution = []\n",
    "\n",
    "def solve(board):\n",
    "    global solution\n",
    "    \n",
    "    ava_location_list, board_for_display = get_ava(board)\n",
    "    display(board_for_display)   \n",
    "        \n",
    "    if is_win==True:\n",
    "        solution.append(return_board)\n",
    "        return True\n",
    "    # not wining and no step\n",
    "    if len(ava_location_list)==0:\n",
    "        return False\n",
    "\n",
    "    # then keep solution\n",
    "    for location in ava_location_list:\n",
    "        #return_board = [[r for r in c] for c in board]\n",
    "        r,c = location\n",
    "        board[r][c] = 1\n",
    "        return_board = solve(board)\n",
    "        \n",
    "        #if board==True:\n",
    "        #    continue\n",
    "        if return_board==False:\n",
    "            board[r][c]=0\n",
    "        if return_board==True:\n",
    "            continue\n",
    "    return board\n",
    "        \n",
    "    "
   ]
  },
  {
   "cell_type": "code",
   "execution_count": 61,
   "metadata": {},
   "outputs": [
    {
     "data": {
      "text/plain": [
       "[]"
      ]
     },
     "execution_count": 61,
     "metadata": {},
     "output_type": "execute_result"
    }
   ],
   "source": [
    "solution"
   ]
  },
  {
   "cell_type": "code",
   "execution_count": 83,
   "metadata": {},
   "outputs": [
    {
     "data": {
      "text/plain": [
       "False"
      ]
     },
     "execution_count": 83,
     "metadata": {},
     "output_type": "execute_result"
    }
   ],
   "source": [
    "solution = []\n",
    "solve(b0)"
   ]
  },
  {
   "cell_type": "code",
   "execution_count": 57,
   "metadata": {},
   "outputs": [],
   "source": [
    "def get_ava(board):\n",
    "    ava_location = {(r,c) for r in range(8) for c in range(8)}\n",
    "    board_checked = [[-1 for i in range(8)] for j in range(8)] # -1 -> not avalible\n",
    "\n",
    "    for r in range(8):\n",
    "        for c in range(8):\n",
    "            if board[r][c]==1:\n",
    "                ava_location = ava_location-{(r,c)}\n",
    "                for i in range(8):\n",
    "                    ava_location = ava_location-{(r,i)}\n",
    "                    ava_location = ava_location-{(i,c)}\n",
    "                    ava_location = ava_location-{(r-i,c-i)} # +45 degree\n",
    "                    ava_location = ava_location-{(r+i,c+i)}\n",
    "                    ava_location = ava_location-{(r-i,c+i)} # -45 degree\n",
    "                    ava_location = ava_location-{(r+i,c-i)}\n",
    "    \n",
    "        \n",
    "    # print(board)\n",
    "    # print queen\n",
    "    ava_location = sorted(list(ava_location))\n",
    "    last_queen = 0\n",
    "    for r in range(8):\n",
    "        for c in range(8):\n",
    "            if board[r][c]==1:\n",
    "                board_checked[r][c]=1\n",
    "                last_queen = 8*r+c\n",
    "    for itm in ava_location:\n",
    "        r,c = itm\n",
    "        board_checked[r][c]=0\n",
    "                          \n",
    "    for r in range(8):\n",
    "        for c in range(8):\n",
    "            if 8*r+c<last_queen:\n",
    "                try:\n",
    "                    ava_location.remove((r,c))\n",
    "                except:\n",
    "                    pass\n",
    "    \n",
    "    \n",
    "    # count_avalible\n",
    "    if len(ava_location)+ sum([sum(r) for r in board]) <8:\n",
    "        ava_location = []\n",
    "    return (ava_location, board_checked)\n"
   ]
  },
  {
   "cell_type": "code",
   "execution_count": 76,
   "metadata": {},
   "outputs": [],
   "source": [
    "from IPython.display import clear_output\n",
    "def display(board):    \n",
    "    row = []\n",
    "    for r in board:\n",
    "        # 1 -> queen\n",
    "        # -1 -> not ava\n",
    "        # 0 -> blank\n",
    "        row.append(' | '.join(['♕' if i==1 else '**' if i==-1 else '  ' for i in r]))\n",
    "    ret = f\"\"\"\n",
    "     {row[0]}\n",
    "    ---------------------------------------\n",
    "     {row[1]}\n",
    "    ---------------------------------------\n",
    "     {row[2]}\n",
    "    ---------------------------------------\n",
    "     {row[3]}\n",
    "    ---------------------------------------\n",
    "     {row[4]}\n",
    "    ---------------------------------------\n",
    "     {row[5]}\n",
    "    ---------------------------------------\n",
    "     {row[6]}\n",
    "    ---------------------------------------\n",
    "     {row[7]}\n",
    "    \n",
    "    \"\"\"\n",
    "    \n",
    "    print(ret)\n",
    "    clear_output(wait='False')\n",
    "    \n"
   ]
  },
  {
   "cell_type": "code",
   "execution_count": null,
   "metadata": {},
   "outputs": [],
   "source": []
  }
 ],
 "metadata": {
  "kernelspec": {
   "display_name": "Python 3",
   "language": "python",
   "name": "python3"
  },
  "language_info": {
   "codemirror_mode": {
    "name": "ipython",
    "version": 3
   },
   "file_extension": ".py",
   "mimetype": "text/x-python",
   "name": "python",
   "nbconvert_exporter": "python",
   "pygments_lexer": "ipython3",
   "version": "3.7.3"
  }
 },
 "nbformat": 4,
 "nbformat_minor": 4
}
