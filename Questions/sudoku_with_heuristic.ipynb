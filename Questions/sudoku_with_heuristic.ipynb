{
 "cells": [
  {
   "cell_type": "code",
   "execution_count": 86,
   "metadata": {},
   "outputs": [],
   "source": [
    "initial_plate2 = [[5,3,0,0,7,0,0,0,0],\n",
    "        [6,0,0,1,9,5,0,0,0],\n",
    "        [0,9,8,0,0,0,0,6,0],\n",
    "        [8,0,0,0,6,0,0,0,3],\n",
    "        [4,0,0,8,0,3,0,0,1],\n",
    "        [7,0,0,0,2,0,0,0,6],\n",
    "        [0,6,0,0,0,0,2,8,0],\n",
    "        [0,0,0,4,1,9,0,0,5],\n",
    "        [0,0,0,0,8,0,0,7,9],]\n",
    "\n",
    "initial_plate3 = \\\n",
    "        [[5,4,0,0,2,0,8,0,6],\n",
    "        [0,1,9,0,0,7,0,0,3],\n",
    "        [0,0,0,3,0,0,2,1,0],\n",
    "        [9,0,0,4,0,5,0,2,0],\n",
    "        [0,0,1,0,0,0,6,0,4],\n",
    "        [6,0,4,0,3,2,0,8,0],\n",
    "        [0,6,0,0,0,0,1,9,0],\n",
    "        [4,0,2,0,0,9,0,0,5],\n",
    "        [0,9,0,0,7,0,4,0,2],]\n",
    "\n",
    "initial_plate_hard = \\\n",
    "        [[0,0,0,8,0,0,4,2,0],\n",
    "        [5,0,0,6,7,0,0,0,0],\n",
    "        [0,0,0,0,0,9,0,0,5],\n",
    "        [7,4,0,1,0,0,0,0,0],\n",
    "        [0,0,9,0,3,0,7,0,0],\n",
    "        [0,0,0,0,0,7,0,4,8],\n",
    "        [8,0,0,4,0,0,0,0,0],\n",
    "        [0,0,0,0,9,8,0,0,3],\n",
    "        [0,9,5,0,0,3,0,0,0],]\n",
    "\n",
    "# NYTimes Sudoku May 14, 2021\n",
    "hard_1 = ['000040000',\n",
    "         '000000000',\n",
    "         '160820900',\n",
    "         '509000008',\n",
    "         '000000100',\n",
    "         '000093604',\n",
    "         '010030070',\n",
    "         '020500040',\n",
    "         '750000001']\n",
    "hard_1 = [[int(v) for v in x] for x in hard_1]\n",
    "\n",
    "# Guardian hard\n",
    "initial_plate1 = ['005000900',\n",
    "                '004690100',\n",
    "                '790000000',\n",
    "                '010200003',\n",
    "                '070006080',\n",
    "                '000014602',\n",
    "                '230008000',\n",
    "                '000050007',\n",
    "                '000403010']\n",
    "initial_plate1 = [[int(v) for v in x] for x in initial_plate1]"
   ]
  },
  {
   "cell_type": "code",
   "execution_count": 17,
   "metadata": {},
   "outputs": [],
   "source": [
    "import timeit\n",
    "\n"
   ]
  },
  {
   "cell_type": "markdown",
   "metadata": {},
   "source": [
    "# 經直覺式解處理\n",
    "%%timeit\n",
    "solve(initial_plate2)\n",
    "90.4 ms ± 159 µs per loop (mean ± std. dev. of 7 runs, 10 loops each)"
   ]
  },
  {
   "cell_type": "markdown",
   "metadata": {},
   "source": [
    "# 未經直覺式解處理\n",
    "%%timeit\n",
    "solve(initial_plate2)\n",
    "353 ms ± 4.02 ms per loop (mean ± std. dev. of 7 runs, 1 loop each)"
   ]
  },
  {
   "cell_type": "markdown",
   "metadata": {},
   "source": [
    "# 經直覺式解處理\n",
    "%%timeit\n",
    "solve(initial_plate3)\n",
    "32.3 ms ± 269 µs per loop (mean ± std. dev. of 7 runs, 10 loops each)"
   ]
  },
  {
   "cell_type": "markdown",
   "metadata": {},
   "source": [
    "# 未經直覺式解處理\n",
    "%%timeit\n",
    "solve(initial_plate3)\n",
    "95.1 ms ± 254 µs per loop (mean ± std. dev. of 7 runs, 10 loops each)"
   ]
  },
  {
   "cell_type": "code",
   "execution_count": 22,
   "metadata": {},
   "outputs": [
    {
     "name": "stdout",
     "output_type": "stream",
     "text": [
      "94.3 ms ± 4.67 ms per loop (mean ± std. dev. of 7 runs, 10 loops each)\n"
     ]
    }
   ],
   "source": [
    "%%timeit\n",
    "solve(initial_plate2, heuristic_on=True)"
   ]
  },
  {
   "cell_type": "code",
   "execution_count": 21,
   "metadata": {},
   "outputs": [
    {
     "name": "stdout",
     "output_type": "stream",
     "text": [
      "477 ms ± 11.5 ms per loop (mean ± std. dev. of 7 runs, 1 loop each)\n"
     ]
    }
   ],
   "source": [
    "%%timeit\n",
    "solve(hard_1, heuristic_on=True)"
   ]
  },
  {
   "cell_type": "code",
   "execution_count": 90,
   "metadata": {},
   "outputs": [
    {
     "name": "stdout",
     "output_type": "stream",
     "text": [
      "\n",
      "    -------------------------\n",
      "    | 5 3 4 | 6 7 8 | 9 1 2 |\n",
      "    | 6 7 2 | 1 9 5 | 3 4 8 |\n",
      "    | 1 9 8 | 3 4 2 | 5 6 7 |\n",
      "    -------------------------\n",
      "    | 8 5 9 | 7 6 1 | 4 2 3 |\n",
      "    | 4 2 6 | 8 5 3 | 7 9 1 |\n",
      "    | 7 1 3 | 9 2 4 | 8 5 6 |\n",
      "    -------------------------\n",
      "    | 9 6 1 | 5 3 7 | 2 8 4 |\n",
      "    | 2 8 7 | 4 1 9 | 6 3 5 |\n",
      "    | 3 4 5 | 2 8 6 | 1 7 9 |\n",
      "    -------------------------\n"
     ]
    }
   ],
   "source": [
    "print(display(solve(initial_plate2, display_on=True,heuristic_on=True)))\n"
   ]
  },
  {
   "cell_type": "code",
   "execution_count": 30,
   "metadata": {},
   "outputs": [],
   "source": [
    "def display_control(p):\n",
    "    print(display(p))\n",
    "    clear_output(wait='False')\n",
    "    time.sleep(0.05)"
   ]
  },
  {
   "cell_type": "code",
   "execution_count": 91,
   "metadata": {},
   "outputs": [
    {
     "name": "stdout",
     "output_type": "stream",
     "text": [
      "[[3, 6, 5, 8, 2, 1, 9, 7, 4], [8, 2, 4, 6, 9, 7, 1, 3, 5], [7, 9, 1, 3, 4, 5, 8, 2, 6], [4, 1, 6, 2, 8, 9, 7, 5, 3], [9, 7, 2, 5, 3, 6, 4, 8, 1], [5, 8, 3, 7, 1, 4, 6, 9, 2], [2, 3, 7, 1, 6, 8, 5, 4, 9], [1, 4, 8, 9, 5, 2, 3, 6, 7], [6, 5, 9, 4, 7, 3, 2, 1, 8]]\n",
      "True\n",
      "[[5, 3, 4, 6, 7, 8, 9, 1, 2], [6, 7, 2, 1, 9, 5, 3, 4, 8], [1, 9, 8, 3, 4, 2, 5, 6, 7], [8, 5, 9, 7, 6, 1, 4, 2, 3], [4, 2, 6, 8, 5, 3, 7, 9, 1], [7, 1, 3, 9, 2, 4, 8, 5, 6], [9, 6, 1, 5, 3, 7, 2, 8, 4], [2, 8, 7, 4, 1, 9, 6, 3, 5], [3, 4, 5, 2, 8, 6, 1, 7, 9]]\n",
      "True\n",
      "[[5, 4, 3, 9, 2, 1, 8, 7, 6], [2, 1, 9, 6, 8, 7, 5, 4, 3], [8, 7, 6, 3, 5, 4, 2, 1, 9], [9, 8, 7, 4, 6, 5, 3, 2, 1], [3, 2, 1, 7, 9, 8, 6, 5, 4], [6, 5, 4, 1, 3, 2, 9, 8, 7], [7, 6, 5, 2, 4, 3, 1, 9, 8], [4, 3, 2, 8, 1, 9, 7, 6, 5], [1, 9, 8, 5, 7, 6, 4, 3, 2]]\n",
      "True\n",
      "[[2, 8, 5, 3, 4, 9, 7, 1, 6], [3, 9, 7, 1, 6, 5, 4, 8, 2], [1, 6, 4, 8, 2, 7, 9, 3, 5], [5, 4, 9, 7, 1, 6, 3, 2, 8], [6, 3, 2, 4, 5, 8, 1, 9, 7], [8, 7, 1, 2, 9, 3, 6, 5, 4], [4, 1, 8, 6, 3, 2, 5, 7, 9], [9, 2, 6, 5, 7, 1, 8, 4, 3], [7, 5, 3, 9, 8, 4, 2, 6, 1]]\n",
      "True\n",
      "[[9, 6, 3, 8, 5, 1, 4, 2, 7], [5, 1, 4, 6, 7, 2, 3, 8, 9], [2, 7, 8, 3, 4, 9, 6, 1, 5], [7, 4, 2, 1, 8, 5, 9, 3, 6], [6, 8, 9, 2, 3, 4, 7, 5, 1], [3, 5, 1, 9, 6, 7, 2, 4, 8], [8, 3, 7, 4, 1, 6, 5, 9, 2], [4, 2, 6, 5, 9, 8, 1, 7, 3], [1, 9, 5, 7, 2, 3, 8, 6, 4]]\n",
      "True\n"
     ]
    }
   ],
   "source": [
    "# test accuracy\n",
    "for itm in [initial_plate1,initial_plate2,initial_plate3,hard_1,initial_plate_hard]:\n",
    "    solution = solve(itm,heuristic_on=True)\n",
    "    print(solution)\n",
    "    print(is_complete(solution))"
   ]
  },
  {
   "cell_type": "code",
   "execution_count": 92,
   "metadata": {},
   "outputs": [
    {
     "name": "stdout",
     "output_type": "stream",
     "text": [
      "True\n",
      "\n",
      "    -------------------------\n",
      "    | 3 6 5 | 8 2 1 | 9 7 4 |\n",
      "    | 8 2 4 | 6 9 7 | 1 3 5 |\n",
      "    | 7 9 1 | 3 4 5 | 8 2 6 |\n",
      "    -------------------------\n",
      "    | 4 1 6 | 2 8 9 | 7 5 3 |\n",
      "    | 9 7 2 | 5 3 6 | 4 8 1 |\n",
      "    | 5 8 3 | 7 1 4 | 6 9 2 |\n",
      "    -------------------------\n",
      "    | 2 3 7 | 1 6 8 | 5 4 9 |\n",
      "    | 1 4 8 | 9 5 2 | 3 6 7 |\n",
      "    | 6 5 9 | 4 7 3 | 2 1 8 |\n",
      "    -------------------------\n"
     ]
    }
   ],
   "source": [
    "solution = solve(initial_plate1, display_on=True,heuristic_on=True)\n",
    "print(is_complete(solution))\n",
    "print(display(solution))"
   ]
  },
  {
   "cell_type": "code",
   "execution_count": 31,
   "metadata": {},
   "outputs": [],
   "source": [
    "def heuristic(plate, loc, display_on=None):\n",
    "    p = [[v for v in x] for x in plate]\n",
    "    ava_plate = check_available_number(p)\n",
    "    for location, candidates in ava_plate.items():\n",
    "        a,b = location\n",
    "        # 不去影響之前的數值，不然容易出錯\n",
    "        if 9*a+b<loc:\n",
    "            continue\n",
    "        # 如果只有一個 candidate，直接填入\n",
    "        if len(candidates)==1:\n",
    "            value = candidates[0]\n",
    "            p[a][b]=value\n",
    "            \n",
    "            # 顯示解題過程\n",
    "            if display_on:\n",
    "                display_control(p)\n",
    "            \n",
    "            # 持續看有沒有其他的直覺解，直到沒有直覺解了為止\n",
    "            p = heuristic(p, loc, display_on)\n",
    "            return p\n",
    "        \n",
    "    # 如果沒有直覺解了，回傳\n",
    "    return p"
   ]
  },
  {
   "cell_type": "code",
   "execution_count": 88,
   "metadata": {},
   "outputs": [],
   "source": [
    "from IPython.display import clear_output\n",
    "import time\n",
    "\n",
    "def solve(plate, location=0, display_on=None, heuristic_on=None):\n",
    "    # 顯示解題過程\n",
    "    if display_on:\n",
    "        display_control(plate)\n",
    "    \n",
    "    # 檢查如果解完，則回傳 plate\n",
    "    if is_complete(plate):\n",
    "        return plate\n",
    "    \n",
    "    # 檢查可執行的步驟\n",
    "    ava_plate = check_available_number(plate) \n",
    "    \n",
    "    # 如果仍未填入數字的區域無候選清單，則無解\n",
    "    if is_alive(plate, ava_plate)==False:\n",
    "        return False\n",
    "    \n",
    "    # 將 locaiton 0-80 解析為二維址\n",
    "    i,j = divmod(location,9)\n",
    "    \n",
    "    # 如果這一步已經有填入數字，則往下一個 location \n",
    "    if len(ava_plate[(i,j)])==0:\n",
    "        return_plate = solve(plate, location+1, display_on, heuristic_on)\n",
    "    else:\n",
    "        # 如果尚未填入數字，從 candidate 中，依序一個一個填入\n",
    "        for value in ava_plate[(i,j)]:\n",
    "            # 在 location 處填入 candidate 數值\n",
    "            plate = new_plate(plate, location, value)\n",
    "            # ！！這裡改成 return_plate 不行！！！\n",
    "            \n",
    "            # 填入之後，繼續填入下一 location 的數值\n",
    "            # 如果是無解，則回傳 False　有解回傳 plate\n",
    "            if heuristic_on:\n",
    "                # 執行直覺解        \n",
    "                return_plate = solve(heuristic(plate, location, display_on), location+1, display_on, heuristic_on)\n",
    "            else:\n",
    "                # 執行一般 exhausted solution         \n",
    "                return_plate = solve(plate, location+1, display_on, heuristic_on)\n",
    "\n",
    "            # 如果最後回傳為 False -> 則下一個 candidate\n",
    "            if return_plate==False:\n",
    "                continue\n",
    "            else:\n",
    "            # 如果回傳為 plate -> 代表有解 -> 繼續回傳\n",
    "                return return_plate\n",
    "    \n",
    "    # 若有解，由此回傳\n",
    "    return return_plate\n",
    "    "
   ]
  },
  {
   "cell_type": "code",
   "execution_count": 74,
   "metadata": {},
   "outputs": [
    {
     "data": {
      "text/plain": [
       "'| 5 4 3 | 2 1 9 | 7 6 8 |'"
      ]
     },
     "execution_count": 74,
     "metadata": {},
     "output_type": "execute_result"
    }
   ],
   "source": [
    "x = ''.join([str(v) if v!=0 else ' ' for v in initial_plate[1]])\n",
    "x = '|'+x[0:3]+'|'+x[3:6]+'|'+x[6:9]+'|'\n",
    "x = ' '.join(x)\n",
    "x"
   ]
  },
  {
   "cell_type": "code",
   "execution_count": 82,
   "metadata": {},
   "outputs": [
    {
     "name": "stdout",
     "output_type": "stream",
     "text": [
      "\n",
      "    -------------------------\n",
      "    | 5 3   |   7   |       |\n",
      "    | 6     | 1 9 5 |       |\n",
      "    |   9 8 |       |   6   |\n",
      "    -------------------------\n",
      "    | 8     |   6   |     3 |\n",
      "    | 4     | 8   3 |     1 |\n",
      "    | 7     |   2   |     6 |\n",
      "    -------------------------\n",
      "    |   6   |       | 2 8   |\n",
      "    |       | 4 1 9 |     5 |\n",
      "    |       |   8   |   7 9 |\n",
      "    -------------------------\n"
     ]
    }
   ],
   "source": [
    "print(display(initial_plate2))"
   ]
  },
  {
   "cell_type": "code",
   "execution_count": 80,
   "metadata": {},
   "outputs": [],
   "source": [
    "#new\n",
    "def display(plate):\n",
    "    row_str = []\n",
    "    for i in range(len(plate)):\n",
    "        x = ''.join([str(v) if v!=0 else ' ' for v in plate[i]])\n",
    "        x = '|'+x[0:3]+'|'+x[3:6]+'|'+x[6:9]+'|'\n",
    "        x = ' '.join(x)\n",
    "        row_str.append(x)\n",
    "        \n",
    "    ret =\\\n",
    "    f\"\"\"\n",
    "    -------------------------\n",
    "    {row_str[0]}\n",
    "    {row_str[1]}\n",
    "    {row_str[2]}\n",
    "    -------------------------\n",
    "    {row_str[3]}\n",
    "    {row_str[4]}\n",
    "    {row_str[5]}\n",
    "    -------------------------\n",
    "    {row_str[6]}\n",
    "    {row_str[7]}\n",
    "    {row_str[8]}\n",
    "    -------------------------\"\"\"\n",
    "    return ret"
   ]
  },
  {
   "cell_type": "code",
   "execution_count": 38,
   "metadata": {},
   "outputs": [],
   "source": [
    "def new_plate(plate, location, value):\n",
    "    # 產生一個新的 plate 才不會跟前一個 plate 互相影響到\n",
    "    x = [[col for col in row] for row in plate]\n",
    "    \n",
    "    # 賦值\n",
    "    i,j = divmod(location,9)\n",
    "    x[i][j]=value\n",
    "    return x\n",
    "\n",
    "\n",
    "def display(plate):\n",
    "    # construct each row numbers\n",
    "    p = []\n",
    "    for i in range(len(plate)):\n",
    "        add_row = [' '+str(n)+' ' if n!=0 else '   ' for n in plate[i]]\n",
    "        p.append(add_row)\n",
    "        \n",
    "    # add border\n",
    "    row_str = []\n",
    "    for i in range(len(plate)):\n",
    "        add_str = '|' + '|'.join(p[i]) + '|'\n",
    "        row_str.append(add_str)\n",
    "        \n",
    "    ret =\\\n",
    "    f\"\"\"\n",
    "    -------------------------------------\n",
    "    {row_str[0]}\n",
    "    -------------------------------------\n",
    "    {row_str[1]}\n",
    "    -------------------------------------\n",
    "    {row_str[2]}\n",
    "    -------------------------------------\n",
    "    {row_str[3]}\n",
    "    -------------------------------------\n",
    "    {row_str[4]}\n",
    "    -------------------------------------\n",
    "    {row_str[5]}\n",
    "    -------------------------------------\n",
    "    {row_str[6]}\n",
    "    -------------------------------------\n",
    "    {row_str[7]}\n",
    "    -------------------------------------\n",
    "    {row_str[8]}\n",
    "    -------------------------------------\"\"\"\n",
    "    return ret\n",
    "    \n",
    "\n",
    "def is_complete(plate):\n",
    "    # 判斷是否得解\n",
    "    n = len(plate)\n",
    "    \n",
    "    # rows\n",
    "    for i in range(n):\n",
    "        temp_row = set(plate[i])\n",
    "        # 如果有 0 ，代表尚未完成 \n",
    "        if 0 in temp_row:\n",
    "            return False\n",
    "        if len(temp_row)!=n:\n",
    "            return False\n",
    "        \n",
    "    # cols\n",
    "    for i in range(n):\n",
    "        temp_col = set([x[i] for x in plate])\n",
    "        if 0 in temp_col:\n",
    "            return False\n",
    "        if len(temp_col)!=n:\n",
    "            return False\n",
    "        \n",
    "    # 3x3s\n",
    "    for i in range(0,9,3):\n",
    "        for j in range(0,9,3):\n",
    "            temp_9_box = set([plate[x][y] for x in range(i,i+3) for y in range(j,j+3)])\n",
    "            if 0 in temp_9_box:\n",
    "                return False\n",
    "            if len(temp_9_box)!=n:\n",
    "                return False\n",
    "    return True\n",
    "\n",
    "def is_alive(plate, ava_plate):\n",
    "    for i in range(9):\n",
    "        for j in range(9):\n",
    "            # 如果有還沒被填入數值的地方 (value==0)，卻沒有 candidate 了，表示此解不通\n",
    "            if plate[i][j]==0 and len(ava_plate[(i,j)])==0:\n",
    "                return False\n",
    "    return True\n",
    "\n",
    "\n",
    "def check_available_number(plate):    \n",
    "    # 根據傳入的 plate，產生目前可行的 candidate\n",
    "    # 如果 location value==0 -> [0-9]\n",
    "    # 如果 location value!=0 -> 已填入 -> []\n",
    "    ava_plate = {(x,y):[1,2,3,4,5,6,7,8,9] if plate[x][y]==0 else []\\\n",
    "                       for x in range(9) for y in range(9)}\n",
    "    \n",
    "    for i in range(9):\n",
    "        for j in range(9):\n",
    "            value = plate[i][j]\n",
    "            # 如果 location value ==0，不影響\n",
    "            if value==0:\n",
    "                continue\n",
    "                \n",
    "            # 如果 Location 已經填入 value，那從同 row 可行 candidate 中移除\n",
    "            for col in range(9):\n",
    "                try:\n",
    "                    ava_plate[(i,col)].remove(value)\n",
    "                except:\n",
    "                    pass\n",
    "                \n",
    "            # 如果 Location 已經填入 value，那從同 column 可行 candidate 中移除\n",
    "            for row in range(9):\n",
    "                try:\n",
    "                    ava_plate[(row,j)].remove(value)\n",
    "                except:\n",
    "                    pass\n",
    "            \n",
    "            # 如果 Location 已經填入 value，那從同 3x3 block 可行 candidate 中移除\n",
    "            i_base = (i//3)*3\n",
    "            j_base = (j//3)*3\n",
    "            for i2 in range(i_base,i_base+3):\n",
    "                for j2 in range(j_base,j_base+3):\n",
    "                    try:\n",
    "                        ava_plate[(i2,j2)].remove(value)\n",
    "                    except:\n",
    "                        pass\n",
    "    return ava_plate\n",
    "    \n",
    "    \n",
    "    \n"
   ]
  },
  {
   "cell_type": "code",
   "execution_count": null,
   "metadata": {},
   "outputs": [],
   "source": []
  }
 ],
 "metadata": {
  "kernelspec": {
   "display_name": "Python 3",
   "language": "python",
   "name": "python3"
  },
  "language_info": {
   "codemirror_mode": {
    "name": "ipython",
    "version": 3
   },
   "file_extension": ".py",
   "mimetype": "text/x-python",
   "name": "python",
   "nbconvert_exporter": "python",
   "pygments_lexer": "ipython3",
   "version": "3.7.3"
  }
 },
 "nbformat": 4,
 "nbformat_minor": 2
}
