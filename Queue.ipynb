{
 "cells": [
  {
   "cell_type": "markdown",
   "metadata": {},
   "source": [
    "# Queue\n",
    "\n"
   ]
  },
  {
   "cell_type": "markdown",
   "metadata": {},
   "source": [
    "## Using python list, without capacity limit"
   ]
  },
  {
   "cell_type": "code",
   "execution_count": 15,
   "metadata": {},
   "outputs": [
    {
     "name": "stdout",
     "output_type": "stream",
     "text": [
      "1\n",
      "2\n"
     ]
    }
   ],
   "source": [
    "class Queue():\n",
    "    def __init__(self):\n",
    "        self.items = []\n",
    "        \n",
    "    def __str__(self):\n",
    "        values = [str(x) for x in self.items if x is not None]\n",
    "        return ' '.join(values)\n",
    "    \n",
    "    def enqueue(self, value):\n",
    "        self.items.append(value)\n",
    "    \n",
    "    def isEmpty(self):\n",
    "        if self.items == []:\n",
    "            return True\n",
    "        else:\n",
    "            return False\n",
    "        \n",
    "    def dequeue(self):\n",
    "        if self.items == []:\n",
    "            return None\n",
    "        else:\n",
    "            return self.items.pop(0)\n",
    "        \n",
    "    def peek(self):\n",
    "        if self.items == []:\n",
    "            return None\n",
    "        else:\n",
    "            return self.items[0]\n",
    "    \n",
    "    def delete(self):\n",
    "        self.items = None\n",
    "    \n",
    "Q = Queue()\n",
    "Q.enqueue(1)\n",
    "Q.enqueue(2)\n",
    "Q.enqueue(3)\n",
    "print(Q.dequeue())\n",
    "print(Q.peek())"
   ]
  },
  {
   "cell_type": "markdown",
   "metadata": {},
   "source": [
    "## Using python list, with capacity limit. Circular queue"
   ]
  },
  {
   "cell_type": "code",
   "execution_count": 85,
   "metadata": {},
   "outputs": [
    {
     "name": "stdout",
     "output_type": "stream",
     "text": [
      "[None, None, None, None]\n",
      "The queue is empty\n"
     ]
    }
   ],
   "source": [
    "class Queue():\n",
    "    def __init__(self, maximum):\n",
    "        self.items = [None for i in range(maximum)]\n",
    "        self.maximum = maximum\n",
    "        self.start = None\n",
    "        self.end = None\n",
    "        \n",
    "    def isEmpty(self):\n",
    "        if self.start is None:\n",
    "            return True\n",
    "        else:\n",
    "            return False\n",
    "        \n",
    "    def isFull(self):\n",
    "        if self.start is None:\n",
    "            return False\n",
    "        elif (self.end+1)%(self.maximum) == self.start:\n",
    "            return True\n",
    "        else:\n",
    "            return False\n",
    "    \n",
    "    def enqueue(self, value):\n",
    "        if self.isFull():\n",
    "            raise Exception('The queue is full')\n",
    "        elif self.start is None:\n",
    "            self.start = 0\n",
    "            self.end = 0\n",
    "            self.items[self.start] = value\n",
    "        else:\n",
    "            self.end = (self.end+1)%self.maximum\n",
    "            self.items[self.end] = value\n",
    "    \n",
    "    def dequeue(self):\n",
    "        if self.start is None:\n",
    "            return None\n",
    "        # if only one item\n",
    "        elif self.start == self.end:\n",
    "            return_value = self.items[self.start]\n",
    "            self.items[self.start] = None\n",
    "            self.start = None\n",
    "            self.end = None\n",
    "            return return_value\n",
    "        else:\n",
    "\n",
    "            return_value = self.items[self.start]\n",
    "            self.items[self.start] = None\n",
    "            self.start = (self.start+1)%self.maximum\n",
    "            return return_value\n",
    "            \n",
    "    \n",
    "            \n",
    "    def __str__(self):\n",
    "        print(self.items)\n",
    "        if self.start is None:\n",
    "            return 'The queue is empty'\n",
    "        else:\n",
    "            values = []\n",
    "            index = self.start\n",
    "            while True:\n",
    "                values.append(str(self.items[index]))\n",
    "                if index ==self.end:\n",
    "                    break                \n",
    "                index = (index+1)%self.maximum\n",
    "            return ' '.join(values)\n",
    "        \n",
    "        \n",
    "Q = Queue(4)\n",
    "\n",
    "Q.enqueue(1)\n",
    "Q.enqueue(2)\n",
    "Q.enqueue(3)\n",
    "Q.enqueue(4)\n",
    "Q.dequeue()\n",
    "Q.enqueue(5)\n",
    "Q.dequeue()\n",
    "Q.dequeue()\n",
    "Q.dequeue()\n",
    "Q.dequeue()\n",
    "print(Q)"
   ]
  },
  {
   "cell_type": "markdown",
   "metadata": {},
   "source": [
    "## Using linked list"
   ]
  },
  {
   "cell_type": "code",
   "execution_count": null,
   "metadata": {},
   "outputs": [],
   "source": []
  }
 ],
 "metadata": {
  "kernelspec": {
   "display_name": "Python 3",
   "language": "python",
   "name": "python3"
  },
  "language_info": {
   "codemirror_mode": {
    "name": "ipython",
    "version": 3
   },
   "file_extension": ".py",
   "mimetype": "text/x-python",
   "name": "python",
   "nbconvert_exporter": "python",
   "pygments_lexer": "ipython3",
   "version": "3.7.4"
  }
 },
 "nbformat": 4,
 "nbformat_minor": 4
}
