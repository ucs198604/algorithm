{
 "cells": [
  {
   "cell_type": "markdown",
   "metadata": {},
   "source": [
    "# Recursion"
   ]
  },
  {
   "cell_type": "code",
   "execution_count": 9,
   "metadata": {},
   "outputs": [
    {
     "name": "stdout",
     "output_type": "stream",
     "text": [
      "<1\n",
      "1\n",
      "2\n",
      "\n",
      "2\n",
      "<1\n",
      "1\n"
     ]
    }
   ],
   "source": [
    "# 注意 Recursion 程式碼的先後\n",
    "\n",
    "def rec(n):\n",
    "    if n<1:\n",
    "        print('<1')\n",
    "    else:\n",
    "        rec(n-1)\n",
    "        print(n)\n",
    "        \n",
    "def rec2(n):\n",
    "    if n<1:\n",
    "        print('<1')\n",
    "    else:\n",
    "        print(n)\n",
    "        rec(n-1)\n",
    "rec(2)\n",
    "print()\n",
    "rec2(2)"
   ]
  },
  {
   "cell_type": "code",
   "execution_count": 15,
   "metadata": {},
   "outputs": [
    {
     "data": {
      "text/plain": [
       "16"
      ]
     },
     "execution_count": 15,
     "metadata": {},
     "output_type": "execute_result"
    }
   ],
   "source": [
    "# Recursion vs iteration\n",
    "# to compute 2**n\n",
    "def rec(n):\n",
    "    if n==0:\n",
    "        return 1\n",
    "    else:\n",
    "        return 2*rec(n-1)\n",
    "    \n",
    "def ite(n):\n",
    "    index = 0\n",
    "    temp = 1\n",
    "    while index<n:\n",
    "        temp*=2\n",
    "        index+=1\n",
    "    return temp\n",
    "\n",
    "ite(4)"
   ]
  },
  {
   "cell_type": "code",
   "execution_count": 64,
   "metadata": {},
   "outputs": [
    {
     "data": {
      "text/plain": [
       "[1,\n",
       " 1,\n",
       " 2,\n",
       " 3,\n",
       " 5,\n",
       " 8,\n",
       " 13,\n",
       " 21,\n",
       " 34,\n",
       " 55,\n",
       " 89,\n",
       " 144,\n",
       " 233,\n",
       " 377,\n",
       " 610,\n",
       " 987,\n",
       " 1597,\n",
       " 2584,\n",
       " 4181,\n",
       " 6765,\n",
       " 10946,\n",
       " 17711,\n",
       " 28657,\n",
       " 46368,\n",
       " 75025,\n",
       " 121393,\n",
       " 196418,\n",
       " 317811,\n",
       " 514229]"
      ]
     },
     "execution_count": 64,
     "metadata": {},
     "output_type": "execute_result"
    }
   ],
   "source": [
    "# Fibonacci\n",
    "# 1,1,2,3,5,8\n",
    "\n",
    "def fib(n):\n",
    "    if n==1 or n==2:\n",
    "        return 1\n",
    "    else: \n",
    "        return fib(n-2)+fib(n-1)\n",
    "\n",
    "[fib(i) for i in range(1,30)]"
   ]
  },
  {
   "cell_type": "code",
   "execution_count": 65,
   "metadata": {},
   "outputs": [
    {
     "name": "stdout",
     "output_type": "stream",
     "text": [
      "1 1 2 3 5 8 13 21 34 55 89 144 233 377 610 987 1597 2584 4181 6765 10946 17711 28657 46368 75025 121393 196418 317811 514229 \n"
     ]
    }
   ],
   "source": [
    "def fib(n):    # write Fibonacci series up to n\n",
    "    a, b = 0, 1\n",
    "    while b < n:\n",
    "        print(b, end=' ')\n",
    "        a, b = b, a+b\n",
    "    print()\n",
    "fib(514230)"
   ]
  },
  {
   "cell_type": "code",
   "execution_count": null,
   "metadata": {},
   "outputs": [],
   "source": []
  }
 ],
 "metadata": {
  "kernelspec": {
   "display_name": "Python 3",
   "language": "python",
   "name": "python3"
  },
  "language_info": {
   "codemirror_mode": {
    "name": "ipython",
    "version": 3
   },
   "file_extension": ".py",
   "mimetype": "text/x-python",
   "name": "python",
   "nbconvert_exporter": "python",
   "pygments_lexer": "ipython3",
   "version": "3.7.4"
  }
 },
 "nbformat": 4,
 "nbformat_minor": 4
}
