{
 "cells": [
  {
   "cell_type": "markdown",
   "metadata": {},
   "source": [
    "# Recursion"
   ]
  },
  {
   "cell_type": "markdown",
   "metadata": {},
   "source": [
    "## 注意 Recursion 程式碼的先後"
   ]
  },
  {
   "cell_type": "code",
   "execution_count": 9,
   "metadata": {},
   "outputs": [
    {
     "name": "stdout",
     "output_type": "stream",
     "text": [
      "<1\n",
      "1\n",
      "2\n",
      "\n",
      "2\n",
      "<1\n",
      "1\n"
     ]
    }
   ],
   "source": [
    "# 注意 Recursion 程式碼的先後\n",
    "\n",
    "def rec(n):\n",
    "    if n<1:\n",
    "        print('<1')\n",
    "    else:\n",
    "        rec(n-1)\n",
    "        print(n)\n",
    "        \n",
    "def rec2(n):\n",
    "    if n<1:\n",
    "        print('<1')\n",
    "    else:\n",
    "        print(n)\n",
    "        rec(n-1)\n",
    "rec(2)\n",
    "print()\n",
    "rec2(2)"
   ]
  },
  {
   "cell_type": "code",
   "execution_count": 15,
   "metadata": {},
   "outputs": [
    {
     "data": {
      "text/plain": [
       "16"
      ]
     },
     "execution_count": 15,
     "metadata": {},
     "output_type": "execute_result"
    }
   ],
   "source": [
    "# Recursion vs iteration\n",
    "# to compute 2**n\n",
    "def rec(n):\n",
    "    if n==0:\n",
    "        return 1\n",
    "    else:\n",
    "        return 2*rec(n-1)\n",
    "    \n",
    "def ite(n):\n",
    "    index = 0\n",
    "    temp = 1\n",
    "    while index<n:\n",
    "        temp*=2\n",
    "        index+=1\n",
    "    return temp\n",
    "\n",
    "ite(4)"
   ]
  },
  {
   "cell_type": "markdown",
   "metadata": {},
   "source": [
    "## Fibonacci"
   ]
  },
  {
   "cell_type": "code",
   "execution_count": 27,
   "metadata": {},
   "outputs": [
    {
     "data": {
      "text/plain": [
       "8"
      ]
     },
     "execution_count": 27,
     "metadata": {},
     "output_type": "execute_result"
    }
   ],
   "source": [
    "# Fibonacci\n",
    "# 1,1,2,3,5,8\n",
    "\n",
    "def fib(n):\n",
    "    assert type(n)==int and n>=0, \"n must be positive integer\"\n",
    "    if n==1 or n==2:\n",
    "        return 1\n",
    "    elif n==0:\n",
    "        return 0\n",
    "    else: \n",
    "        return fib(n-2)+fib(n-1)\n",
    "\n",
    "fib(6)\n",
    "# [fib(i) for i in range(1,30)]"
   ]
  },
  {
   "cell_type": "code",
   "execution_count": 65,
   "metadata": {},
   "outputs": [
    {
     "name": "stdout",
     "output_type": "stream",
     "text": [
      "1 1 2 3 5 8 13 21 34 55 89 144 233 377 610 987 1597 2584 4181 6765 10946 17711 28657 46368 75025 121393 196418 317811 514229 \n"
     ]
    }
   ],
   "source": [
    "def fib(n):    # write Fibonacci series up to n\n",
    "    a, b = 0, 1\n",
    "    while b < n:\n",
    "        print(b, end=' ')\n",
    "        a, b = b, a+b\n",
    "    print()\n",
    "fib(514230)"
   ]
  },
  {
   "cell_type": "markdown",
   "metadata": {},
   "source": [
    "## Factorial"
   ]
  },
  {
   "cell_type": "code",
   "execution_count": 33,
   "metadata": {},
   "outputs": [
    {
     "data": {
      "text/plain": [
       "93326215443944152681699238856266700490715968264381621468592963895217599993229915608941463976156518286253697920827223758251185210916864000000000000000000000000"
      ]
     },
     "execution_count": 33,
     "metadata": {},
     "output_type": "execute_result"
    }
   ],
   "source": [
    "def fact(n):\n",
    "    assert type(n)==int and n>=0, \"must input integer >=0\"\n",
    "    if n==1 or n==0:\n",
    "        return 1\n",
    "    else:\n",
    "        return n*fact(n-1)\n",
    "\n",
    "fact(100)"
   ]
  },
  {
   "cell_type": "markdown",
   "metadata": {},
   "source": [
    "## Power of a number"
   ]
  },
  {
   "cell_type": "code",
   "execution_count": 60,
   "metadata": {},
   "outputs": [
    {
     "ename": "AssertionError",
     "evalue": "Power should be positive integer",
     "output_type": "error",
     "traceback": [
      "\u001b[0;31m---------------------------------------------------------------------------\u001b[0m",
      "\u001b[0;31mAssertionError\u001b[0m                            Traceback (most recent call last)",
      "\u001b[0;32m<ipython-input-60-ff2866c86034>\u001b[0m in \u001b[0;36m<module>\u001b[0;34m\u001b[0m\n\u001b[1;32m      5\u001b[0m     \u001b[0;32melse\u001b[0m\u001b[0;34m:\u001b[0m\u001b[0;34m\u001b[0m\u001b[0;34m\u001b[0m\u001b[0m\n\u001b[1;32m      6\u001b[0m         \u001b[0;32mreturn\u001b[0m \u001b[0mbase\u001b[0m \u001b[0;34m*\u001b[0m \u001b[0mpo\u001b[0m\u001b[0;34m(\u001b[0m\u001b[0mbase\u001b[0m\u001b[0;34m,\u001b[0m\u001b[0mpower\u001b[0m\u001b[0;34m-\u001b[0m\u001b[0;36m1\u001b[0m\u001b[0;34m)\u001b[0m\u001b[0;34m\u001b[0m\u001b[0;34m\u001b[0m\u001b[0m\n\u001b[0;32m----> 7\u001b[0;31m \u001b[0mpo\u001b[0m\u001b[0;34m(\u001b[0m\u001b[0;36m1.1\u001b[0m\u001b[0;34m,\u001b[0m\u001b[0;36m2.1\u001b[0m\u001b[0;34m)\u001b[0m\u001b[0;34m\u001b[0m\u001b[0;34m\u001b[0m\u001b[0m\n\u001b[0m",
      "\u001b[0;32m<ipython-input-60-ff2866c86034>\u001b[0m in \u001b[0;36mpo\u001b[0;34m(base, power)\u001b[0m\n\u001b[1;32m      1\u001b[0m \u001b[0;32mdef\u001b[0m \u001b[0mpo\u001b[0m\u001b[0;34m(\u001b[0m\u001b[0mbase\u001b[0m\u001b[0;34m,\u001b[0m\u001b[0mpower\u001b[0m\u001b[0;34m)\u001b[0m\u001b[0;34m:\u001b[0m\u001b[0;34m\u001b[0m\u001b[0;34m\u001b[0m\u001b[0m\n\u001b[0;32m----> 2\u001b[0;31m     \u001b[0;32massert\u001b[0m \u001b[0mtype\u001b[0m\u001b[0;34m(\u001b[0m\u001b[0mpower\u001b[0m\u001b[0;34m)\u001b[0m\u001b[0;34m==\u001b[0m\u001b[0mint\u001b[0m \u001b[0;32mand\u001b[0m \u001b[0mpower\u001b[0m\u001b[0;34m>=\u001b[0m\u001b[0;36m0\u001b[0m\u001b[0;34m,\u001b[0m \u001b[0;34m'Power should be positive integer'\u001b[0m\u001b[0;34m\u001b[0m\u001b[0;34m\u001b[0m\u001b[0m\n\u001b[0m\u001b[1;32m      3\u001b[0m     \u001b[0;32mif\u001b[0m \u001b[0mpower\u001b[0m\u001b[0;34m==\u001b[0m\u001b[0;36m0\u001b[0m\u001b[0;34m:\u001b[0m\u001b[0;34m\u001b[0m\u001b[0;34m\u001b[0m\u001b[0m\n\u001b[1;32m      4\u001b[0m         \u001b[0;32mreturn\u001b[0m \u001b[0;36m1\u001b[0m\u001b[0;34m\u001b[0m\u001b[0;34m\u001b[0m\u001b[0m\n\u001b[1;32m      5\u001b[0m     \u001b[0;32melse\u001b[0m\u001b[0;34m:\u001b[0m\u001b[0;34m\u001b[0m\u001b[0;34m\u001b[0m\u001b[0m\n",
      "\u001b[0;31mAssertionError\u001b[0m: Power should be positive integer"
     ]
    }
   ],
   "source": [
    "def po(base,power):\n",
    "    assert type(power)==int and power>=0, 'Power should be positive integer'\n",
    "    if power==0:\n",
    "        return 1\n",
    "    else:\n",
    "        return base * po(base,power-1)\n",
    "po(1.1,2.1)"
   ]
  },
  {
   "cell_type": "markdown",
   "metadata": {},
   "source": [
    "## Product of array\n",
    "* take an array to return product of its component"
   ]
  },
  {
   "cell_type": "code",
   "execution_count": 30,
   "metadata": {},
   "outputs": [
    {
     "data": {
      "text/plain": [
       "120"
      ]
     },
     "execution_count": 30,
     "metadata": {},
     "output_type": "execute_result"
    }
   ],
   "source": [
    "def pa(arr):\n",
    "    if len(arr)==0:\n",
    "        return 1\n",
    "    else:\n",
    "        return arr[0]*pa(arr[1:])\n",
    "    \n",
    "pa([1,2,3,4,5])"
   ]
  },
  {
   "cell_type": "markdown",
   "metadata": {},
   "source": [
    "## Recursive range\n",
    "* add up numbers to n"
   ]
  },
  {
   "cell_type": "code",
   "execution_count": 32,
   "metadata": {},
   "outputs": [
    {
     "data": {
      "text/plain": [
       "5050"
      ]
     },
     "execution_count": 32,
     "metadata": {},
     "output_type": "execute_result"
    }
   ],
   "source": [
    "def rec(n):\n",
    "    if n==0:\n",
    "        return 0\n",
    "    else:\n",
    "        return n+rec(n-1)\n",
    "    \n",
    "rec(100)"
   ]
  },
  {
   "cell_type": "markdown",
   "metadata": {},
   "source": [
    "## Sum of digits of a positive integer"
   ]
  },
  {
   "cell_type": "code",
   "execution_count": 42,
   "metadata": {},
   "outputs": [
    {
     "name": "stdout",
     "output_type": "stream",
     "text": [
      "1234\n",
      "123\n",
      "12\n",
      "1\n"
     ]
    },
    {
     "data": {
      "text/plain": [
       "10"
      ]
     },
     "execution_count": 42,
     "metadata": {},
     "output_type": "execute_result"
    }
   ],
   "source": [
    "# 這個比較少\n",
    "def dig(n):\n",
    "    print(n)\n",
    "    # base condition\n",
    "    if n<10:\n",
    "        return n\n",
    "    # return recursion\n",
    "    else:\n",
    "        return n%10 + dig(n//10)\n",
    "\n",
    "# 這個會多一次\n",
    "def dig(n):\n",
    "    print(n)\n",
    "    # base condition\n",
    "    if n==0:\n",
    "        return 0\n",
    "    # return recursion\n",
    "    else:\n",
    "        return n%10 + dig(n//10)\n",
    "    \n",
    "dig(1234)"
   ]
  },
  {
   "cell_type": "markdown",
   "metadata": {},
   "source": [
    "## Greatest common divisor\n",
    "* 最大公約數"
   ]
  },
  {
   "cell_type": "code",
   "execution_count": 74,
   "metadata": {},
   "outputs": [
    {
     "data": {
      "text/plain": [
       "3"
      ]
     },
     "execution_count": 74,
     "metadata": {},
     "output_type": "execute_result"
    }
   ],
   "source": [
    "# Euclidean algorithm\n",
    "\n",
    "def gcd(a,b):\n",
    "    if a%b==0:\n",
    "        return b\n",
    "    else:\n",
    "        return gcd(b,a%b)\n",
    "gcd(111,33)"
   ]
  },
  {
   "cell_type": "markdown",
   "metadata": {},
   "source": [
    "## Convert to binary number\n",
    "* number -> binary"
   ]
  },
  {
   "cell_type": "code",
   "execution_count": 97,
   "metadata": {},
   "outputs": [
    {
     "data": {
      "text/plain": [
       "1100100"
      ]
     },
     "execution_count": 97,
     "metadata": {},
     "output_type": "execute_result"
    }
   ],
   "source": [
    "def bi(n):\n",
    "    if n<2:\n",
    "        return str(n)\n",
    "    else:\n",
    "        return bi(n//2) + str(n%2)\n",
    "    \n",
    "def bi(n):\n",
    "    if n<2:\n",
    "        return n\n",
    "    else:\n",
    "        return n%2 + 10*bi(n//2)\n",
    "    \n",
    "bi(100)"
   ]
  },
  {
   "cell_type": "markdown",
   "metadata": {},
   "source": [
    "## Return reverse of string by a recursive function"
   ]
  },
  {
   "cell_type": "code",
   "execution_count": 104,
   "metadata": {},
   "outputs": [
    {
     "data": {
      "text/plain": [
       "'聽氣空給說嗎好你'"
      ]
     },
     "execution_count": 104,
     "metadata": {},
     "output_type": "execute_result"
    }
   ],
   "source": [
    "def rev(string):\n",
    "    if len(string)==0:\n",
    "        return \"\"\n",
    "    else:\n",
    "        return string[-1] + rev(string[0:-1])\n",
    "rev('你好嗎說給空氣聽')"
   ]
  },
  {
   "cell_type": "code",
   "execution_count": 101,
   "metadata": {},
   "outputs": [
    {
     "data": {
      "text/plain": [
       "'12'"
      ]
     },
     "execution_count": 101,
     "metadata": {},
     "output_type": "execute_result"
    }
   ],
   "source": [
    "'123'[0:-1]"
   ]
  },
  {
   "cell_type": "markdown",
   "metadata": {},
   "source": [
    "## check if string is palindrome"
   ]
  },
  {
   "cell_type": "code",
   "execution_count": 112,
   "metadata": {},
   "outputs": [
    {
     "data": {
      "text/plain": [
       "True"
      ]
     },
     "execution_count": 112,
     "metadata": {},
     "output_type": "execute_result"
    }
   ],
   "source": [
    "def pal(st):\n",
    "    if len(st)==0:\n",
    "        return True\n",
    "    return st[0]==st[-1] and pal(st[1:-1])\n",
    "\n",
    "pal('12321')"
   ]
  },
  {
   "cell_type": "markdown",
   "metadata": {},
   "source": [
    "## Flatten array by recursion\n",
    "* flatten all the elements in the list"
   ]
  },
  {
   "cell_type": "code",
   "execution_count": 135,
   "metadata": {},
   "outputs": [
    {
     "data": {
      "text/plain": [
       "[2, 3, 23]"
      ]
     },
     "execution_count": 135,
     "metadata": {},
     "output_type": "execute_result"
    }
   ],
   "source": [
    "# very important\n",
    "\n",
    "# all use recursive \n",
    "def flat(arr):\n",
    "    if type(arr)==int:\n",
    "        return [arr]\n",
    "    if len(arr)==0:\n",
    "        return []\n",
    "    else:\n",
    "        return flat(arr[0]) + flat(arr[1:])\n",
    "flat([[[[2]]],[[[[[[[3]]]]]]],[23]])"
   ]
  },
  {
   "cell_type": "code",
   "execution_count": 155,
   "metadata": {},
   "outputs": [
    {
     "data": {
      "text/plain": [
       "[2, 3, 23]"
      ]
     },
     "execution_count": 155,
     "metadata": {},
     "output_type": "execute_result"
    }
   ],
   "source": [
    "def flat(arr):\n",
    "    temp = []\n",
    "    for itm in arr:\n",
    "        if type(itm)!=list:\n",
    "            temp.append(itm)\n",
    "        else:\n",
    "            temp.extend(flat(itm))\n",
    "            #temp = temp + flat(itm) 也可以\n",
    "    return temp\n",
    "    \n",
    "flat([[[[2]]],[[[[[[[3]]]]]]],[23]])"
   ]
  },
  {
   "cell_type": "markdown",
   "metadata": {},
   "source": [
    "## Capitalize first\n",
    "* capitalize first of the word in each item of the list"
   ]
  },
  {
   "cell_type": "code",
   "execution_count": 162,
   "metadata": {},
   "outputs": [
    {
     "data": {
      "text/plain": [
       "['Acat', 'Dog', 'Cat', 'Opera']"
      ]
     },
     "execution_count": 162,
     "metadata": {},
     "output_type": "execute_result"
    }
   ],
   "source": [
    "# more pythonic way\n",
    "def capitalizeFirst(arr):\n",
    "    for ind, itm in enumerate(arr):\n",
    "        arr[ind] = arr[ind][0].upper() + arr[ind][1:]\n",
    "    return arr\n",
    "\n",
    "capitalizeFirst(['acat','dog','Cat','opera'])"
   ]
  },
  {
   "cell_type": "code",
   "execution_count": 165,
   "metadata": {},
   "outputs": [
    {
     "data": {
      "text/plain": [
       "['Acat', 'Dog', 'Cat', 'Opera']"
      ]
     },
     "execution_count": 165,
     "metadata": {},
     "output_type": "execute_result"
    }
   ],
   "source": [
    "# use recursive method\n",
    "\n",
    "def capitalizeFirst(arr):\n",
    "    temp = []\n",
    "    if type(arr)==str:\n",
    "        return arr[0].upper()+arr[1:]\n",
    "    else:\n",
    "        for item in arr:\n",
    "            temp.append(capitalizeFirst(item))\n",
    "    return temp    \n",
    "        \n",
    "capitalizeFirst(['acat','dog','Cat','opera'])        "
   ]
  },
  {
   "cell_type": "markdown",
   "metadata": {},
   "source": [
    "## Capitalize all"
   ]
  },
  {
   "cell_type": "code",
   "execution_count": 6,
   "metadata": {},
   "outputs": [
    {
     "data": {
      "text/plain": [
       "['CAT', 'DOG', 'PEOPLE']"
      ]
     },
     "execution_count": 6,
     "metadata": {},
     "output_type": "execute_result"
    }
   ],
   "source": [
    "# recursive way\n",
    "def capitalizeWords(arr):\n",
    "    return_list = []\n",
    "    if len(arr)==0:\n",
    "        return []\n",
    "    if type(arr)==list:\n",
    "        return_list.append(capitalizeWords(arr[0]))  # 處理文字\n",
    "        return_list.extend(capitalizeWords(arr[1:])) # 處理剩下的 list\n",
    "    if type(arr)==str:\n",
    "        return arr.upper()\n",
    "    return return_list\n",
    "        \n",
    "    \n",
    "    \n",
    "capitalizeWords(['cat','dog','people'])"
   ]
  },
  {
   "cell_type": "markdown",
   "metadata": {},
   "source": [
    "## Nested even sum\n",
    "* sum of all even numbers in the nested item"
   ]
  },
  {
   "cell_type": "code",
   "execution_count": 173,
   "metadata": {},
   "outputs": [
    {
     "data": {
      "text/plain": [
       "6"
      ]
     },
     "execution_count": 173,
     "metadata": {},
     "output_type": "execute_result"
    }
   ],
   "source": [
    "\n",
    "obj1 = {\n",
    "  \"outer\": 2,\n",
    "  \"obj\": {\n",
    "    \"inner\": 2,\n",
    "    \"otherObj\": {\n",
    "      \"superInner\": 2,\n",
    "      \"notANumber\": True,\n",
    "      \"alsoNotANumber\": \"yup\"\n",
    "    }\n",
    "  }\n",
    "}\n",
    "\n",
    "obj2 = {\n",
    "  \"a\": 2,\n",
    "  \"b\": {\"b\": 2, \"bb\": {\"b\": 3, \"bb\": {\"b\": 2}}},\n",
    "  \"c\": {\"c\": {\"c\": 2}, \"cc\": 'ball', \"ccc\": 5},\n",
    "  \"d\": 1,\n",
    "  \"e\": {\"e\": {\"e\": 2}, \"ee\": 'car'}\n",
    "}\n",
    "\n",
    "def nestedEvenSum(obj, total=0):\n",
    "    # iterate through every items\n",
    "    for item in obj.values():\n",
    "        # if type == int\n",
    "        if type(item)==int and item%2==0:\n",
    "            total = total + item\n",
    "        # if type is dict, then should flatten\n",
    "        elif type(item)==dict:\n",
    "            total = total + nestedEvenSum(item)\n",
    "    return total\n",
    "\n",
    "nestedEvenSum(obj1)"
   ]
  },
  {
   "cell_type": "markdown",
   "metadata": {},
   "source": [
    "## Stringfy numbers\n",
    "* recursive call, to convert all integer items to string"
   ]
  },
  {
   "cell_type": "code",
   "execution_count": 17,
   "metadata": {},
   "outputs": [
    {
     "data": {
      "text/plain": [
       "{'num': '1',\n",
       " 'test': [],\n",
       " 'data': {'val': '4', 'info': {'isRight': True, 'random': '66'}}}"
      ]
     },
     "execution_count": 17,
     "metadata": {},
     "output_type": "execute_result"
    }
   ],
   "source": [
    "obj = {\n",
    "  \"num\": 1,\n",
    "  \"test\": [],\n",
    "  \"data\": {\n",
    "    \"val\": 4,\n",
    "    \"info\": {\n",
    "      \"isRight\": True,\n",
    "      \"random\": 66\n",
    "    }\n",
    "  }\n",
    "}\n",
    "\n",
    " \n",
    "def stringifyNumbers(obj):\n",
    "    if type(obj)==dict:\n",
    "        # if dict, iterate and assign value\n",
    "        for key,value in obj.items():\n",
    "            obj[key]=stringifyNumbers(value)\n",
    "    if type(obj) in [int,float]:\n",
    "        # if int, float -> return string\n",
    "        return str(obj)\n",
    "    else:  \n",
    "        # other types, [], bool etc. -> return itself\n",
    "        return obj\n",
    "    \n",
    "    \n",
    "\n",
    "    \n",
    "stringifyNumbers(obj)\n",
    "obj"
   ]
  },
  {
   "cell_type": "markdown",
   "metadata": {},
   "source": [
    "## Collect string\n",
    "* collect all strings in the object"
   ]
  },
  {
   "cell_type": "code",
   "execution_count": 33,
   "metadata": {},
   "outputs": [
    {
     "data": {
      "text/plain": [
       "['foo', 'bar', 'baz']"
      ]
     },
     "execution_count": 33,
     "metadata": {},
     "output_type": "execute_result"
    }
   ],
   "source": [
    "obj = {\n",
    "  \"stuff\": 'foo',\n",
    "  \"data\": {\n",
    "    \"val\": {\n",
    "      \"thing\": {\n",
    "        \"info\": 'bar',\n",
    "        \"moreInfo\": {\n",
    "          \"evenMoreInfo\": {\n",
    "            \"weMadeIt\": 'baz'\n",
    "          }\n",
    "        }\n",
    "      }\n",
    "    }\n",
    "  }\n",
    "}\n",
    "\n",
    "def collectStrings(obj):\n",
    "    ret = []\n",
    "    if type(obj)==dict:\n",
    "        for value in obj.values():\n",
    "            ret.extend(collectStrings(value))  # extend the return values, lists []\n",
    "    elif type(obj)==str:\n",
    "        return [obj]  # return list, let it extend\n",
    "    return ret # return list, let it extend\n",
    "\n",
    "collectStrings(obj)"
   ]
  },
  {
   "cell_type": "code",
   "execution_count": null,
   "metadata": {},
   "outputs": [],
   "source": []
  }
 ],
 "metadata": {
  "kernelspec": {
   "display_name": "Python 3",
   "language": "python",
   "name": "python3"
  },
  "language_info": {
   "codemirror_mode": {
    "name": "ipython",
    "version": 3
   },
   "file_extension": ".py",
   "mimetype": "text/x-python",
   "name": "python",
   "nbconvert_exporter": "python",
   "pygments_lexer": "ipython3",
   "version": "3.7.4"
  }
 },
 "nbformat": 4,
 "nbformat_minor": 4
}
