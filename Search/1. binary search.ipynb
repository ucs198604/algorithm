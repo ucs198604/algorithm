{
 "cells": [
  {
   "cell_type": "code",
   "execution_count": 40,
   "metadata": {
    "scrolled": true
   },
   "outputs": [
    {
     "name": "stdout",
     "output_type": "stream",
     "text": [
      "mid = 5, max = 11, min = 0, guess number = 34\n",
      "mid = 2, max = 4, min = 0, guess number = 6\n",
      "mid = 0, max = 1, min = 0, guess number = 1\n",
      "mid = 1, max = 1, min = 1, guess number = 4\n"
     ]
    },
    {
     "data": {
      "text/plain": [
       "(1, 4)"
      ]
     },
     "execution_count": 40,
     "metadata": {},
     "output_type": "execute_result"
    }
   ],
   "source": [
    "import math\n",
    "lst = [1,4,6,8,10,34,66,98,103,343,1999,13042]\n",
    "\n",
    "\n",
    "def binary_search(lst, target):\n",
    "    max_loc = len(lst)-1\n",
    "    min_loc = 0\n",
    "    step = 0\n",
    "    \n",
    "    while max_loc >= min_loc:\n",
    "        step +=1\n",
    "        # mid = math.ceil((max_loc + min_loc)/2)\n",
    "        # mid = round((max_loc + min_loc)/2)\n",
    "        mid = math.floor((max_loc + min_loc)/2)\n",
    "        print(f'mid = {mid}, max = {max_loc}, min = {min_loc}, guess number = {lst[mid]}')\n",
    "        if lst[mid] == target:\n",
    "            return mid, step\n",
    "        elif lst[mid]<target:\n",
    "            min_loc = mid +1\n",
    "        else:\n",
    "            max_loc = mid -1\n",
    "\n",
    "binary_search(lst,4)"
   ]
  },
  {
   "cell_type": "markdown",
   "metadata": {},
   "source": [
    "### Which is faster?\n",
    "* mid = math.ceil((max_loc + min_loc)/2)\n",
    "* mid = round((max_loc + min_loc)/2)\n",
    "* mid = math.floor((max_loc + min_loc)/2)"
   ]
  },
  {
   "cell_type": "code",
   "execution_count": null,
   "metadata": {},
   "outputs": [],
   "source": []
  }
 ],
 "metadata": {
  "kernelspec": {
   "display_name": "Python 3.7.4 64-bit ('base': conda)",
   "language": "python",
   "name": "python37464bitbasecondad1e57498e3fd4f6c90ab822f500f601d"
  },
  "language_info": {
   "codemirror_mode": {
    "name": "ipython",
    "version": 3
   },
   "file_extension": ".py",
   "mimetype": "text/x-python",
   "name": "python",
   "nbconvert_exporter": "python",
   "pygments_lexer": "ipython3",
   "version": "3.7.4"
  }
 },
 "nbformat": 4,
 "nbformat_minor": 4
}
