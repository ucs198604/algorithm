{
 "cells": [
  {
   "cell_type": "markdown",
   "id": "aaa7bc50-90d7-43cf-8b08-c994a392c497",
   "metadata": {},
   "source": [
    "# Sort, Bubble sort"
   ]
  },
  {
   "cell_type": "code",
   "execution_count": 29,
   "id": "26d47174-39a3-4a4c-addb-f10f3585b729",
   "metadata": {},
   "outputs": [
    {
     "data": {
      "text/plain": [
       "[17, 11, 19, 3, 14, 0, 6, 10, 7, 1, 16, 13, 2, 4, 8, 9, 18, 5, 15, 12]"
      ]
     },
     "execution_count": 29,
     "metadata": {},
     "output_type": "execute_result"
    }
   ],
   "source": [
    "import random\n",
    "\n",
    "data = [x for x in range(20)]\n",
    "random.shuffle(data)\n",
    "data"
   ]
  },
  {
   "cell_type": "code",
   "execution_count": 30,
   "id": "c0c93c7e-5251-4b82-9fc9-fb76ae3f3177",
   "metadata": {},
   "outputs": [
    {
     "data": {
      "text/plain": [
       "[0, 1, 2, 3, 4, 5, 6, 7, 8, 9, 10, 11, 12, 13, 14, 15, 16, 17, 18, 19]"
      ]
     },
     "execution_count": 30,
     "metadata": {},
     "output_type": "execute_result"
    }
   ],
   "source": [
    "# my solution\n",
    "for i in range(len(data)-1,0,-1):  # generate i: 18, 17,...1\n",
    "    # i in range(len(data)-1,-1,-1)  也可以，但最後 i=0的時候，其實k沒有產生東西\n",
    "    for k in range(i):  # generate k: 0-18, 0-17...\n",
    "        if data[k]>data[k+1]:  # compare 0,1 to 18,19\n",
    "            data[k], data[k+1] = data[k+1], data[k]\n",
    "data"
   ]
  },
  {
   "cell_type": "code",
   "execution_count": 26,
   "id": "2e1d891e-6824-4efa-a9f1-5cc5ef44523a",
   "metadata": {},
   "outputs": [
    {
     "data": {
      "text/plain": [
       "[0, 1, 2, 3, 4, 5, 6, 7, 8, 9, 10, 11, 12, 13, 14, 15, 16, 17, 18, 19]"
      ]
     },
     "execution_count": 26,
     "metadata": {},
     "output_type": "execute_result"
    }
   ],
   "source": [
    "# other solution\n",
    "for i in range(len(data)-1):\n",
    "    for k in range(len(data)-i-1):\n",
    "        if data[k]>data[k+1]:\n",
    "            data[k], data[k+1] = data[k+1], data[k]\n",
    "data"
   ]
  },
  {
   "cell_type": "code",
   "execution_count": 27,
   "id": "26cb0e98-7707-45c1-991e-13f326973e31",
   "metadata": {},
   "outputs": [],
   "source": [
    "for i in range(0):\n",
    "    print(i)"
   ]
  },
  {
   "cell_type": "code",
   "execution_count": null,
   "id": "77d11ae6-96bf-437c-ae6a-1718028396c8",
   "metadata": {},
   "outputs": [],
   "source": []
  }
 ],
 "metadata": {
  "kernelspec": {
   "display_name": "Python 3",
   "language": "python",
   "name": "python3"
  },
  "language_info": {
   "codemirror_mode": {
    "name": "ipython",
    "version": 3
   },
   "file_extension": ".py",
   "mimetype": "text/x-python",
   "name": "python",
   "nbconvert_exporter": "python",
   "pygments_lexer": "ipython3",
   "version": "3.8.10"
  }
 },
 "nbformat": 4,
 "nbformat_minor": 5
}
