{
 "cells": [
  {
   "cell_type": "markdown",
   "id": "17a84b2d-c735-4e65-8be8-96787ea7693c",
   "metadata": {},
   "source": [
    "# Bucket sort"
   ]
  },
  {
   "cell_type": "code",
   "execution_count": 49,
   "id": "e63d7fd5-2bb4-42bc-8d33-a91545a44c04",
   "metadata": {},
   "outputs": [
    {
     "data": {
      "text/plain": [
       "[16, 1, 6, 2, 5, 9, 14, 17, 11, 12, 15, 18, 20, 8, 4, 10, 13, 19, 7, 3]"
      ]
     },
     "execution_count": 49,
     "metadata": {},
     "output_type": "execute_result"
    }
   ],
   "source": [
    "import random\n",
    "\n",
    "data = [x for x in range(1,21)]\n",
    "random.shuffle(data)\n",
    "data"
   ]
  },
  {
   "cell_type": "code",
   "execution_count": 53,
   "id": "62ae972c-56b7-4fb2-bcdc-9b5de8ad398d",
   "metadata": {},
   "outputs": [],
   "source": [
    "# my solution\n",
    "\n",
    "# bubble sort\n",
    "def bubble(li):\n",
    "    for j in range(len(li)-1,-1,-1):\n",
    "        for i in range(j):\n",
    "            if li[i]>li[i+1]:\n",
    "                li[i],li[i+1] = li[i+1], li[i]\n",
    "    return li\n",
    "\n",
    "\n",
    "import math\n",
    "max_value = max(data)  # 最大值\n",
    "bucket_number = round(math.sqrt(len(data)))  # bucket 數量\n",
    "bucket = [[] for n in range(bucket_number)]  # 建立 buckets\n",
    "\n",
    "# 0 會變成 index -1, 怎麼辦？ negative value 怎麼辦？\n",
    "for number in data:\n",
    "    # 計算要放到哪個 bucket裡\n",
    "    index = math.ceil(number/max_value*bucket_number) -1\n",
    "    bucket[index].append(number)\n",
    "    \n",
    "# 各自 sort\n",
    "for i in range(len(bucket)):\n",
    "    bucket[i] = bubble(bucket[i])\n",
    "    \n",
    "# flatten the list\n",
    "# 注意： [i for i in j for j in bucket] 回報錯\n",
    "bucket = [i for j in bucket for i in j]\n",
    "\n"
   ]
  },
  {
   "cell_type": "code",
   "execution_count": 54,
   "id": "9bb1608f-fe13-43d8-8705-44345eb9b237",
   "metadata": {},
   "outputs": [
    {
     "data": {
      "text/plain": [
       "[1, 2, 3, 4, 5, 6, 7, 8, 9, 10, 11, 12, 13, 14, 15, 16, 17, 18, 19, 20]"
      ]
     },
     "execution_count": 54,
     "metadata": {},
     "output_type": "execute_result"
    }
   ],
   "source": [
    "bucket"
   ]
  },
  {
   "cell_type": "code",
   "execution_count": null,
   "id": "75e6df16-db5b-442a-9cf4-52cc4bdcfb0e",
   "metadata": {},
   "outputs": [],
   "source": []
  }
 ],
 "metadata": {
  "kernelspec": {
   "display_name": "Python 3",
   "language": "python",
   "name": "python3"
  },
  "language_info": {
   "codemirror_mode": {
    "name": "ipython",
    "version": 3
   },
   "file_extension": ".py",
   "mimetype": "text/x-python",
   "name": "python",
   "nbconvert_exporter": "python",
   "pygments_lexer": "ipython3",
   "version": "3.8.10"
  }
 },
 "nbformat": 4,
 "nbformat_minor": 5
}
