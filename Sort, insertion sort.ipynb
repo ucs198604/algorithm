{
 "cells": [
  {
   "cell_type": "markdown",
   "id": "5c2b22f6-e797-484b-bc84-bd714eb7b96f",
   "metadata": {},
   "source": [
    "# Insertion sort"
   ]
  },
  {
   "cell_type": "code",
   "execution_count": 32,
   "id": "64003941-58f7-4ccf-bb50-db4941df78ea",
   "metadata": {},
   "outputs": [
    {
     "data": {
      "text/plain": [
       "[1, 11, 6, 14, 0, 3, 16, 19, 15, 13, 7, 4, 2, 18, 12, 9, 5, 10, 8, 17]"
      ]
     },
     "execution_count": 32,
     "metadata": {},
     "output_type": "execute_result"
    }
   ],
   "source": [
    "import random\n",
    "import timeit\n",
    "\n",
    "def generate_random(num=20):\n",
    "    data = [x for x in range(num)]\n",
    "    random.shuffle(data)\n",
    "    return data\n",
    "\n",
    "generate_random()"
   ]
  },
  {
   "cell_type": "code",
   "execution_count": null,
   "id": "847d84d4-3144-4220-89d2-47b8e603e230",
   "metadata": {},
   "outputs": [],
   "source": []
  },
  {
   "cell_type": "code",
   "execution_count": 38,
   "id": "804c10ae-9ecb-4fba-a340-6ac1ef2a0d9a",
   "metadata": {},
   "outputs": [
    {
     "data": {
      "text/plain": [
       "[0, 1, 2, 3, 4, 5, 6, 7, 8, 9, 10, 11, 12, 13, 14, 15, 16, 17, 18, 19]"
      ]
     },
     "execution_count": 38,
     "metadata": {},
     "output_type": "execute_result"
    }
   ],
   "source": [
    "# my first thought\n",
    "data = generate_random()\n",
    "sorted_data = []\n",
    "\n",
    "# 直到 unsorted data 為空\n",
    "while(len(data)!=0):\n",
    "    current_value = data.pop()  # get current value\n",
    "    for i in range(len(sorted_data)):  # compare with whole list\n",
    "        if current_value<sorted_data[i]:  # 因為 sorted list 有經過排序，所以一旦符合就可以執行插值\n",
    "            # sorted_data.insert(i, current_value)\n",
    "            sorted_data = sorted_data[:i] + [current_value] + sorted_data[i:]\n",
    "            break\n",
    "    else:\n",
    "        # 當都沒有符合的時候，加在最後面\n",
    "        # 可能是 sorted_data 是空的，或是所有目前的數值都比他小\n",
    "        sorted_data.append(current_value)  \n",
    "sorted_data"
   ]
  },
  {
   "cell_type": "code",
   "execution_count": 46,
   "id": "07417d6a-38de-48cb-8b04-cfdd794239cd",
   "metadata": {},
   "outputs": [
    {
     "data": {
      "text/plain": [
       "[2, 3, 3]"
      ]
     },
     "execution_count": 46,
     "metadata": {},
     "output_type": "execute_result"
    }
   ],
   "source": [
    "aa = [1,2,3]\n",
    "aa[:2] = [2,3]\n",
    "aa"
   ]
  },
  {
   "cell_type": "code",
   "execution_count": 61,
   "id": "41464923-504e-4627-821e-2e1373ee9d3e",
   "metadata": {},
   "outputs": [
    {
     "data": {
      "text/plain": [
       "[0, 1, 2, 3, 4, 5, 6, 7, 8, 9]"
      ]
     },
     "execution_count": 61,
     "metadata": {},
     "output_type": "execute_result"
    }
   ],
   "source": [
    "# 不特別建立一個 list\n",
    "\n",
    "data = generate_random(10)\n",
    "# 取data[i]數值做比較\n",
    "for i in range(len(data)):\n",
    "    for k in range(i):  # 在 0 to i-1 的範圍，是 sorted data\n",
    "        if data[k]>data[i]:  # 當 第 k個數值比 data[i]大的時候，進行 insertion\n",
    "            # 在 data[0 to i] 的範圍，把 data[i] 搬到適合的位置\n",
    "            data[:i+1] = data[:k] + [data[i]] + data[k:i]  # data[:k]不包含第k數值\n",
    "data\n"
   ]
  },
  {
   "cell_type": "code",
   "execution_count": 42,
   "id": "7e8a6ca9-d5dc-4cae-be8b-bf6b32c1892c",
   "metadata": {},
   "outputs": [
    {
     "data": {
      "text/plain": [
       "[0, 1, 2, 3, 4, 5, 6, 7, 8, 9, 10, 11, 12, 13, 14, 15, 16, 17, 18, 19]"
      ]
     },
     "execution_count": 42,
     "metadata": {},
     "output_type": "execute_result"
    }
   ],
   "source": [
    "# 常見的 solution\n",
    "\n",
    "data = generate_random()\n",
    "for i in range(1, len(data)):  # 從location 1 開始\n",
    "    current_value = data[i]  # 暫存 value\n",
    "    \n",
    "    for j in range(i-1,-1,-1): \n",
    "    # 也可以用 while loop 配上降j數值，直到j==0為止\n",
    "        # 從暫存數值的前一個位置開始比較，也就是已排序數值中最大的\n",
    "        # 一直到 location 0，或是排序成功為止\n",
    "        if current_value<data[j]:\n",
    "            # 一開始 i==j+1。如果 current_value<已排序的數值，則依序換到 location j\n",
    "            data[j], data[j+1] = data[j+1], data[j]\n",
    "        else:\n",
    "            # 一旦 current_value>=已排序的某一個數值，則表示不需要再進行交換\n",
    "            break\n",
    "data"
   ]
  },
  {
   "cell_type": "markdown",
   "id": "3227f798-8111-4230-b17c-9b3a112630cd",
   "metadata": {},
   "source": [
    "## 比較兩者速度"
   ]
  },
  {
   "cell_type": "code",
   "execution_count": 69,
   "id": "edb99925-4fb4-4b02-8e40-c39c60c6f095",
   "metadata": {},
   "outputs": [],
   "source": [
    "def solution_0():\n",
    "    data = generate_random(1000)\n",
    "    sorted_data = []\n",
    "\n",
    "    # 直到 unsorted data 為空\n",
    "    while(len(data)!=0):\n",
    "        current_value = data.pop()  # get current value\n",
    "        for i in range(len(sorted_data)):  # compare with whole list\n",
    "            if current_value<sorted_data[i]:  # 因為 sorted list 有經過排序，所以一旦符合就可以執行插值\n",
    "                # sorted_data.insert(i, current_value)\n",
    "                sorted_data = sorted_data[:i] + [current_value] + sorted_data[i:]\n",
    "                break\n",
    "        else:\n",
    "            # 當都沒有符合的時候，加在最後面\n",
    "            # 可能是 sorted_data 是空的，或是所有目前的數值都比他小\n",
    "            sorted_data.append(current_value)  \n",
    "\n",
    "def solution_1():\n",
    "    # 不特別建立一個 list\n",
    "    data = generate_random(1000)\n",
    "    # 取data[i]數值做比較\n",
    "    for i in range(len(data)):\n",
    "        for k in range(i):  # 在 0 to i-1 的範圍，是 sorted data\n",
    "            if data[k]>data[i]:  # 當 第 k個數值比 data[i]大的時候，進行 insertion\n",
    "                # 在 data[0 to i] 的範圍，把 data[i] 搬到適合的位置\n",
    "                data[:i+1] = data[:k] + [data[i]] + data[k:i]  # data[:k]不包含第k數值\n",
    "\n",
    "def solution_2():\n",
    "    data = generate_random(1000)\n",
    "    for i in range(1, len(data)):  # 從location 1 開始\n",
    "        current_value = data[i]  # 暫存 value\n",
    "\n",
    "        for j in range(i-1,-1,-1): \n",
    "        # 也可以用 while loop 配上降j數值，直到j==0為止\n",
    "            # 從暫存數值的前一個位置開始比較，也就是已排序數值中最大的\n",
    "            # 一直到 location 0，或是排序成功為止\n",
    "            if current_value<data[j]:\n",
    "                # 一開始 i==j+1。如果 current_value<已排序的數值，則依序換到 location j\n",
    "                data[j], data[j+1] = data[j+1], data[j]\n",
    "            else:\n",
    "                # 一旦 current_value>=已排序的某一個數值，則表示不需要再進行交換\n",
    "                break"
   ]
  },
  {
   "cell_type": "code",
   "execution_count": 71,
   "id": "b32e5507-fd75-4831-a7fe-0180e6efc910",
   "metadata": {},
   "outputs": [
    {
     "name": "stdout",
     "output_type": "stream",
     "text": [
      "18.2 ms ± 400 µs per loop (mean ± std. dev. of 7 runs, 10 loops each)\n"
     ]
    }
   ],
   "source": [
    "%%timeit\n",
    "solution_0()"
   ]
  },
  {
   "cell_type": "code",
   "execution_count": 65,
   "id": "316f483b-0d3b-4280-8934-4b833ccde865",
   "metadata": {},
   "outputs": [
    {
     "name": "stdout",
     "output_type": "stream",
     "text": [
      "44.3 ms ± 2.06 ms per loop (mean ± std. dev. of 7 runs, 10 loops each)\n"
     ]
    }
   ],
   "source": [
    "%%timeit\n",
    "solution_1()"
   ]
  },
  {
   "cell_type": "code",
   "execution_count": 66,
   "id": "b05c8c66-61a8-47a7-a691-23a105e69e13",
   "metadata": {},
   "outputs": [
    {
     "name": "stdout",
     "output_type": "stream",
     "text": [
      "48 ms ± 1.41 ms per loop (mean ± std. dev. of 7 runs, 10 loops each)\n"
     ]
    }
   ],
   "source": [
    "%%timeit\n",
    "solution_2()"
   ]
  },
  {
   "cell_type": "code",
   "execution_count": null,
   "id": "7807c3d8-1111-4df6-bbee-ea5f916042a2",
   "metadata": {},
   "outputs": [],
   "source": [
    "## compare, merge sort\n",
    "# 7.2 ms ± 499 µs per loop (mean ± std. dev. of 7 runs, 100 loops each)"
   ]
  }
 ],
 "metadata": {
  "kernelspec": {
   "display_name": "Python 3",
   "language": "python",
   "name": "python3"
  },
  "language_info": {
   "codemirror_mode": {
    "name": "ipython",
    "version": 3
   },
   "file_extension": ".py",
   "mimetype": "text/x-python",
   "name": "python",
   "nbconvert_exporter": "python",
   "pygments_lexer": "ipython3",
   "version": "3.8.10"
  }
 },
 "nbformat": 4,
 "nbformat_minor": 5
}
