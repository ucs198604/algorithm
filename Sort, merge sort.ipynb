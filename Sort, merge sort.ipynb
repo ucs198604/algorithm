{
 "cells": [
  {
   "cell_type": "markdown",
   "id": "0d616820-d604-4ab1-bc62-c483e32e174f",
   "metadata": {},
   "source": [
    "# Merge sort"
   ]
  },
  {
   "cell_type": "code",
   "execution_count": 395,
   "id": "395627e5-0a0b-4d3f-8217-f9a28433c3d0",
   "metadata": {},
   "outputs": [
    {
     "data": {
      "text/plain": [
       "[10, 5, 9, 6, 2, 8, 7, 4, 3, 1]"
      ]
     },
     "execution_count": 395,
     "metadata": {},
     "output_type": "execute_result"
    }
   ],
   "source": [
    "import random\n",
    "\n",
    "data = [x for x in range(1,11)]\n",
    "random.shuffle(data)\n",
    "data"
   ]
  },
  {
   "cell_type": "markdown",
   "id": "ff2cd368-6f42-410d-b9e5-aa6f1e2da807",
   "metadata": {},
   "source": [
    "## List implementation\n",
    "\n"
   ]
  },
  {
   "cell_type": "markdown",
   "id": "d7d11a2d-19a0-46c7-ab64-f2efe8c7f915",
   "metadata": {},
   "source": [
    "### initial solution"
   ]
  },
  {
   "cell_type": "code",
   "execution_count": null,
   "id": "4a9a2a97-48eb-4536-8f4e-4f9708a55edb",
   "metadata": {},
   "outputs": [],
   "source": [
    "\n",
    "def merge(data_list, num_of_elements):\n",
    "    # divide\n",
    "    for i in range(0, len(data_list),num_of_elements):\n",
    "        # 重整區塊裡面分兩組list_a, list_b 做比較\n",
    "        list_a = data_list[i:i+num_of_elements//2]\n",
    "        # 最後一個 list_b 可能會超出範圍\n",
    "        try:\n",
    "            list_b = data_list[i+num_of_elements//2: i+num_of_elements]\n",
    "        except:\n",
    "            list_b = data_list[i+num_of_elements//2:]\n",
    "            \n",
    "        # 可以看\n",
    "        print(list_a, list_b)\n",
    "        \n",
    "        # sort\n",
    "        temp_list = []\n",
    "        while len(list_a)!=0 or len(list_b)!=0:\n",
    "            if len(list_a)==0:\n",
    "                temp_list.append(list_b.pop(0))\n",
    "            elif len(list_b)==0:\n",
    "                temp_list.append(list_a.pop(0))\n",
    "            else:\n",
    "                if list_a[0]<list_b[0]:\n",
    "                    temp_list.append(list_a.pop(0))\n",
    "                else:\n",
    "                    temp_list.append(list_b.pop(0))\n",
    "        # assign value\n",
    "        data_list[i:i+len(temp_list)] = temp_list\n",
    "    \n",
    "data = generate_random(11)\n",
    "print(data)\n",
    "\n",
    "# number of elements 是每次重整的區塊大小\n",
    "# 重整區塊裡面分兩組list_a, list_b 做比較\n",
    "# 從 1開始沒意義，因為沒得比較，2 開始，4,8,16..\n",
    "noe = 2\n",
    "\n",
    "# number_of_element 範圍內，分兩組，去 merge\n",
    "# 所以如果 number_of_element/2 >= len(data)，就會浪費了\n",
    "# 所以 number_of_element 不要大於 2*len(data)\n",
    "# 如果寫 noe<=len(data)，則可能會多比一次，但速度幾乎沒差\n",
    "while noe<len(data)*2:\n",
    "    merge(data, noe)\n",
    "    noe = noe*2\n",
    "print(data)"
   ]
  },
  {
   "cell_type": "markdown",
   "id": "123579fd-6d30-470a-8757-120cda58bf1d",
   "metadata": {},
   "source": [
    "## Recursion implementation"
   ]
  },
  {
   "cell_type": "code",
   "execution_count": 456,
   "id": "267bd3ad-fab3-405f-9ced-6e99624075be",
   "metadata": {},
   "outputs": [
    {
     "data": {
      "text/plain": [
       "[100, 3, 16, 8, 2, 19, 13, 5, 18, 4, 10, 12, 11, 7, 17, 6, 14, 1, 0, 15]"
      ]
     },
     "execution_count": 456,
     "metadata": {},
     "output_type": "execute_result"
    }
   ],
   "source": [
    "\n",
    "data = generate_random(20)\n",
    "def test(data):\n",
    "    data[0] = 100\n",
    "test(data)\n",
    "data"
   ]
  },
  {
   "cell_type": "code",
   "execution_count": 468,
   "id": "43f97d0c-c1ef-41b6-8469-43a11b4c098e",
   "metadata": {},
   "outputs": [
    {
     "name": "stdout",
     "output_type": "stream",
     "text": [
      "[6, 5, 2, 3, 8, 7, 1, 0, 4, 9]\n",
      "[5, 6]\n",
      "[3, 8]\n",
      "[2, 3, 8]\n",
      "[2, 3, 5, 6, 8]\n",
      "[1, 7]\n",
      "[4, 9]\n",
      "[0, 4, 9]\n",
      "[0, 1, 4, 7, 9]\n",
      "[0, 1, 2, 3, 4, 5, 6, 7, 8, 9]\n"
     ]
    }
   ],
   "source": [
    "data = generate_random(10)\n",
    "print(data)\n",
    "\n",
    "def merge_sort(data_list):\n",
    "    \n",
    "    # 不會有 0 的，因為在==1的時候，就已經攔截了\n",
    "    if len(data_list)==1:\n",
    "        return # data_list\n",
    "    split_index = len(data_list)//2\n",
    "    # 暫存數值\n",
    "    left_list = data_list[:split_index]\n",
    "    right_list = data_list[split_index:]\n",
    "    \n",
    "    # 把 left_list 以及 right_list進行排序\n",
    "    merge_sort(left_list)\n",
    "    merge_sort(right_list)\n",
    "    \n",
    "    # 不需賦值！！ -> 不需 data_list[:split_index] = merge_sort(left_list)\n",
    "    # 為什麼不需賦值？\n",
    "    # 因為上面呼叫後，程式碼走到下面，是將 left_list 以及 right_list 本身進行排序\n",
    "    # 然後下面開始依照剛剛排序完的 left list and right list，開始合併排序\n",
    "    \n",
    "    left_index = 0\n",
    "    right_index = 0\n",
    "    index = 0\n",
    "    # 左右 list 取最小的\n",
    "    # 將原本傳入的 array data_list 進行修改\n",
    "    while left_index<len(left_list) and right_index<len(right_list):\n",
    "        if left_list[left_index] < right_list[right_index]:\n",
    "            data_list[index] = left_list[left_index]\n",
    "            left_index+=1\n",
    "        else:\n",
    "            data_list[index] = right_list[right_index]\n",
    "            right_index+=1\n",
    "        index+=1\n",
    "    # 如果 left or right list 還有剩下的話\n",
    "    while left_index<len(left_list):\n",
    "        data_list[index] = left_list[left_index]\n",
    "        left_index+=1\n",
    "        index+=1\n",
    "    while right_index<len(right_list):\n",
    "        data_list[index] = right_list[right_index]\n",
    "        right_index+=1\n",
    "        index+=1\n",
    "    # 這裡的 data_list，改變的是上一步驟的 left or right list\n",
    "    \n",
    "    print(data_list)\n",
    "        \n",
    "    # 不需要 return\n",
    "    # return data_list\n",
    "\n",
    "merge_sort(data)"
   ]
  },
  {
   "cell_type": "code",
   "execution_count": 449,
   "id": "ea921586-568c-474b-b7d2-e50aeae373da",
   "metadata": {},
   "outputs": [
    {
     "data": {
      "text/plain": [
       "[0, 1, 2, 3, 4, 5, 6, 7, 8, 9, 10, 11, 12, 13, 14, 15, 16, 17, 18, 19]"
      ]
     },
     "execution_count": 449,
     "metadata": {},
     "output_type": "execute_result"
    }
   ],
   "source": [
    "data"
   ]
  },
  {
   "cell_type": "markdown",
   "id": "0e1fefe2-a7d3-4700-a789-88be2dcb5909",
   "metadata": {},
   "source": [
    "## Linked list implementation"
   ]
  },
  {
   "cell_type": "code",
   "execution_count": 403,
   "id": "8b63e7cb-4f73-4740-acce-8c746e200250",
   "metadata": {},
   "outputs": [],
   "source": [
    "\n",
    "class Node():\n",
    "    def __init__(self, value):\n",
    "        self.value = value\n",
    "        self.left = None\n",
    "        self.right = None\n",
    "        \n",
    "class Tree():\n",
    "    def __init__(self, value):\n",
    "        self.root = Node(value)\n",
    "\n",
    "    def divide(self, node=None):\n",
    "        if node is None:\n",
    "            node = self.root\n",
    "\n",
    "        # 如果只剩一個value，則不需要再divide\n",
    "        if len(node.value)==1:\n",
    "            return\n",
    "        else:\n",
    "            # node.value = [v for v in node.value if v is not None]\n",
    "            # 加上這句原意是要讓判斷次數減少\n",
    "            # 但實際證明不清除 None value ，讓 data 成為complete tree反而比較快\n",
    "            # 但有沒有加上這句都可以，因為後來判斷 None 則回覆 []，combine的時候沒問題\n",
    "            # 但是加上這句會變慢 7.5ms vs 6ms。因為執行這句要時間，判斷減少爭取的時間不夠補償\n",
    "            \n",
    "            # 如果不為偶數，則補上 None\n",
    "            if len(node.value)%2!=0:\n",
    "                node.value.append(None)\n",
    "            # 分割點\n",
    "            split_index = len(node.value)//2\n",
    "            # 分割左右 node\n",
    "            node.left = Node(node.value[:split_index])\n",
    "            node.right = Node(node.value[split_index:])\n",
    "            \n",
    "            # 繼續執行左右 node 的分割\n",
    "            self.divide(node.left)\n",
    "            self.divide(node.right)\n",
    "            \n",
    "    def combined(self, node=None, not_root=False):\n",
    "        if node is None and not_root==False:\n",
    "            node = self.root\n",
    "        \n",
    "        # 當 node是 leaf node，則 value list只有一個元素\n",
    "        # 不用比較，直接回覆value本身，或是空list\n",
    "        if len(node.value)==1:\n",
    "            if node.value==[None]:\n",
    "                return []\n",
    "            else:\n",
    "                return node.value\n",
    "        else:\n",
    "            # 彙整左邊 value 以及右邊 value\n",
    "            left_value = self.combined(node.left, True)\n",
    "            right_value = self.combined(node.right, True)\n",
    "            \n",
    "            # 多這兩行會讓速度減緩，但是能夠比較看得清楚整個變化\n",
    "            left_value = [v for v in left_value]\n",
    "            right_value = [v for v in right_value]\n",
    "            temp_value = []\n",
    "            \n",
    "            # 將left_value, right_value合併排序 \n",
    "            # 因為兩者都是排序過的 list，所以只要比較第一個數值即可\n",
    "            while len(left_value)!=0 or len(right_value)!=0:\n",
    "                if len(left_value)==0:\n",
    "                    temp_value.append(right_value.pop(0))\n",
    "                elif len(right_value)==0:\n",
    "                    temp_value.append(left_value.pop(0))\n",
    "                elif left_value[0]<right_value[0]:\n",
    "                    temp_value.append(left_value.pop(0))\n",
    "                else:\n",
    "                    temp_value.append(right_value.pop(0))\n",
    "            node.value = temp_value\n",
    "            return temp_value\n",
    "            \n",
    "    def __str__(self, node=None, level=0):\n",
    "        if node is None:\n",
    "            node = self.root\n",
    "        if node.left is None:\n",
    "            #left_str = '     '*(level+1)\n",
    "            left_str = ''\n",
    "        else:\n",
    "            left_str = self.__str__(node.left, level+1)\n",
    "        if node.right is None:\n",
    "            #right_str = '     '*(level+1)\n",
    "            right_str = ''\n",
    "        else:\n",
    "            right_str = self.__str__(node.right, level+1)\n",
    "        current_str = '           '*level + str(node.value) + '\\n'\n",
    "        return left_str + current_str + right_str\n",
    "        "
   ]
  },
  {
   "cell_type": "code",
   "execution_count": 406,
   "id": "6e7c5854-16f0-4197-8c2a-560c77ea25d6",
   "metadata": {},
   "outputs": [],
   "source": [
    "data = generate_random(6)\n",
    "t = Tree(data)\n",
    "t.divide()"
   ]
  },
  {
   "cell_type": "code",
   "execution_count": 407,
   "id": "bc290cb7-bf08-4dfb-8378-71dc6b229f66",
   "metadata": {},
   "outputs": [
    {
     "name": "stdout",
     "output_type": "stream",
     "text": [
      "                                 [1]\n",
      "                      [1, 4]\n",
      "                                 [4]\n",
      "           [1, 4, 3, None]\n",
      "                                 [3]\n",
      "                      [3, None]\n",
      "                                 [None]\n",
      "[1, 4, 3, 5, 0, 2]\n",
      "                                 [5]\n",
      "                      [5, 0]\n",
      "                                 [0]\n",
      "           [5, 0, 2, None]\n",
      "                                 [2]\n",
      "                      [2, None]\n",
      "                                 [None]\n",
      "\n"
     ]
    }
   ],
   "source": [
    "print(t)"
   ]
  },
  {
   "cell_type": "code",
   "execution_count": 408,
   "id": "3f7a4a9b-f1cc-4694-a2a0-c8e3ff525bbc",
   "metadata": {},
   "outputs": [
    {
     "name": "stdout",
     "output_type": "stream",
     "text": [
      "                                 [1]\n",
      "                      [1, 4]\n",
      "                                 [4]\n",
      "           [1, 3, 4]\n",
      "                                 [3]\n",
      "                      [3]\n",
      "                                 [None]\n",
      "[0, 1, 2, 3, 4, 5]\n",
      "                                 [5]\n",
      "                      [0, 5]\n",
      "                                 [0]\n",
      "           [0, 2, 5]\n",
      "                                 [2]\n",
      "                      [2]\n",
      "                                 [None]\n",
      "\n"
     ]
    }
   ],
   "source": [
    "t.combined()\n",
    "print(t)"
   ]
  },
  {
   "cell_type": "code",
   "execution_count": 284,
   "id": "de2711f0-8053-4d91-b79e-322b7e2d70ed",
   "metadata": {},
   "outputs": [
    {
     "data": {
      "text/plain": [
       "[1, 2, 3, 4, 5, 6, 7, 8, 9, 10, 11, 12, 13, 14, 15, 16, 17, 18, 19]"
      ]
     },
     "execution_count": 284,
     "metadata": {},
     "output_type": "execute_result"
    }
   ],
   "source": [
    "t.root.value"
   ]
  },
  {
   "cell_type": "markdown",
   "id": "9529a2ac-1e97-40ea-8822-c4a6d8b8a65f",
   "metadata": {},
   "source": [
    "## Testing speed"
   ]
  },
  {
   "cell_type": "code",
   "execution_count": 217,
   "id": "36332d85-e182-44b9-9725-c5b4813caea1",
   "metadata": {},
   "outputs": [],
   "source": [
    "import timeit"
   ]
  },
  {
   "cell_type": "code",
   "execution_count": 215,
   "id": "44d8a172-f16e-455f-9cfc-5a91ce2c71f7",
   "metadata": {},
   "outputs": [],
   "source": [
    "def generate_random(num=20):\n",
    "    data = [x for x in range(num)]\n",
    "    random.shuffle(data)\n",
    "    return data"
   ]
  },
  {
   "cell_type": "code",
   "execution_count": 216,
   "id": "4de1e568-491b-4369-bb25-0b8ed615d626",
   "metadata": {},
   "outputs": [],
   "source": [
    "# 加 node.value = [v for v in node.value if v is not None]\n",
    "# 清除 None value \n",
    "def solution_1():\n",
    "    data = generate_random(1000)\n",
    "    t = Tree(data)\n",
    "    t.divide()\n",
    "    t.combined()"
   ]
  },
  {
   "cell_type": "code",
   "execution_count": 219,
   "id": "a092d36b-9c55-45d6-9053-922e308d5b78",
   "metadata": {},
   "outputs": [],
   "source": [
    "# 不加 node.value = [v for v in node.value if v is not None]\n",
    "# 不清除 None value ，讓 data 成為complete tree反而比較快\n",
    "def solution_2():\n",
    "    data = generate_random(1000)\n",
    "    t = Tree(data)\n",
    "    t.divide()\n",
    "    t.combined()"
   ]
  },
  {
   "cell_type": "code",
   "execution_count": null,
   "id": "9047f1dd-cb01-48ac-9e0f-d2afa5975323",
   "metadata": {},
   "outputs": [],
   "source": [
    "# 使用 list implementation\n",
    "def solution_list():\n",
    "    data = generate_random(1000)\n",
    "    i = 2\n",
    "    while i<len(data)*2:\n",
    "        merge(data,i)\n",
    "        i = i*2"
   ]
  },
  {
   "cell_type": "code",
   "execution_count": null,
   "id": "4b0523bb-0e74-4122-8ab0-b9e8b479fee7",
   "metadata": {},
   "outputs": [],
   "source": [
    "# 使用 大部分解答的解法\n",
    "def solution_merge_sort():\n",
    "    data = generate_random(1000)\n",
    "    merge_sort(data)"
   ]
  },
  {
   "cell_type": "code",
   "execution_count": 226,
   "id": "3ea57c22-bcd7-4e63-880d-1937d795df3b",
   "metadata": {},
   "outputs": [
    {
     "name": "stdout",
     "output_type": "stream",
     "text": [
      "7.61 ms ± 578 µs per loop (mean ± std. dev. of 7 runs, 100 loops each)\n"
     ]
    }
   ],
   "source": [
    "%%timeit\n",
    "solution_1()\n",
    "\n",
    "# "
   ]
  },
  {
   "cell_type": "code",
   "execution_count": 223,
   "id": "490798e3-3c6c-49a6-bca5-e6295c0230d5",
   "metadata": {},
   "outputs": [
    {
     "name": "stdout",
     "output_type": "stream",
     "text": [
      "6.03 ms ± 99.9 µs per loop (mean ± std. dev. of 7 runs, 100 loops each)\n"
     ]
    }
   ],
   "source": [
    "%%timeit\n",
    "solution_2()\n",
    "# 不加 node.value = [v for v in node.value if v is not None]\n",
    "# 不清除 None value ，讓 data 成為complete tree反而比較快"
   ]
  },
  {
   "cell_type": "code",
   "execution_count": 346,
   "id": "4c95a13a-43df-4fc6-b1d4-2e75b14eaa5c",
   "metadata": {},
   "outputs": [
    {
     "name": "stdout",
     "output_type": "stream",
     "text": [
      "4.54 ms ± 239 µs per loop (mean ± std. dev. of 7 runs, 100 loops each)\n"
     ]
    }
   ],
   "source": [
    "%%timeit\n",
    "solution_list()\n",
    "# list implementation is even faster than linked list implementation"
   ]
  },
  {
   "cell_type": "code",
   "execution_count": 463,
   "id": "57ef10ef-2dbc-499c-a918-bf926959c477",
   "metadata": {},
   "outputs": [
    {
     "name": "stdout",
     "output_type": "stream",
     "text": [
      "3.65 ms ± 93.5 µs per loop (mean ± std. dev. of 7 runs, 100 loops each)\n"
     ]
    }
   ],
   "source": [
    "%%timeit\n",
    "solution_merge_sort()\n",
    "# 利用 recursion 是最快的"
   ]
  },
  {
   "cell_type": "code",
   "execution_count": null,
   "id": "4d2d1727-6595-48d9-a6c6-db889594b6ac",
   "metadata": {},
   "outputs": [],
   "source": []
  }
 ],
 "metadata": {
  "kernelspec": {
   "display_name": "Python 3",
   "language": "python",
   "name": "python3"
  },
  "language_info": {
   "codemirror_mode": {
    "name": "ipython",
    "version": 3
   },
   "file_extension": ".py",
   "mimetype": "text/x-python",
   "name": "python",
   "nbconvert_exporter": "python",
   "pygments_lexer": "ipython3",
   "version": "3.8.10"
  }
 },
 "nbformat": 4,
 "nbformat_minor": 5
}
