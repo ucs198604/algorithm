{
 "cells": [
  {
   "cell_type": "markdown",
   "id": "51c23c7d-a99b-4918-b0e3-51c66a6404ac",
   "metadata": {},
   "source": [
    "# Quick sort"
   ]
  },
  {
   "cell_type": "code",
   "execution_count": 694,
   "id": "f3941e93-5f8a-41c6-9812-0494f2ea2ac7",
   "metadata": {
    "tags": []
   },
   "outputs": [
    {
     "data": {
      "text/plain": [
       "[2, 8, 14, 19, 6, 3, 9, 1, 15, 5, 7, 18, 4, 10, 12, 11, 17, 16, 13]"
      ]
     },
     "execution_count": 694,
     "metadata": {},
     "output_type": "execute_result"
    }
   ],
   "source": [
    "import random\n",
    "import timeit\n",
    "\n",
    "data = [x for x in range(1,20)]\n",
    "random.shuffle(data)\n",
    "data"
   ]
  },
  {
   "cell_type": "code",
   "execution_count": 567,
   "id": "4fa10275-3af8-422f-b0ab-faea46fe1b86",
   "metadata": {},
   "outputs": [],
   "source": [
    "data = [5, 2, 18, 16, 15, 6, 12, 11, 3, 10, 13, 7, 17, 8, 14, 4, 1, 9, 19]\n"
   ]
  },
  {
   "cell_type": "code",
   "execution_count": 700,
   "id": "dc7c25cd-aabb-44e0-9de5-58740048857f",
   "metadata": {},
   "outputs": [
    {
     "name": "stdout",
     "output_type": "stream",
     "text": [
      "2.74 ms ± 84.7 µs per loop (mean ± std. dev. of 7 runs, 100 loops each)\n"
     ]
    }
   ],
   "source": [
    "%%timeit\n",
    "sol_2()"
   ]
  },
  {
   "cell_type": "code",
   "execution_count": 750,
   "id": "379f0e9d-e442-4a50-bd39-bebdbf722128",
   "metadata": {
    "tags": []
   },
   "outputs": [
    {
     "name": "stdout",
     "output_type": "stream",
     "text": [
      "[19, 4, 17, 13, 15, 8, 12, 9, 3, 0, 11, 6, 7, 16, 1, 10, 18, 5, 14, 2]\n",
      "[0, 1, 2, 3, 4, 5, 6, 7, 8, 9, 10, 11, 12, 13, 14, 15, 16, 17, 18, 19]\n"
     ]
    }
   ],
   "source": [
    "data = [x for x in range(20)]\n",
    "random.shuffle(data)\n",
    "print(data)\n",
    "quick_sort(data)\n",
    "print(data)\n"
   ]
  },
  {
   "cell_type": "markdown",
   "id": "283d646a-a42f-476e-a677-5a0ea4cebcb2",
   "metadata": {
    "tags": []
   },
   "source": [
    "## improved implementation"
   ]
  },
  {
   "cell_type": "code",
   "execution_count": 701,
   "id": "9ac30fe4-c332-405b-954f-db632874c169",
   "metadata": {},
   "outputs": [],
   "source": [
    "\n",
    "def quick_sort(data_list, start=None, end=None):\n",
    "    # 設定第一次呼叫時 start and end 的位置\n",
    "    if start is None:\n",
    "        start = 0\n",
    "    if end is None:\n",
    "        end = len(data_list)-1\n",
    "        \n",
    "    # 只有一個 element，表示位置OK\n",
    "    if start==end:\n",
    "        return\n",
    "    # 如果 start 超過 end，表示不需要執行了\n",
    "    if start>end:\n",
    "        return\n",
    "    \n",
    "    P = end  # pivot\n",
    "    L = start  # left index\n",
    "    R = end # right index\n",
    "    \n",
    "    while True:\n",
    "        # R 最低走到 start，此時P為全場最小值\n",
    "        # 等號讓判斷式能走過 pivot\n",
    "        while start<R and data_list[R]>=data_list[P]:\n",
    "            R-=1\n",
    "        # L 最高走到 end，也就是 P，此時 P為全場最大值\n",
    "        while L<end and data_list[L]<data_list[P]:\n",
    "            L+=1\n",
    "        if L<R:\n",
    "            data_list[L], data_list[R] = data_list[R], data_list[L]\n",
    "        \n",
    "        # 一定要是 L>=R, L==R or L>R 都無法滿足極端值\n",
    "        # 只有 L>R，則[1,0]時，L/R 會同在 location 0停住，則會無限循環\n",
    "        # 只有 L==R，會抓不到常見的停止訊號，也就是 R==L-1 的時候\n",
    "        if L>=R:\n",
    "            break\n",
    "    \n",
    "    # 此時無論什麼情況，L位的數值都>= pivot，R位的數值都<=Pivot\n",
    "    # 所以 Pivot 的正確位置應該在 L 位\n",
    "    data_list[P], data_list[L] = data_list[L], data_list[P]\n",
    "    P = L\n",
    "\n",
    "    # 之後分兩邊\n",
    "    # 因為一開始設定了如果 start>=end 就會結束，所以不會出問題\n",
    "    quick_sort(data_list, start, P-1)\n",
    "    quick_sort(data_list, P+1, end)\n",
    "\n"
   ]
  },
  {
   "cell_type": "markdown",
   "id": "8f644e34-5709-4cd4-8a16-5a14ef5d8a35",
   "metadata": {},
   "source": [
    "## Initial"
   ]
  },
  {
   "cell_type": "code",
   "execution_count": 697,
   "id": "579d4bfc-ba78-4f3a-81fd-de4aa40d0144",
   "metadata": {
    "tags": []
   },
   "outputs": [],
   "source": [
    "\n",
    "def quick_sort(data_list, start=None, end=None):\n",
    "    # 設定第一次呼叫時 start and end 的位置\n",
    "    if start is None:\n",
    "        start = 0\n",
    "    if end is None:\n",
    "        end = len(data_list)-1\n",
    "        \n",
    "    # 只有一個 element，表示位置OK\n",
    "    if start==end:\n",
    "        return\n",
    "    # 如果 start 超過 end，表示不需要執行了\n",
    "    if start>end:\n",
    "        return\n",
    "    \n",
    "    P = end  # pivot\n",
    "    L = start  # left index\n",
    "    R = end - 1  # right index\n",
    "    \n",
    "    while True:\n",
    "        # 左邊指標不斷往右，最多會被加到end+1，然後 break \n",
    "        while L<=end and data_list[L]<=data_list[P]:\n",
    "            L+=1\n",
    "        # 右邊指標不斷往左，最小會被減到 start-1，然後break\n",
    "        while start<=R and data_list[R]>=data_list[P]:\n",
    "            R-=1\n",
    "        # 一開始我只寫了 start<R，讓 R 最多停在 start\n",
    "        # 配合下面寫成 if R==start，表示 pivot為最小值\n",
    "        # 但是如果這樣寫，[4,5]這個排序，就會變成 L=0, R=0\n",
    "        # 然後 [4]會和[5]交換，變成[5,4]\n",
    "        # 所以光讓 L 停在 end 或是 R 停在 start 還不夠，要超過，才能充分表達出 pivot是極值\n",
    "\n",
    "        # 另外，data_list[L]<=data_list[P];data_list[R]>=data_list[P]\n",
    "        # <=/>=才能相容於同數值的情況\n",
    "            \n",
    "        # 當R跑到<start，Pivot 是最小的，這時候要把 pivot與 start相對掉\n",
    "        if R<start:\n",
    "            data_list[P], data_list[start] = data_list[start], data_list[P]\n",
    "            P = start\n",
    "            break\n",
    "        # 當L跑到>end，表示 Pivot 是最大的\n",
    "        if L>end:\n",
    "            P = end  # 其實這句可以省略，但可以和 R<start 相對照\n",
    "            break\n",
    "\n",
    "        # R 所在的位置與其左都比 Pivot 小，L所在的位置以及其右至P-1都比 pivot 大\n",
    "        # 所以 L 與 P 交換\n",
    "        elif R<L:\n",
    "            data_list[P], data_list[L] = data_list[L], data_list[P]\n",
    "            # update Pivot 位置到 L\n",
    "            P = L\n",
    "            break\n",
    "        # L所在的位置比P大，R所在的位置比P小\n",
    "        # 所以L，R交換\n",
    "        else:\n",
    "            data_list[L], data_list[R] = data_list[R], data_list[L]\n",
    "            \n",
    "    # 之後分兩邊\n",
    "    # 因為一開始設定了如果 start>=end 就會結束，所以不會出問題\n",
    "    quick_sort(data_list, start, P-1)\n",
    "    quick_sort(data_list, P+1, end)\n"
   ]
  },
  {
   "cell_type": "markdown",
   "id": "87a6ee24-6f40-4232-870a-58488bf90d64",
   "metadata": {},
   "source": [
    "\n",
    "## Solution"
   ]
  },
  {
   "cell_type": "code",
   "execution_count": null,
   "id": "2c0082f2-075b-4cf9-a69b-bc86de748d68",
   "metadata": {},
   "outputs": [],
   "source": [
    "def partition(data_list, low, high):\n",
    "    i = low - 1  # used to swapping value\n",
    "    pivot = data_list[high]\n",
    "    for j in range(low, high):\n",
    "        if data_list[j]<= pivot:\n",
    "            i+=1\n",
    "            \n",
    "    \n",
    "    "
   ]
  }
 ],
 "metadata": {
  "kernelspec": {
   "display_name": "Python 3",
   "language": "python",
   "name": "python3"
  },
  "language_info": {
   "codemirror_mode": {
    "name": "ipython",
    "version": 3
   },
   "file_extension": ".py",
   "mimetype": "text/x-python",
   "name": "python",
   "nbconvert_exporter": "python",
   "pygments_lexer": "ipython3",
   "version": "3.8.10"
  }
 },
 "nbformat": 4,
 "nbformat_minor": 5
}
