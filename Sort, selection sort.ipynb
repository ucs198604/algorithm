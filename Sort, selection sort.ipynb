{
 "cells": [
  {
   "cell_type": "markdown",
   "id": "eb84f58e-9d40-4e83-9d57-9ed7b4089a61",
   "metadata": {},
   "source": [
    "# Sort, selection sort"
   ]
  },
  {
   "cell_type": "code",
   "execution_count": 15,
   "id": "9b8b9975-f020-419f-9c79-50c44c17f96e",
   "metadata": {},
   "outputs": [
    {
     "data": {
      "text/plain": [
       "[5, 15, 14, 3, 1, 4, 6, 10, 7, 11, 16, 9, 13, 2, 19, 0, 17, 18, 8, 12]"
      ]
     },
     "execution_count": 15,
     "metadata": {},
     "output_type": "execute_result"
    }
   ],
   "source": [
    "import random\n",
    "\n",
    "data = [x for x in range(20)]\n",
    "random.shuffle(data)\n",
    "data"
   ]
  },
  {
   "cell_type": "code",
   "execution_count": 14,
   "id": "b7c64da5-9eac-4e7e-8615-89ab9d935f3a",
   "metadata": {},
   "outputs": [
    {
     "data": {
      "text/plain": [
       "[0, 1, 2, 3, 4, 5, 6, 7, 8, 9, 10, 11, 12, 13, 14, 15, 16, 17, 18, 19]"
      ]
     },
     "execution_count": 14,
     "metadata": {},
     "output_type": "execute_result"
    }
   ],
   "source": [
    "\n",
    "for i in range(len(data)):  # 開始填入的格子\n",
    "    temp_value = data[i]  # start value\n",
    "    temp_location = i  # start location\n",
    "    for j in range(i,len(data)):  # 從開頭，一直尋找到底\n",
    "        # 更新極值\n",
    "        if data[j]<temp_value:\n",
    "            temp_value = data[j]\n",
    "            temp_location = j\n",
    "    data[i], data[temp_location] = data[temp_location], data[i]\n",
    "    \n",
    "data"
   ]
  },
  {
   "cell_type": "code",
   "execution_count": 17,
   "id": "1fdc0068-055f-4df6-9a6b-12fb11f76f34",
   "metadata": {},
   "outputs": [
    {
     "data": {
      "text/plain": [
       "[0, 1, 2, 3, 4, 5, 6, 7, 8, 9, 10, 11, 12, 13, 14, 15, 16, 17, 18, 19]"
      ]
     },
     "execution_count": 17,
     "metadata": {},
     "output_type": "execute_result"
    }
   ],
   "source": [
    "# 也可以不計入 temp_value，只要紀錄 location 即可\n",
    "for i in range(len(data)):  # 開始填入的格子\n",
    "    temp_location = i  # start location\n",
    "    for j in range(i+1,len(data)):  # 從開頭，一直尋找到底\n",
    "        # 更新極值\n",
    "        if data[j]<data[temp_location]:\n",
    "            temp_location = j\n",
    "    data[i], data[temp_location] = data[temp_location], data[i]\n",
    "    \n",
    "data"
   ]
  },
  {
   "cell_type": "code",
   "execution_count": null,
   "id": "522fc0db-f6d1-4421-a5c2-48ed576eca6b",
   "metadata": {},
   "outputs": [],
   "source": []
  }
 ],
 "metadata": {
  "kernelspec": {
   "display_name": "Python 3",
   "language": "python",
   "name": "python3"
  },
  "language_info": {
   "codemirror_mode": {
    "name": "ipython",
    "version": 3
   },
   "file_extension": ".py",
   "mimetype": "text/x-python",
   "name": "python",
   "nbconvert_exporter": "python",
   "pygments_lexer": "ipython3",
   "version": "3.8.10"
  }
 },
 "nbformat": 4,
 "nbformat_minor": 5
}
