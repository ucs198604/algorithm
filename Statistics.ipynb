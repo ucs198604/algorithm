{
 "cells": [
  {
   "cell_type": "markdown",
   "id": "8e80f2f7-7245-4339-aa1c-899625fd67fe",
   "metadata": {},
   "source": [
    "# Statistics"
   ]
  },
  {
   "cell_type": "markdown",
   "id": "e9a3e5d9-ead3-4319-91fd-d4e1d5a46926",
   "metadata": {},
   "source": [
    "## Approaching T-test"
   ]
  },
  {
   "cell_type": "code",
   "execution_count": 13,
   "id": "d0263c58-a406-4d4f-86c9-8113e569d9eb",
   "metadata": {},
   "outputs": [],
   "source": [
    "import pandas as pd\n",
    "import random\n",
    "\n",
    "# Shuffle \n",
    "group_star = [84,57,63,99,72,46,76,91]\n",
    "group_no_star = [81,74,56,69,66,62,69,61,87,65,44,69]\n",
    "\n",
    "# 如果他們屬於同group，那麼合在一起就沒差\n",
    "group_together = group_star + group_no_star \n",
    "\n",
    "mean_diff_list = []\n",
    "\n",
    "for i in range(100000):\n",
    "    # shuffle and rearrange， compute means difference\n",
    "    r_selection_no_star = [v for v in group_together]\n",
    "    r_selection_star = []\n",
    "    for i in range(8):\n",
    "        r_selection_star.append(r_selection_no_star.pop(r_selection_no_star.index(random.choice(r_selection_no_star))))\n",
    "    mean_diff_list.append(sum(r_selection_star)/8-sum(r_selection_no_star)/12)"
   ]
  },
  {
   "cell_type": "code",
   "execution_count": 17,
   "id": "af49df06-cea7-43f1-8a59-eb9ec50abdd7",
   "metadata": {},
   "outputs": [
    {
     "data": {
      "text/plain": [
       "array([[<AxesSubplot:title={'center':'0'}>]], dtype=object)"
      ]
     },
     "execution_count": 17,
     "metadata": {},
     "output_type": "execute_result"
    },
    {
     "data": {
      "image/png": "[encoded data removed]",
      "text/plain": [
       "<Figure size 432x288 with 1 Axes>"
      ]
     },
     "metadata": {
      "needs_background": "light"
     },
     "output_type": "display_data"
    }
   ],
   "source": [
    "pd.DataFrame(mean_diff_list).hist(bins=30)"
   ]
  },
  {
   "cell_type": "markdown",
   "id": "378ef4e2-13a2-4d4b-aa1e-a23084f7de5e",
   "metadata": {},
   "source": [
    "## Bootstrapping resampling"
   ]
  },
  {
   "cell_type": "code",
   "execution_count": 21,
   "id": "8abe0b62-9fa7-41df-83b3-0de1742a614c",
   "metadata": {},
   "outputs": [
    {
     "data": {
      "text/plain": [
       "array([[<AxesSubplot:title={'center':'0'}>]], dtype=object)"
      ]
     },
     "execution_count": 21,
     "metadata": {},
     "output_type": "execute_result"
    },
    {
     "data": {
      "image/png": "[encoded data removed]",
      "text/plain": [
       "<Figure size 432x288 with 1 Axes>"
      ]
     },
     "metadata": {
      "needs_background": "light"
     },
     "output_type": "display_data"
    }
   ],
   "source": [
    "# Draw sampling in a sample, repeatedly\n",
    "\n",
    "origin_samples = [48,24,51,12,21,41,25,23,32,61,19,24,29,21,23,13,32,18,42,18]\n",
    "\n",
    "bootstrapping = []\n",
    "\n",
    "for i in range(100000):\n",
    "    bootstrapping.append(sum(random.choices(origin_samples, k=len(origin_samples)))/len(origin_samples))\n",
    "    \n",
    "pd.DataFrame(bootstrapping).hist(bins=30)\n"
   ]
  },
  {
   "cell_type": "code",
   "execution_count": 20,
   "id": "a4f6d43d-7941-40bc-b50b-6318bb73c4fd",
   "metadata": {},
   "outputs": [
    {
     "data": {
      "text/plain": [
       "[19, 18, 51, 13, 41, 19, 19, 23, 51, 12]"
      ]
     },
     "execution_count": 20,
     "metadata": {},
     "output_type": "execute_result"
    }
   ],
   "source": [
    "random.choices(origin_samples,k=10)"
   ]
  },
  {
   "cell_type": "markdown",
   "id": "4c830b7d-023e-4f5d-8d5d-df15b1a0ea71",
   "metadata": {},
   "source": [
    "## Cross validation"
   ]
  },
  {
   "cell_type": "code",
   "execution_count": null,
   "id": "139825ec-a32a-4630-a6e0-c4026c2a98ff",
   "metadata": {},
   "outputs": [],
   "source": []
  }
 ],
 "metadata": {
  "kernelspec": {
   "display_name": "Python 3",
   "language": "python",
   "name": "python3"
  },
  "language_info": {
   "codemirror_mode": {
    "name": "ipython",
    "version": 3
   },
   "file_extension": ".py",
   "mimetype": "text/x-python",
   "name": "python",
   "nbconvert_exporter": "python",
   "pygments_lexer": "ipython3",
   "version": "3.8.10"
  }
 },
 "nbformat": 4,
 "nbformat_minor": 5
}
