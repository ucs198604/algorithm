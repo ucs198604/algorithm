{
 "cells": [
  {
   "cell_type": "markdown",
   "metadata": {},
   "source": [
    "# AVL Tree"
   ]
  },
  {
   "cell_type": "markdown",
   "metadata": {},
   "source": [
    "## Implementing a binary search tree first"
   ]
  },
  {
   "cell_type": "code",
   "execution_count": 41,
   "metadata": {},
   "outputs": [
    {
     "name": "stdout",
     "output_type": "stream",
     "text": [
      "    1\n",
      "      20\n",
      "        25\n",
      "  40\n",
      "    45\n",
      "50\n",
      "  103\n",
      "    143\n",
      "\n",
      "Node:50, Level:5\n",
      "Node:40, Level:4\n",
      "Node:103, Level:2\n",
      "Node:1, Level:3\n",
      "Node:45, Level:1\n",
      "Node:143, Level:1\n",
      "Node:20, Level:2\n",
      "Node:25, Level:1\n"
     ]
    },
    {
     "data": {
      "text/plain": [
       "'50 40 103 1 45 143 20 25'"
      ]
     },
     "execution_count": 41,
     "metadata": {},
     "output_type": "execute_result"
    }
   ],
   "source": [
    "class BST_Node():\n",
    "    def __init__(self, value):\n",
    "        self.value = value\n",
    "        self.left = None\n",
    "        self.right = None\n",
    "        \n",
    "    # call recursively \n",
    "    def add(self, value):\n",
    "        if value<=self.value:\n",
    "            if self.left is None:\n",
    "                self.left = BST_Node(value)\n",
    "            else:\n",
    "                self.left.add(value)\n",
    "        else:\n",
    "            if self.right is None:\n",
    "                self.right = BST_Node(value)\n",
    "            else:\n",
    "                self.right.add(value)\n",
    "\n",
    "    def __str__(self, level=0):\n",
    "        return_value = '  '*level + str(self.value) + '\\n'\n",
    "        left_value = '' if self.left is None else self.left.__str__(level+1)\n",
    "        right_value = '' if self.right is None else self.right.__str__(level+1)\n",
    "        return_value = left_value + return_value + right_value\n",
    "        return return_value\n",
    "    \n",
    "    \n",
    "    # traversal by using queue\n",
    "    def levelOrder(self):\n",
    "        queue = Q()\n",
    "        queue.enQ(self)\n",
    "        return_list = []\n",
    "        \n",
    "        while queue.is_empty() is False:\n",
    "            # 拿出一個 node\n",
    "            current_node = queue.deQ()\n",
    "            return_list.append(str(current_node.value))\n",
    "            print(f\"Node:{current_node.value}, Level:{self.count_level(current_node)}\")\n",
    "            \n",
    "            # 把兩邊children 加上去\n",
    "            if current_node.left is not None:\n",
    "                queue.enQ(current_node.left)\n",
    "            if current_node.right is not None:\n",
    "                queue.enQ(current_node.right)\n",
    "            \n",
    "        return ' '.join(return_list)\n",
    "    \n",
    "    # my solution\n",
    "    def count_level(self, current_node=None):\n",
    "        # initial call, set as self\n",
    "        if current_node is None:\n",
    "            current_node = self\n",
    "            \n",
    "        # right arm, left arm, 取高的, 加上1\n",
    "        # 從最末端往回推算。leaf node -> return 1 -> 依序往上加\n",
    "        right = 0 if current_node.right is None else self.count_level(current_node.right)\n",
    "        left = 0 if current_node.left is None else self.count_level(current_node.left)\n",
    "        \n",
    "        return max(left,right)+1\n",
    "    \n",
    "b = BST_Node(50)\n",
    "b.add(40)\n",
    "b.add(1)\n",
    "b.add(45)\n",
    "b.add(20)\n",
    "b.add(25)\n",
    "b.add(103)\n",
    "b.add(143)\n",
    "print(b)\n",
    "\n",
    "b.levelOrder()"
   ]
  },
  {
   "cell_type": "code",
   "execution_count": 28,
   "metadata": {},
   "outputs": [],
   "source": [
    "class Q():\n",
    "    def __init__(self):\n",
    "        self.head = None\n",
    "        self.tail = None\n",
    "        \n",
    "    def enQ(self, value):\n",
    "        new_node = N(value)\n",
    "        \n",
    "        if self.head is None:\n",
    "            self.head = new_node\n",
    "            self.tail = new_node\n",
    "        else:\n",
    "            self.tail.next = new_node\n",
    "            self.tail = new_node\n",
    "            \n",
    "    def __iter__(self):\n",
    "        current_node = self.head\n",
    "        while current_node:\n",
    "            yield current_node\n",
    "            current_node = current_node.next\n",
    "            \n",
    "    def __str__(self):\n",
    "        ret_str = [str(n.value) for n in self if n.value is not None]\n",
    "        return ' '.join(ret_str)\n",
    "            \n",
    "    def is_empty(self):\n",
    "        if self.head is None:\n",
    "            return True\n",
    "        else:\n",
    "            return False\n",
    "    \n",
    "    def deQ(self):\n",
    "        if self.is_empty():\n",
    "            return None\n",
    "        else:\n",
    "            ret_value = self.head.value\n",
    "            self.head =self.head.next\n",
    "            return ret_value\n",
    "        \n",
    "class N():\n",
    "    def __init__(self, value):\n",
    "        self.value = value\n",
    "        self.next = None\n",
    "        \n"
   ]
  },
  {
   "cell_type": "code",
   "execution_count": null,
   "metadata": {},
   "outputs": [],
   "source": []
  }
 ],
 "metadata": {
  "kernelspec": {
   "display_name": "Python 3",
   "language": "python",
   "name": "python3"
  },
  "language_info": {
   "codemirror_mode": {
    "name": "ipython",
    "version": 3
   },
   "file_extension": ".py",
   "mimetype": "text/x-python",
   "name": "python",
   "nbconvert_exporter": "python",
   "pygments_lexer": "ipython3",
   "version": "3.7.4"
  }
 },
 "nbformat": 4,
 "nbformat_minor": 4
}
