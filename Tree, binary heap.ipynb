{
 "cells": [
  {
   "cell_type": "markdown",
   "metadata": {},
   "source": [
    "## Binary heap"
   ]
  },
  {
   "cell_type": "markdown",
   "metadata": {},
   "source": [
    "### List implementation"
   ]
  },
  {
   "cell_type": "code",
   "execution_count": 92,
   "metadata": {},
   "outputs": [],
   "source": [
    "class Heap():\n",
    "    def __init__(self, size, heap_type='min'):\n",
    "        # size 是要存放到資料量\n",
    "        self.data = [None]*(size+1) # 為了計算方便，0 location 不用\n",
    "        self.current_size = 0  # 目前有 value 的數量，也是最後一個資料的 location\n",
    "        self.max_size = size  # 最大的資料儲存location。\n",
    "        self.heap_type = heap_type  # 指定 heap type\n",
    "        \n",
    "    def peek(self, size):\n",
    "        return self.data[1]  # return root node, located at [1]\n",
    "    \n",
    "    def size_of_heap(self):\n",
    "        return self.current_size\n",
    "    \n",
    "    def level_order_travasal(self):\n",
    "        for i in range(1,self.current_size+1):\n",
    "            print(self.data[i])\n",
    "            \n",
    "    def __str__(self, level=0, location=1): \n",
    "        # 有 data 給他一行，沒 data 不給行\n",
    "        # 當被查詢的 node有數值，給他根據level的空白，並在最後加一行\n",
    "        if location<=self.current_size and self.data[location] is not None:\n",
    "            root_str = '  '*level + str(self.data[location]) + '\\n'\n",
    "        else:\n",
    "            # 當被查詢 node 超過範圍了，那就不會有接下來的內容，所以 return ''\n",
    "            return ''\n",
    "        # node 的左右邊可能有內容\n",
    "        left_str = self.__str__(level+1, location*2) # 如果沒內容，那就得到 ‘’\n",
    "        right_str = self.__str__(level+1, location*2+1) # 如果有內容，會是一行 \"  \"*level+ data + 換行\n",
    "            \n",
    "        # 綜合所有內容\n",
    "        return_str = left_str + root_str + right_str\n",
    "        return return_str\n",
    "        \n",
    "    def add(self, value):\n",
    "        # 讓外部呼叫，控制流程正當性\n",
    "        location = self.current_size+1\n",
    "        if location>self.max_size:\n",
    "            raise Exception(\"The heap is full\")\n",
    "        # 呼叫 heapify，讓需要的部分recursion，其他部分不需要recuresion\n",
    "        self.data[location] = value\n",
    "        self.heapify(location)\n",
    "        self.current_size +=1\n",
    " \n",
    "    def heapify(self, location):\n",
    "        # 單純操作 heapify, 使用 recursion\n",
    "        parent_location = location//2\n",
    "        if parent_location==0:\n",
    "            return\n",
    "        # 根據 heap_type\n",
    "        if self.heap_type=='min':\n",
    "            if self.data[location]<self.data[parent_location]:\n",
    "                self.data[location],self.data[parent_location] = \\\n",
    "                    self.data[parent_location], self.data[location]\n",
    "                self.heapify(parent_location)\n",
    "            else:\n",
    "                return\n",
    "        else:\n",
    "            if self.data[location]>self.data[parent_location]:\n",
    "                self.data[location],self.data[parent_location] = \\\n",
    "                    self.data[parent_location], self.data[location]\n",
    "                self.heapify(parent_location)\n",
    "            else:\n",
    "                return\n",
    "            \n",
    "                \n",
    "        \n",
    "        \n",
    "            \n",
    "    "
   ]
  },
  {
   "cell_type": "code",
   "execution_count": 89,
   "metadata": {},
   "outputs": [
    {
     "data": {
      "text/plain": [
       "10"
      ]
     },
     "execution_count": 89,
     "metadata": {},
     "output_type": "execute_result"
    }
   ],
   "source": [
    "h.current_size"
   ]
  },
  {
   "cell_type": "code",
   "execution_count": 93,
   "metadata": {},
   "outputs": [
    {
     "name": "stdout",
     "output_type": "stream",
     "text": [
      "    1\n",
      "  4\n",
      "5\n",
      "  2\n",
      "\n",
      "5\n",
      "4\n",
      "2\n",
      "1\n"
     ]
    }
   ],
   "source": [
    "h = Heap(5,'max')\n",
    "h.add(4)\n",
    "h.add(5)\n",
    "h.add(2)\n",
    "h.add(1)\n",
    "\n",
    "print(h)\n",
    "h.level_order_travasal()"
   ]
  },
  {
   "cell_type": "code",
   "execution_count": null,
   "metadata": {},
   "outputs": [],
   "source": []
  },
  {
   "cell_type": "code",
   "execution_count": null,
   "metadata": {},
   "outputs": [],
   "source": [
    "\n",
    "# My solution for add\n",
    "    def add(self, value):\n",
    "        # 找到要被安置新資料的位置\n",
    "        location = self.current_size+1\n",
    "        # 如果超過最大限制，則報錯\n",
    "        if location>self.max_size:\n",
    "            raise Exception(\"The heap is full\")\n",
    "        \n",
    "        # 先在location加入數值\n",
    "        self.data[location] = value\n",
    "        \n",
    "        # 從location到 root，依序比對資料大小\n",
    "        # 也可以寫成 recursion\n",
    "        while True:\n",
    "            parent_location = location//2\n",
    "            # 當 location==1, parent==0 -> break，因為 data[0]為了方便起見，是None\n",
    "            if parent_location<1:\n",
    "                break\n",
    "            # 在 minimal heap，如果 child資料小於parent，則交換\n",
    "            if self.heap_type=='min':\n",
    "                if self.data[location]<self.data[parent_location]:\n",
    "                    self.data[parent_location], self.data[location] = self.data[location], self.data[parent_location]\n",
    "                else:\n",
    "                    # 在 minimal heap 情況下，如果要加的 value比 parent 大，那就結束\n",
    "                    break\n",
    "            # maximum heap\n",
    "            else:\n",
    "                if self.data[location]>self.data[parent_location]:\n",
    "                    self.data[parent_location], self.data[location] = self.data[location], self.data[parent_location]\n",
    "                else:\n",
    "                    break\n",
    "                \n",
    "            # 更新 location\n",
    "            location = parent_location\n",
    "            \n",
    "        # 調整現有資料數量\n",
    "        self.current_size+=1"
   ]
  },
  {
   "cell_type": "code",
   "execution_count": null,
   "metadata": {},
   "outputs": [],
   "source": []
  }
 ],
 "metadata": {
  "kernelspec": {
   "display_name": "Python 3",
   "language": "python",
   "name": "python3"
  },
  "language_info": {
   "codemirror_mode": {
    "name": "ipython",
    "version": 3
   },
   "file_extension": ".py",
   "mimetype": "text/x-python",
   "name": "python",
   "nbconvert_exporter": "python",
   "pygments_lexer": "ipython3",
   "version": "3.8.10"
  },
  "toc-autonumbering": false,
  "toc-showmarkdowntxt": false,
  "toc-showtags": true
 },
 "nbformat": 4,
 "nbformat_minor": 4
}
