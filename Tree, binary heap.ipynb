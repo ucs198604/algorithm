{
 "cells": [
  {
   "cell_type": "markdown",
   "metadata": {},
   "source": [
    "## Binary heap"
   ]
  },
  {
   "cell_type": "markdown",
   "metadata": {},
   "source": [
    "### List implementation"
   ]
  },
  {
   "cell_type": "code",
   "execution_count": 50,
   "metadata": {},
   "outputs": [],
   "source": [
    "class Heap():\n",
    "    def __init__(self, size):\n",
    "        self.max_size = size+1  # 為了計算方便，0 location 不用\n",
    "        self.data = [None]*(size+1)\n",
    "        self.current_size = 0  # 也是目前有 value 的location\n",
    "        \n",
    "    def peek(self, size):\n",
    "        return self.data[1]  # return root node, located at [1]\n",
    "    \n",
    "    def size_of_heap(self):\n",
    "        return self.current_size\n",
    "    \n",
    "    def level_order_travasal(self):\n",
    "        for i in range(1,self.current_size+1):\n",
    "            print(self.data[i])\n",
    "            \n",
    "    def __str__(self, level=0, location=1): \n",
    "        # 有 data 給他一行，沒 data 不給行\n",
    "        # 當被查詢的 node有數值，給他根據level的空白，並在最後加一行\n",
    "        if location<=self.current_size and self.data[location] is not None:\n",
    "            root_str = '  '*level + str(self.data[location]) + '\\n'\n",
    "        else:\n",
    "            # 當被查詢 node 超過範圍了，那就不會有接下來的內容，所以 return ''\n",
    "            return ''\n",
    "        # node 的左右邊可能有內容\n",
    "        left_str = self.__str__(level+1, location*2) # 如果沒內容，那就得到 ‘’\n",
    "        right_str = self.__str__(level+1, location*2+1) # 如果有內容，會是一行 \"  \"*level+ data + 換行\n",
    "            \n",
    "        # 綜合所有內容\n",
    "        return_str = left_str + root_str + right_str\n",
    "        return return_str\n",
    "        \n",
    "            \n",
    "    def add(self, value):\n",
    "        location = self.current_size+1\n",
    "        if location>=self.max_size:\n",
    "            raise Exception(\"The heap is full\")\n",
    "        # if currently no value\n",
    "        if location==1:\n",
    "            self.data[1] = value\n",
    "        \n",
    "        self.data[location] = value\n",
    "        \n",
    "        while True:\n",
    "            parent_location = location//2\n",
    "            if parent_location<1:\n",
    "                break\n",
    "            if self.data[location]<self.data[parent_location]:\n",
    "                # exchange data\n",
    "                self.data[parent_location], self.data[location] = self.data[location], self.data[parent_location]\n",
    "            else:\n",
    "                break\n",
    "                # 在 minimal heap 情況下，如果要加的 value比 parent 大，那就結束\n",
    "            location = parent_location\n",
    "        # size count +1\n",
    "        self.current_size+=1\n",
    "        \n",
    "            \n",
    "    "
   ]
  },
  {
   "cell_type": "code",
   "execution_count": 51,
   "metadata": {},
   "outputs": [
    {
     "name": "stdout",
     "output_type": "stream",
     "text": [
      "      7\n",
      "    3\n",
      "      8\n",
      "  1\n",
      "      9\n",
      "    4\n",
      "0\n",
      "    5\n",
      "  2\n",
      "    6\n",
      "\n",
      "      7\n",
      "    3\n",
      "      8\n",
      "  0\n",
      "      9\n",
      "    1\n",
      "      4\n",
      "-1\n",
      "    5\n",
      "  2\n",
      "    6\n",
      "\n"
     ]
    }
   ],
   "source": [
    "h = Heap(100)\n",
    "for i in range(10):\n",
    "    h.add(i)\n",
    "\n",
    "print(h)\n",
    "h.add(-1)\n",
    "print(h)\n",
    "#h.level_order_travasal()"
   ]
  },
  {
   "cell_type": "code",
   "execution_count": null,
   "metadata": {},
   "outputs": [],
   "source": []
  },
  {
   "cell_type": "code",
   "execution_count": null,
   "metadata": {},
   "outputs": [],
   "source": []
  },
  {
   "cell_type": "code",
   "execution_count": null,
   "metadata": {},
   "outputs": [],
   "source": []
  }
 ],
 "metadata": {
  "kernelspec": {
   "display_name": "Python 3",
   "language": "python",
   "name": "python3"
  },
  "language_info": {
   "codemirror_mode": {
    "name": "ipython",
    "version": 3
   },
   "file_extension": ".py",
   "mimetype": "text/x-python",
   "name": "python",
   "nbconvert_exporter": "python",
   "pygments_lexer": "ipython3",
   "version": "3.8.10"
  },
  "toc-autonumbering": false,
  "toc-showmarkdowntxt": false,
  "toc-showtags": true
 },
 "nbformat": 4,
 "nbformat_minor": 4
}
