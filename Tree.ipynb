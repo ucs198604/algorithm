{
 "cells": [
  {
   "cell_type": "markdown",
   "metadata": {},
   "source": [
    "## Tree"
   ]
  },
  {
   "cell_type": "code",
   "execution_count": 7,
   "metadata": {},
   "outputs": [
    {
     "name": "stdout",
     "output_type": "stream",
     "text": [
      "Drinks\n",
      "  Cold\n",
      "    Sugar\n",
      "    No Sugar\n",
      "  Hot\n",
      "    Sugar\n",
      "    No Sugar\n",
      "\n"
     ]
    }
   ],
   "source": [
    "\n",
    "# Tree is constructed by many TreeNodes\n",
    "\n",
    "class TreeNode():\n",
    "    def __init__(self, value, children=[]):\n",
    "        self.data = value\n",
    "        self.children = children  # children of TreeNodes\n",
    "        \n",
    "    def __str__(self, level=0):\n",
    "        # 每多一層，就多騰出空間\n",
    "        ret = '  '*level + str(self.data) + '\\n'\n",
    "        # draw every children\n",
    "        \n",
    "        for child in self.children:\n",
    "            ret += child.__str__(level+1)\n",
    "        return ret\n",
    "    \n",
    "    def addChild(self, TreeNode):\n",
    "        self.children.append(TreeNode)\n",
    "\n",
    "tree = TreeNode('Drinks', [])\n",
    "cold = TreeNode('Cold', [])\n",
    "hot = TreeNode('Hot', [])\n",
    "tree.addChild(cold)\n",
    "tree.addChild(hot)\n",
    "\n",
    "cold_sugar = TreeNode('Sugar', [])\n",
    "cold_non_sugar = TreeNode('No Sugar', [])\n",
    "cold.addChild(cold_sugar)\n",
    "cold.addChild(cold_non_sugar)\n",
    "\n",
    "hot_sugar = TreeNode('Sugar', [])\n",
    "hot_non_sugar = TreeNode('No Sugar', [])\n",
    "hot.addChild(hot_sugar)\n",
    "hot.addChild(hot_non_sugar)\n",
    "\n",
    "print(tree)"
   ]
  },
  {
   "cell_type": "code",
   "execution_count": null,
   "metadata": {},
   "outputs": [],
   "source": [
    "\n"
   ]
  }
 ],
 "metadata": {
  "kernelspec": {
   "display_name": "Python 3",
   "language": "python",
   "name": "python3"
  },
  "language_info": {
   "codemirror_mode": {
    "name": "ipython",
    "version": 3
   },
   "file_extension": ".py",
   "mimetype": "text/x-python",
   "name": "python",
   "nbconvert_exporter": "python",
   "pygments_lexer": "ipython3",
   "version": "3.7.4"
  }
 },
 "nbformat": 4,
 "nbformat_minor": 4
}
