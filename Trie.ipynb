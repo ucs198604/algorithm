{
 "cells": [
  {
   "cell_type": "markdown",
   "id": "d2eb501b-e5e8-48ea-bab1-a2653c18b16b",
   "metadata": {},
   "source": [
    "# Trie"
   ]
  },
  {
   "cell_type": "code",
   "execution_count": 76,
   "id": "d9506570-ed73-4b02-ac8b-324f1f97cac4",
   "metadata": {},
   "outputs": [],
   "source": [
    "# Creation of node\n",
    "class Trie():\n",
    "    def __init__(self):\n",
    "        self.root = Trie_node()\n",
    "        \n",
    "    def __str__(self):\n",
    "        return '\\n'.join(self.word_list())\n",
    "        \n",
    "    def word_list(self, current_node=None):\n",
    "        if current_node is None:\n",
    "            current_node = self.root\n",
    "        if len(self.root.children)==0:\n",
    "            return ''\n",
    "        return_list = []\n",
    "        # 如果目前node是end of string，則加入空白，好讓最後來新增目前的 chr\n",
    "        if current_node.is_eos==True:\n",
    "            return_list.append('')\n",
    "        for child_node in current_node.children.values():\n",
    "            return_list = return_list + self.word_list(child_node)\n",
    "        # 針對每個 return_list 的元素的前面，都加上目前的 character\n",
    "        for i in range(len(return_list)):\n",
    "            return_list[i] = current_node.chr + return_list[i]\n",
    "        return return_list\n",
    "        \n",
    "    def insert(self, string):\n",
    "        current_node = self.root  # start from root\n",
    "        for ch in string:\n",
    "            # 如果沒在連結字典裡面，則新增\n",
    "            if ch not in current_node.children:\n",
    "                new_node = Trie_node(ch)  # 建立一個 trie node\n",
    "                current_node.children[ch] = new_node  # 指定連結\n",
    "                current_node = new_node  # 下一個\n",
    "            else:\n",
    "                current_node = current_node.children[ch]  # 藉由連結字典，移動到下一個 node\n",
    "        current_node.is_eos = True  # 設定為一個字的結束\n",
    "                \n",
    "    def search(self, string):\n",
    "        # initiate\n",
    "        current_node = self.root\n",
    "        for ch in string:\n",
    "            if ch not in current_node.children:\n",
    "                # 如果不在 children 裡面，則回報 false\n",
    "                return False\n",
    "            # 繼續下一個 node\n",
    "            current_node = current_node.children[ch]\n",
    "        # 要檢查是不是 eos，如果不是eos，其實不在裡面，只是有重複的 character而已\n",
    "        if current_node.is_eos==True:\n",
    "            return True\n",
    "        else:\n",
    "            return False\n",
    "        \n",
    "class Trie_node():\n",
    "    def __init__(self, character=None):\n",
    "        if character is None:\n",
    "            character = ''\n",
    "        self.chr = character\n",
    "        self.children = {}  # 儲存跟下一個資料的連結\n",
    "        self.is_eos = False  # 是否為 end of string"
   ]
  },
  {
   "cell_type": "code",
   "execution_count": 89,
   "id": "f1b206f6-3594-4938-97da-859c16b6b6b0",
   "metadata": {},
   "outputs": [],
   "source": [
    "t = Trie()\n",
    "t.insert('love')\n",
    "t.insert('load')\n",
    "t.insert('life')\n",
    "t.insert('loaf')\n",
    "t.insert('lake')\n",
    "t.insert('loop')\n",
    "t.insert('lo')"
   ]
  },
  {
   "cell_type": "code",
   "execution_count": 90,
   "id": "6eec6796-7892-4782-af88-fff34c7bb82f",
   "metadata": {},
   "outputs": [
    {
     "data": {
      "text/plain": [
       "True"
      ]
     },
     "execution_count": 90,
     "metadata": {},
     "output_type": "execute_result"
    }
   ],
   "source": [
    "t.search('love')"
   ]
  },
  {
   "cell_type": "code",
   "execution_count": null,
   "id": "82e007d0-1870-411a-ac12-e4566ee6ed0c",
   "metadata": {},
   "outputs": [],
   "source": []
  }
 ],
 "metadata": {
  "kernelspec": {
   "display_name": "Python 3",
   "language": "python",
   "name": "python3"
  },
  "language_info": {
   "codemirror_mode": {
    "name": "ipython",
    "version": 3
   },
   "file_extension": ".py",
   "mimetype": "text/x-python",
   "name": "python",
   "nbconvert_exporter": "python",
   "pygments_lexer": "ipython3",
   "version": "3.8.10"
  }
 },
 "nbformat": 4,
 "nbformat_minor": 5
}
